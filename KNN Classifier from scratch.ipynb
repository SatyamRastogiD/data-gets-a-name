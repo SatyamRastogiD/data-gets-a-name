{
 "cells": [
  {
   "cell_type": "code",
   "execution_count": null,
   "metadata": {},
   "outputs": [],
   "source": [
    "#  _      _       ____  ____  ____  _  _____ _      _      _____ _      _____ \n",
    "# / \\__/|/ \\     /  _ \\/ ___\\/ ___\\/ \\/  __// \\  /|/ \\__/|/  __// \\  /|/__ __\\\n",
    "# | |\\/||| |     | / \\||    \\|    \\| || |  _| |\\ ||| |\\/|||  \\  | |\\ ||  / \\  \n",
    "# | |  ||| |_/\\  | |-||\\___ |\\___ || || |_//| | \\||| |  |||  /_ | | \\||  | |  \n",
    "# \\_/  \\|\\____/  \\_/ \\|\\____/\\____/\\_/\\____\\\\_/  \\|\\_/  \\|\\____\\\\_/  \\|  \\_/  \n",
    "                                                                            \n",
    "#  ____  _     \n",
    "# /  _ \\/ \\  /|\n",
    "# | / \\|| |\\ ||\n",
    "# | \\_/|| | \\||\n",
    "# \\____/\\_/  \\|\n",
    "             \n",
    "\n",
    "#  _  __ _      _     \n",
    "# / |/ // \\  /|/ \\  /|\n",
    "# |   / | |\\ ||| |\\ ||\n",
    "# |   \\ | | \\||| | \\||\n",
    "# \\_|\\_\\\\_/  \\|\\_/  \\|\n",
    "\n",
    "\n",
    "# By Satyam Rastogi (E20030)"
   ]
  },
  {
   "cell_type": "markdown",
   "metadata": {},
   "source": [
    "Creating a function for finding the nearest neighbours based on euclideon distance"
   ]
  },
  {
   "cell_type": "code",
   "execution_count": 90,
   "metadata": {},
   "outputs": [],
   "source": [
    "def find_the_neighbors(k, X_train, guest_point):\n",
    "    neighbor_array = [] # empty list where distances will be saved\n",
    "    for i in range(len(X_train)):\n",
    "        # It calculates euclideon distance \n",
    "        dist = np.sqrt(sum(np.square(X_train[i]-guest_point)))\n",
    "        # this will save row/element and its distance with other row/element. \n",
    "        neighbor_array.append([i, dist])\n",
    "    neighbor_array = sorted(neighbor_array, key = lambda x : x[1]) # it sorts the list in ascending order so that neighbours with mi distacne can be sorted\n",
    "    \n",
    "    return neighbor_array[0:k] #it will return the array of k neighbours as mentioned by user"
   ]
  },
  {
   "cell_type": "markdown",
   "metadata": {},
   "source": [
    "Creating classifier funtion to classify the Guest_point( or latest point) based on the majority"
   ]
  },
  {
   "cell_type": "code",
   "execution_count": 134,
   "metadata": {},
   "outputs": [],
   "source": [
    "from collections import Counter\n",
    "def classifier(neighbor_array):\n",
    "    class_array.append(y[neighbor_array[i][0]])\n",
    "    return Counter(class_array).most_common(1)[0][0]"
   ]
  },
  {
   "cell_type": "markdown",
   "metadata": {},
   "source": [
    "Testing the Funtion"
   ]
  },
  {
   "cell_type": "code",
   "execution_count": 85,
   "metadata": {},
   "outputs": [],
   "source": [
    "from sklearn import datasets"
   ]
  },
  {
   "cell_type": "code",
   "execution_count": 89,
   "metadata": {},
   "outputs": [],
   "source": [
    "iris = datasets.load_iris()\n",
    "X = iris.data  # we only take the first two features.\n",
    "y = iris.target"
   ]
  },
  {
   "cell_type": "code",
   "execution_count": 157,
   "metadata": {},
   "outputs": [],
   "source": [
    "# random point to test the function\n",
    "guest_point = np.array([3,2,3,4])"
   ]
  },
  {
   "cell_type": "code",
   "execution_count": 105,
   "metadata": {},
   "outputs": [
    {
     "data": {
      "text/plain": [
       "[[106, 3.3763886032268267], [57, 3.5860842154082215], [59, 3.5916569992135945]]"
      ]
     },
     "execution_count": 105,
     "metadata": {},
     "output_type": "execute_result"
    }
   ],
   "source": [
    "z = find_the_neighbors(3,X,guest_point) # saving the output in a z variable"
   ]
  },
  {
   "cell_type": "code",
   "execution_count": 158,
   "metadata": {},
   "outputs": [
    {
     "data": {
      "text/plain": [
       "1"
      ]
     },
     "execution_count": 158,
     "metadata": {},
     "output_type": "execute_result"
    }
   ],
   "source": [
    "# findint the class for the new point\n",
    "classifier(z)"
   ]
  },
  {
   "cell_type": "code",
   "execution_count": null,
   "metadata": {},
   "outputs": [],
   "source": []
  }
 ],
 "metadata": {
  "kernelspec": {
   "display_name": "Python 3",
   "language": "python",
   "name": "python3"
  },
  "language_info": {
   "codemirror_mode": {
    "name": "ipython",
    "version": 3
   },
   "file_extension": ".py",
   "mimetype": "text/x-python",
   "name": "python",
   "nbconvert_exporter": "python",
   "pygments_lexer": "ipython3",
   "version": "3.7.7"
  }
 },
 "nbformat": 4,
 "nbformat_minor": 4
}
