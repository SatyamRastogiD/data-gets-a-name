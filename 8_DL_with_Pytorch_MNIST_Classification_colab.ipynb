{
  "nbformat": 4,
  "nbformat_minor": 0,
  "metadata": {
    "colab": {
      "name": "8_DL_with_Pytorch_MNIST_Classification_colab.ipynb",
      "provenance": []
    },
    "kernelspec": {
      "display_name": "Python 3",
      "language": "python",
      "name": "python3"
    },
    "language_info": {
      "codemirror_mode": {
        "name": "ipython",
        "version": 3
      },
      "file_extension": ".py",
      "mimetype": "text/x-python",
      "name": "python",
      "nbconvert_exporter": "python",
      "pygments_lexer": "ipython3",
      "version": "3.6.9"
    },
    "toc": {
      "base_numbering": 1,
      "nav_menu": {},
      "number_sections": true,
      "sideBar": true,
      "skip_h1_title": false,
      "title_cell": "Table of Contents",
      "title_sidebar": "Contents",
      "toc_cell": false,
      "toc_position": {},
      "toc_section_display": true,
      "toc_window_display": false
    }
  },
  "cells": [
    {
      "cell_type": "markdown",
      "metadata": {
        "_uuid": "1a991e7f539673da033393d34767c7335318ab9a",
        "id": "9Vvp6QLz4C9y"
      },
      "source": [
        "**Agenda:**\n",
        "<br>\n",
        "For this tutorial in  Deep Learning(DL) with Pytorch, we are going to explore Multi Layered Perceptron architecture and learn Pytorch by implementing  algorithms under a certain usecase.We will cover the following:\n",
        "1. Deep Learning basics with Pytorch\n",
        "2. Multilayered Perceptron (MLP) implemention on  MNIST\n",
        "<br>\n",
        "\n",
        "Lets get started !!\n"
      ]
    },
    {
      "cell_type": "markdown",
      "metadata": {
        "_uuid": "8f02da80b362a4233b75cb0f9e9656525e37befa",
        "id": "L45gM0dy4C9z"
      },
      "source": [
        "![](images/mlp.png)"
      ]
    },
    {
      "cell_type": "markdown",
      "metadata": {
        "_uuid": "6145a827010b47e713d5bcdb6f89d8042040d75f",
        "id": "FtyNV4e_4C91"
      },
      "source": [
        "# **1. Deep Learning basics with Pytorch**\n",
        "<br>\n",
        "In this part we will cover the following:\n",
        "\n",
        "1. Learn to play with tensors on numpy and pytorch \n",
        "2. Learn to build a simple feed forward network from scratch with random data \n",
        "3. Learn to build an end to end MLP for MNIST dataset"
      ]
    },
    {
      "cell_type": "markdown",
      "metadata": {
        "id": "vDr4q0SY4C93"
      },
      "source": [
        "##  Imports"
      ]
    },
    {
      "cell_type": "code",
      "metadata": {
        "ExecuteTime": {
          "end_time": "2019-06-29T06:23:59.969638Z",
          "start_time": "2019-06-29T06:22:56.981582Z"
        },
        "_cell_guid": "b1076dfc-b9ad-4769-8c92-a6c4dae69d19",
        "_uuid": "8f2839f25d086af736a60e9eeb907d3b93b6e0e5",
        "id": "FqzxX9Xy4C94",
        "outputId": "5e17e36d-d0a4-4699-d3f1-4453a126095f",
        "colab": {
          "base_uri": "https://localhost:8080/",
          "height": 34
        }
      },
      "source": [
        "#!pip3 install torch torchvision\n",
        "\n",
        "# This Python 3 environment comes with many helpful analytics libraries installed\n",
        "# It is defined by the kaggle/python docker image: https://github.com/kaggle/docker-python\n",
        "# For example, here's several helpful packages to load in \n",
        "\n",
        "import numpy as np # linear algebra\n",
        "import pandas as pd # data processing, CSV file I/O (e.g. pd.read_csv)\n",
        "\n",
        "# Input data files are available in the \"../input/\" directory.\n",
        "# For example, running this (by clicking run or pressing Shift+Enter) will list the files in the input directory\n",
        "\n",
        "import os\n",
        "#print(\"List of files\",os.listdir(\"../input\"))\n",
        "import torch\n",
        "import numpy as np\n",
        "print(\"Torch Version:\",torch.__version__)\n",
        "# Any results you write to the current directory are saved as output."
      ],
      "execution_count": 144,
      "outputs": [
        {
          "output_type": "stream",
          "text": [
            "Torch Version: 1.6.0+cu101\n"
          ],
          "name": "stdout"
        }
      ]
    },
    {
      "cell_type": "markdown",
      "metadata": {
        "_uuid": "1e8017c3ed94f083df4e2bf071f7f5f422c40ca1",
        "id": "XZ1sqauc4C98"
      },
      "source": [
        "## Helper Functions"
      ]
    },
    {
      "cell_type": "code",
      "metadata": {
        "_uuid": "8f08b918b1e2513ad7c1f382cfba39b0205aba6e",
        "id": "m4BiKJI74C99"
      },
      "source": [
        "import matplotlib.pyplot as plt\n",
        "import numpy as np\n",
        "from torch import nn, optim\n",
        "from torch.autograd import Variable\n",
        "\n",
        "\n",
        "def test_network(net, trainloader):\n",
        "\n",
        "    criterion = nn.MSELoss()\n",
        "    optimizer = optim.Adam(net.parameters(), lr=0.001)\n",
        "\n",
        "    dataiter = iter(trainloader)\n",
        "    images, labels = dataiter.next()\n",
        "\n",
        "    # Create Variables for the inputs and targets\n",
        "    inputs = Variable(images)\n",
        "    targets = Variable(images)\n",
        "\n",
        "    # Clear the gradients from all Variables\n",
        "    optimizer.zero_grad()\n",
        "\n",
        "    # Forward pass, then backward pass, then update weights\n",
        "    output = net.forward(inputs)\n",
        "    loss = criterion(output, targets)\n",
        "    loss.backward()\n",
        "    optimizer.step()\n",
        "\n",
        "    return True\n",
        "\n",
        "\n",
        "def imshow(image, ax=None, title=None, normalize=True):\n",
        "    \"\"\"Imshow for Tensor.\"\"\"\n",
        "    if ax is None:\n",
        "        fig, ax = plt.subplots()\n",
        "    image = image.numpy().transpose((1, 2, 0))\n",
        "\n",
        "    if normalize:\n",
        "        mean = np.array([0.485, 0.456, 0.406])\n",
        "        std = np.array([0.229, 0.224, 0.225])\n",
        "        image = std * image + mean\n",
        "        image = np.clip(image, 0, 1)\n",
        "\n",
        "    ax.imshow(image)\n",
        "    ax.spines['top'].set_visible(False)\n",
        "    ax.spines['right'].set_visible(False)\n",
        "    ax.spines['left'].set_visible(False)\n",
        "    ax.spines['bottom'].set_visible(False)\n",
        "    ax.tick_params(axis='both', length=0)\n",
        "    ax.set_xticklabels('')\n",
        "    ax.set_yticklabels('')\n",
        "\n",
        "    return ax\n",
        "\n",
        "\n",
        "def view_recon(img, recon):\n",
        "    ''' Function for displaying an image (as a PyTorch Tensor) and its\n",
        "        reconstruction also a PyTorch Tensor\n",
        "    '''\n",
        "\n",
        "    fig, axes = plt.subplots(ncols=2, sharex=True, sharey=True)\n",
        "    axes[0].imshow(img.numpy().squeeze())\n",
        "    axes[1].imshow(recon.data.numpy().squeeze())\n",
        "    for ax in axes:\n",
        "        ax.axis('off')\n",
        "        ax.set_adjustable('box-forced')\n",
        "\n",
        "def view_classify(img, ps, version=\"MNIST\"):\n",
        "    ''' Function for viewing an image and it's predicted classes.\n",
        "    '''\n",
        "    ps = ps.data.numpy().squeeze()\n",
        "\n",
        "    fig, (ax1, ax2) = plt.subplots(figsize=(6,9), ncols=2)\n",
        "    ax1.imshow(img.resize_(1, 28, 28).numpy().squeeze())\n",
        "    ax1.axis('off')\n",
        "    ax2.barh(np.arange(10), ps)\n",
        "    ax2.set_aspect(0.1)\n",
        "    ax2.set_yticks(np.arange(10))\n",
        "    if version == \"MNIST\":\n",
        "        ax2.set_yticklabels(np.arange(10))\n",
        "    elif version == \"Fashion\":\n",
        "        ax2.set_yticklabels(['T-shirt/top',\n",
        "                            'Trouser',\n",
        "                            'Pullover',\n",
        "                            'Dress',\n",
        "                            'Coat',\n",
        "                            'Sandal',\n",
        "                            'Shirt',\n",
        "                            'Sneaker',\n",
        "                            'Bag',\n",
        "                            'Ankle Boot'], size='small');\n",
        "    ax2.set_title('Class Probability')\n",
        "    ax2.set_xlim(0, 1.1)\n",
        "\n",
        "    plt.tight_layout()\n"
      ],
      "execution_count": 145,
      "outputs": []
    },
    {
      "cell_type": "markdown",
      "metadata": {
        "_uuid": "cc2337505994f4530913183436b9f4bf8a118599",
        "id": "YAYW22Rh4C-B"
      },
      "source": [
        "## Tensors\n",
        "It turns out neural network computations are just a bunch of linear algebra operations on *tensors*, a generalization of matrices. A vector is a 1-dimensional tensor, a matrix is a 2-dimensional tensor, an array with three indices is a 3-dimensional tensor (RGB color images for example). The fundamental data structure for neural networks are tensors and PyTorch (as well as pretty much every other deep learning framework) is built around tensors.\n",
        "\n",
        "Tensors are similar to NumPy’s ndarrays, with the addition being that Tensors can also be used on a GPU to accelerate computing.\n",
        "\n",
        "<img src=\"images/tensor_examples.svg\" width=600px>\n"
      ]
    },
    {
      "cell_type": "markdown",
      "metadata": {
        "id": "iB71Npbp4C-C"
      },
      "source": [
        "### Construct a randomly initialized 5x3 matrix:\n",
        "\n",
        "\n"
      ]
    },
    {
      "cell_type": "code",
      "metadata": {
        "ExecuteTime": {
          "end_time": "2019-02-04T11:21:36.971841Z",
          "start_time": "2019-02-04T11:21:36.623384Z"
        },
        "id": "oLdA8qkA4C-D",
        "outputId": "c20dc4eb-ae14-4a60-93e1-3ac02a7509a6",
        "colab": {
          "base_uri": "https://localhost:8080/",
          "height": 101
        }
      },
      "source": [
        "x = torch.rand(5, 3)\n",
        "print(x)"
      ],
      "execution_count": 146,
      "outputs": [
        {
          "output_type": "stream",
          "text": [
            "tensor([[0.9133, 0.4853, 0.4789],\n",
            "        [0.1678, 0.0105, 0.5603],\n",
            "        [0.3783, 0.6199, 0.5960],\n",
            "        [0.6725, 0.8376, 0.2885],\n",
            "        [0.1958, 0.9483, 0.8066]])\n"
          ],
          "name": "stdout"
        }
      ]
    },
    {
      "cell_type": "markdown",
      "metadata": {
        "id": "FdMjupDY4C-H"
      },
      "source": [
        "### Construct a tensor directly from data:"
      ]
    },
    {
      "cell_type": "code",
      "metadata": {
        "ExecuteTime": {
          "end_time": "2019-02-04T11:22:21.040158Z",
          "start_time": "2019-02-04T11:22:21.033606Z"
        },
        "id": "7KjxFCsl4C-I",
        "outputId": "b0aa0eda-0ab6-476e-961c-acb6c2aed23d",
        "colab": {
          "base_uri": "https://localhost:8080/",
          "height": 34
        }
      },
      "source": [
        "x = torch.tensor([5.5, 3])\n",
        "print(x)"
      ],
      "execution_count": 147,
      "outputs": [
        {
          "output_type": "stream",
          "text": [
            "tensor([5.5000, 3.0000])\n"
          ],
          "name": "stdout"
        }
      ]
    },
    {
      "cell_type": "markdown",
      "metadata": {
        "_uuid": "1afe587702c9d925968dc34d4e7f515b700d9089",
        "id": "N2_NMiwy4C-M"
      },
      "source": [
        "### Numpy to Torch and back\n",
        "\n",
        "PyTorch has a great feature for converting between Numpy arrays and Torch tensors. Let us see how easy it is to switch between the two\n",
        "\n",
        "### Ceate a tensor using numpy array"
      ]
    },
    {
      "cell_type": "code",
      "metadata": {
        "_uuid": "35d8b903e1564ee833e2d0ed2ea00d40b61aa16e",
        "id": "lfm27TeL4C-M",
        "outputId": "bcc88fb1-5378-4d19-a237-95867def6fe0",
        "colab": {
          "base_uri": "https://localhost:8080/",
          "height": 118
        }
      },
      "source": [
        "np_array=np.random.randn(5,3)\n",
        "print(f' Numpy array:\\n {np_array}')"
      ],
      "execution_count": 148,
      "outputs": [
        {
          "output_type": "stream",
          "text": [
            " Numpy array:\n",
            " [[-1.01400741 -1.06280928 -0.07473953]\n",
            " [ 0.66894273 -0.40848395  0.52251933]\n",
            " [ 0.62599359  0.8353863  -0.20888741]\n",
            " [ 1.12222773 -0.13624292  0.70523399]\n",
            " [ 0.71750261 -0.44900896  0.8344405 ]]\n"
          ],
          "name": "stdout"
        }
      ]
    },
    {
      "cell_type": "markdown",
      "metadata": {
        "_uuid": "1d82db999b723fa737510352cf47d96a62b8d63b",
        "id": "Nq9cmqeH4C-S"
      },
      "source": [
        "### Convert to torch tensor"
      ]
    },
    {
      "cell_type": "code",
      "metadata": {
        "_uuid": "1cbd6fd48cf54645f924d354fc9fb5856bf1ddc1",
        "id": "yTcHR5qk4C-U",
        "outputId": "2eb6a05f-28d5-4504-ba90-2fb90a4dbe0e",
        "colab": {
          "base_uri": "https://localhost:8080/",
          "height": 118
        }
      },
      "source": [
        "torch_tensor=torch.from_numpy(np_array)\n",
        "print(f'Torch tensor:\\n {torch_tensor}')"
      ],
      "execution_count": 149,
      "outputs": [
        {
          "output_type": "stream",
          "text": [
            "Torch tensor:\n",
            " tensor([[-1.0140, -1.0628, -0.0747],\n",
            "        [ 0.6689, -0.4085,  0.5225],\n",
            "        [ 0.6260,  0.8354, -0.2089],\n",
            "        [ 1.1222, -0.1362,  0.7052],\n",
            "        [ 0.7175, -0.4490,  0.8344]], dtype=torch.float64)\n"
          ],
          "name": "stdout"
        }
      ]
    },
    {
      "cell_type": "markdown",
      "metadata": {
        "_uuid": "31fe8979751ba061cc81055bbc5079bed1cb0124",
        "id": "13IACWyu4C-Y"
      },
      "source": [
        "### Convert back to numpy array"
      ]
    },
    {
      "cell_type": "code",
      "metadata": {
        "_uuid": "e72bac0d8c4870f97b1d1724c0bce3fd84b50450",
        "id": "403oY_8S4C-Z",
        "outputId": "4efb5ceb-e40d-4c1e-b2ce-10c9f2d6f2ff",
        "colab": {
          "base_uri": "https://localhost:8080/",
          "height": 101
        }
      },
      "source": [
        "torch_tensor.numpy()"
      ],
      "execution_count": 150,
      "outputs": [
        {
          "output_type": "execute_result",
          "data": {
            "text/plain": [
              "array([[-1.01400741, -1.06280928, -0.07473953],\n",
              "       [ 0.66894273, -0.40848395,  0.52251933],\n",
              "       [ 0.62599359,  0.8353863 , -0.20888741],\n",
              "       [ 1.12222773, -0.13624292,  0.70523399],\n",
              "       [ 0.71750261, -0.44900896,  0.8344405 ]])"
            ]
          },
          "metadata": {
            "tags": []
          },
          "execution_count": 150
        }
      ]
    },
    {
      "cell_type": "markdown",
      "metadata": {
        "_uuid": "532f4e612d823389740276fdb2f1d0c9d69cb78d",
        "id": "9JtXENQc4C-c"
      },
      "source": [
        "***An important thing to note here is memory is shared between the Numpy array and Torch tensor, so if you change the values in-place of one object, the other will change as well.*       \n",
        "Let see what does it mean**"
      ]
    },
    {
      "cell_type": "code",
      "metadata": {
        "_uuid": "7a08bc968bbb69b18d7d376748f7a5333f931efe",
        "id": "OK9LEQa-4C-d",
        "outputId": "7f528dd4-003f-4891-c006-fa5ce3e9cb45",
        "colab": {
          "base_uri": "https://localhost:8080/",
          "height": 101
        }
      },
      "source": [
        "# Add 2 to PyTorch Tensor, in place\n",
        "torch_tensor.add_(2)"
      ],
      "execution_count": 151,
      "outputs": [
        {
          "output_type": "execute_result",
          "data": {
            "text/plain": [
              "tensor([[0.9860, 0.9372, 1.9253],\n",
              "        [2.6689, 1.5915, 2.5225],\n",
              "        [2.6260, 2.8354, 1.7911],\n",
              "        [3.1222, 1.8638, 2.7052],\n",
              "        [2.7175, 1.5510, 2.8344]], dtype=torch.float64)"
            ]
          },
          "metadata": {
            "tags": []
          },
          "execution_count": 151
        }
      ]
    },
    {
      "cell_type": "markdown",
      "metadata": {
        "_uuid": "15c233bd4f3539d1cf8c07878d01802607a6ab89",
        "id": "a8gtGecL4C-h"
      },
      "source": [
        "###  Numpy array matches new values from Tensor"
      ]
    },
    {
      "cell_type": "code",
      "metadata": {
        "_uuid": "3d4047f95de1ca8055e276de3246da2c6a01ccee",
        "id": "H9FKs6dC4C-j",
        "outputId": "ba60d4e0-8f56-43a0-86a6-9c323b3289e9",
        "colab": {
          "base_uri": "https://localhost:8080/",
          "height": 101
        }
      },
      "source": [
        "np_array"
      ],
      "execution_count": 152,
      "outputs": [
        {
          "output_type": "execute_result",
          "data": {
            "text/plain": [
              "array([[0.98599259, 0.93719072, 1.92526047],\n",
              "       [2.66894273, 1.59151605, 2.52251933],\n",
              "       [2.62599359, 2.8353863 , 1.79111259],\n",
              "       [3.12222773, 1.86375708, 2.70523399],\n",
              "       [2.71750261, 1.55099104, 2.8344405 ]])"
            ]
          },
          "metadata": {
            "tags": []
          },
          "execution_count": 152
        }
      ]
    },
    {
      "cell_type": "markdown",
      "metadata": {
        "_uuid": "b183396c1d82a600e1c3b1848e94e3ce5a6fbe28",
        "id": "MlIiUgFz4C-o"
      },
      "source": [
        " ## Simple Neural Network using Pytorch \n",
        " Let us see how we can use PyTorch to build a simple neural network.\n",
        "![](images/simple_neuron.PNG)\n",
        "\n",
        "Mathematically this looks like: \n",
        "\n",
        "$$\n",
        "\\begin{align}\n",
        "y &= f(w_1 x_1 + w_2 x_2 + b) \\\\\n",
        "y &= f\\left(\\sum_i w_i x_i +b \\right)\n",
        "\\end{align}\n",
        "$$\n",
        "\n",
        "With vectors this is the dot/inner product of two vectors:\n",
        "\n",
        "$$\n",
        "h = \\begin{bmatrix}\n",
        "x_1 \\, x_2 \\cdots  x_n\n",
        "\\end{bmatrix}\n",
        "\\cdot \n",
        "\\begin{bmatrix}\n",
        "           w_1 \\\\\n",
        "           w_2 \\\\\n",
        "           \\vdots \\\\\n",
        "           w_n\n",
        "\\end{bmatrix}\n",
        "$$"
      ]
    },
    {
      "cell_type": "markdown",
      "metadata": {
        "_uuid": "496c485f3e7f43a27bdce042df78fa11eb296631",
        "id": "-YeLMTFM4C-p"
      },
      "source": [
        "With the basics covered, it's time to explore how we can use PyTorch to build a simple neural network."
      ]
    },
    {
      "cell_type": "markdown",
      "metadata": {
        "_uuid": "93562b119ff2797b3660bb0968bc6c31e890b7e5",
        "id": "08TbB9Sm4C-q"
      },
      "source": [
        "###  Generate some random data \n",
        " We will create a tensor with shape (1, 5), one row and five columns, that contains values randomly distributed according to the normal distribution with a mean of zero and standard deviation of one."
      ]
    },
    {
      "cell_type": "code",
      "metadata": {
        "_uuid": "fd1ee538877f19c8a2cfac8ea123ecbdb2f4a94d",
        "id": "NWB4MQuu4C-r",
        "outputId": "51b2ff80-a738-42b4-e5ca-b2daff3cb85d",
        "colab": {
          "base_uri": "https://localhost:8080/",
          "height": 0
        }
      },
      "source": [
        "features=torch.randn(1,3)\n",
        "print(f'Number of Inout features:{features.shape[1]}')"
      ],
      "execution_count": 153,
      "outputs": [
        {
          "output_type": "stream",
          "text": [
            "Number of Inout features:3\n"
          ],
          "name": "stdout"
        }
      ]
    },
    {
      "cell_type": "markdown",
      "metadata": {
        "_uuid": "b0673d28508dd5eed49da6731c4cc1408f1efd5c",
        "id": "oABNl_OM4C-x"
      },
      "source": [
        "### Initialize Weights and Biases "
      ]
    },
    {
      "cell_type": "markdown",
      "metadata": {
        "_uuid": "7f39730f8dbaff0834b223744d0bab6bfc516e2c",
        "id": "rBChM5NH4C-y"
      },
      "source": [
        "Weights = torch.randn_like(features) creates another tensor with the same shape as features, again containing values from a normal distribution.\n",
        "\n",
        "Finally, bias = torch.randn((1, 1)) creates a single value from a normal distribution."
      ]
    },
    {
      "cell_type": "code",
      "metadata": {
        "_uuid": "3d2b5d527e0650f3d3c1942a5ee1da56bbbac7de",
        "id": "i92IlQIC4C-z"
      },
      "source": [
        "n_input=features.shape[1]   #3 input neuron\n",
        "n_hidden=2     #two hidden neuron\n",
        "n_output=1     #one output neuron\n",
        "#Weights for input to hidden layer\n",
        "W1=torch.randn(n_input,n_hidden)\n",
        "W2=torch.randn(n_hidden,n_output)\n",
        "#Bias term for hidden and output layer\n",
        "B1=torch.randn(n_hidden)\n",
        "B2=torch.randn(n_output)"
      ],
      "execution_count": 154,
      "outputs": []
    },
    {
      "cell_type": "code",
      "metadata": {
        "_uuid": "cd62c805fb7363693b56ec9dbcd00a8c404adcba",
        "id": "hjlSRWiu4C-3"
      },
      "source": [
        "#Using a Sigmoid Activation Function\n",
        "def activation(x):\n",
        "    return(1/1+torch.exp(-x))"
      ],
      "execution_count": 155,
      "outputs": []
    },
    {
      "cell_type": "markdown",
      "metadata": {
        "_uuid": "fbfeec62cfa4a35cb829897b71a4450b70ec8392",
        "id": "DrWzkrnk4C-7"
      },
      "source": [
        "### Calculate Weight and Biases\n",
        "We will calculate the output for this multi-layer network using the weights `W1` & `W2`, and the biases, `B1` & `B2`."
      ]
    },
    {
      "cell_type": "code",
      "metadata": {
        "_uuid": "bd98acc8aa8bb1d2fe06cb77ffd4a5054c07a40b",
        "id": "zC2QQjr24C-8",
        "outputId": "86825394-0f14-473d-fa0e-583e3b757a11",
        "colab": {
          "base_uri": "https://localhost:8080/",
          "height": 0
        }
      },
      "source": [
        "h1=activation(torch.matmul(features,W1)+B1)\n",
        "print(f'Hidden Layer activations:{h1}')\n",
        "out=activation(torch.matmul(h1,W2)+B2)\n",
        "print(f'Output of the network:{out}')"
      ],
      "execution_count": 156,
      "outputs": [
        {
          "output_type": "stream",
          "text": [
            "Hidden Layer activations:tensor([[4.2706, 1.6943]])\n",
            "Output of the network:tensor([[1.0002]])\n"
          ],
          "name": "stdout"
        }
      ]
    },
    {
      "cell_type": "markdown",
      "metadata": {
        "_uuid": "21b8946d94159fc86b191a82bbbb4e34d2289f53",
        "id": "xe4vu51K4C_I"
      },
      "source": [
        "## Building our Network\n",
        "Now we're going to build a larger network that can solve a (formerly) difficult problem, identifying text in an image using MNIST data\n",
        "For now our goal will be to build a neural network that can take one of these images and predict the digit in the image.First, let's try to build this network for this dataset using weight matrices and matrix multiplications. Then, we'll see how to do it using PyTorch's `nn` module which provides a much more convenient and powerful method for defining network architectures."
      ]
    },
    {
      "cell_type": "markdown",
      "metadata": {
        "_uuid": "c4c2229e3f3534db73e8d22ba73485022765f3af",
        "id": "rsLM8Yc14C_J"
      },
      "source": [
        "![](images/mnist.png)"
      ]
    },
    {
      "cell_type": "code",
      "metadata": {
        "_uuid": "d2974386321060bd66905127f3a48b9f1b177310",
        "id": "uoGmSr6P4C_K"
      },
      "source": [
        "# Import necessary packages\n",
        "\n",
        "%matplotlib inline\n",
        "%config InlineBackend.figure_format = 'retina'\n",
        "\n",
        "import numpy as np\n",
        "import torch\n",
        "import helper\n",
        "import matplotlib.pyplot as plt"
      ],
      "execution_count": 157,
      "outputs": []
    },
    {
      "cell_type": "markdown",
      "metadata": {
        "_uuid": "237092ef839e8201ecc710f53ed7154e0f865b2e",
        "id": "jMGNnSoA4C_O"
      },
      "source": [
        "### Load Dataset \n",
        "First up, we need to get our dataset.Right now we will be using MNIST dataset which is already in`torchvision` package. The code below will download the MNIST dataset, then create training and test datasets for us. "
      ]
    },
    {
      "cell_type": "code",
      "metadata": {
        "ExecuteTime": {
          "end_time": "2019-02-04T11:27:05.872957Z",
          "start_time": "2019-02-04T11:26:45.305539Z"
        },
        "_uuid": "45cde9b49e2c0e1802ff640ebab0d766233e6abe",
        "id": "Gt1AQ86c4C_P"
      },
      "source": [
        "from torchvision import datasets, transforms\n",
        "\n",
        "# Define a transform to normalize the data\n",
        "transform = transforms.Compose([transforms.ToTensor(),\n",
        "                              ])\n",
        "\n",
        "# Download and load the training data\n",
        "trainset = datasets.MNIST('MNIST_data/', download=True, train=True, transform=transform)\n",
        "trainloader = torch.utils.data.DataLoader(trainset, batch_size=64, shuffle=True)"
      ],
      "execution_count": 158,
      "outputs": []
    },
    {
      "cell_type": "markdown",
      "metadata": {
        "id": "jExiHh8b4C_T"
      },
      "source": [
        "#### what is dataset ?\n",
        "Dataset contains two data methods `__getitem__` and `__len__` so using these methods. we can directly call a single data with index"
      ]
    },
    {
      "cell_type": "code",
      "metadata": {
        "ExecuteTime": {
          "end_time": "2019-02-04T11:31:37.364338Z",
          "start_time": "2019-02-04T11:31:37.283418Z"
        },
        "id": "_vzZQG7M4C_U",
        "outputId": "28308368-215b-460c-ce7c-88fa7e1f2783",
        "colab": {
          "base_uri": "https://localhost:8080/",
          "height": 0
        }
      },
      "source": [
        "# like this way\n",
        "trainset[0]"
      ],
      "execution_count": 159,
      "outputs": [
        {
          "output_type": "execute_result",
          "data": {
            "text/plain": [
              "(tensor([[[0.0000, 0.0000, 0.0000, 0.0000, 0.0000, 0.0000, 0.0000, 0.0000,\n",
              "           0.0000, 0.0000, 0.0000, 0.0000, 0.0000, 0.0000, 0.0000, 0.0000,\n",
              "           0.0000, 0.0000, 0.0000, 0.0000, 0.0000, 0.0000, 0.0000, 0.0000,\n",
              "           0.0000, 0.0000, 0.0000, 0.0000],\n",
              "          [0.0000, 0.0000, 0.0000, 0.0000, 0.0000, 0.0000, 0.0000, 0.0000,\n",
              "           0.0000, 0.0000, 0.0000, 0.0000, 0.0000, 0.0000, 0.0000, 0.0000,\n",
              "           0.0000, 0.0000, 0.0000, 0.0000, 0.0000, 0.0000, 0.0000, 0.0000,\n",
              "           0.0000, 0.0000, 0.0000, 0.0000],\n",
              "          [0.0000, 0.0000, 0.0000, 0.0000, 0.0000, 0.0000, 0.0000, 0.0000,\n",
              "           0.0000, 0.0000, 0.0000, 0.0000, 0.0000, 0.0000, 0.0000, 0.0000,\n",
              "           0.0000, 0.0000, 0.0000, 0.0000, 0.0000, 0.0000, 0.0000, 0.0000,\n",
              "           0.0000, 0.0000, 0.0000, 0.0000],\n",
              "          [0.0000, 0.0000, 0.0000, 0.0000, 0.0000, 0.0000, 0.0000, 0.0000,\n",
              "           0.0000, 0.0000, 0.0000, 0.0000, 0.0000, 0.0000, 0.0000, 0.0000,\n",
              "           0.0000, 0.0000, 0.0000, 0.0000, 0.0000, 0.0000, 0.0000, 0.0000,\n",
              "           0.0000, 0.0000, 0.0000, 0.0000],\n",
              "          [0.0000, 0.0000, 0.0000, 0.0000, 0.0000, 0.0000, 0.0000, 0.0000,\n",
              "           0.0000, 0.0000, 0.0000, 0.0000, 0.0000, 0.0000, 0.0000, 0.0000,\n",
              "           0.0000, 0.0000, 0.0000, 0.0000, 0.0000, 0.0000, 0.0000, 0.0000,\n",
              "           0.0000, 0.0000, 0.0000, 0.0000],\n",
              "          [0.0000, 0.0000, 0.0000, 0.0000, 0.0000, 0.0000, 0.0000, 0.0000,\n",
              "           0.0000, 0.0000, 0.0000, 0.0000, 0.0118, 0.0706, 0.0706, 0.0706,\n",
              "           0.4941, 0.5333, 0.6863, 0.1020, 0.6510, 1.0000, 0.9686, 0.4980,\n",
              "           0.0000, 0.0000, 0.0000, 0.0000],\n",
              "          [0.0000, 0.0000, 0.0000, 0.0000, 0.0000, 0.0000, 0.0000, 0.0000,\n",
              "           0.1176, 0.1412, 0.3686, 0.6039, 0.6667, 0.9922, 0.9922, 0.9922,\n",
              "           0.9922, 0.9922, 0.8824, 0.6745, 0.9922, 0.9490, 0.7647, 0.2510,\n",
              "           0.0000, 0.0000, 0.0000, 0.0000],\n",
              "          [0.0000, 0.0000, 0.0000, 0.0000, 0.0000, 0.0000, 0.0000, 0.1922,\n",
              "           0.9333, 0.9922, 0.9922, 0.9922, 0.9922, 0.9922, 0.9922, 0.9922,\n",
              "           0.9922, 0.9843, 0.3647, 0.3216, 0.3216, 0.2196, 0.1529, 0.0000,\n",
              "           0.0000, 0.0000, 0.0000, 0.0000],\n",
              "          [0.0000, 0.0000, 0.0000, 0.0000, 0.0000, 0.0000, 0.0000, 0.0706,\n",
              "           0.8588, 0.9922, 0.9922, 0.9922, 0.9922, 0.9922, 0.7765, 0.7137,\n",
              "           0.9686, 0.9451, 0.0000, 0.0000, 0.0000, 0.0000, 0.0000, 0.0000,\n",
              "           0.0000, 0.0000, 0.0000, 0.0000],\n",
              "          [0.0000, 0.0000, 0.0000, 0.0000, 0.0000, 0.0000, 0.0000, 0.0000,\n",
              "           0.3137, 0.6118, 0.4196, 0.9922, 0.9922, 0.8039, 0.0431, 0.0000,\n",
              "           0.1686, 0.6039, 0.0000, 0.0000, 0.0000, 0.0000, 0.0000, 0.0000,\n",
              "           0.0000, 0.0000, 0.0000, 0.0000],\n",
              "          [0.0000, 0.0000, 0.0000, 0.0000, 0.0000, 0.0000, 0.0000, 0.0000,\n",
              "           0.0000, 0.0549, 0.0039, 0.6039, 0.9922, 0.3529, 0.0000, 0.0000,\n",
              "           0.0000, 0.0000, 0.0000, 0.0000, 0.0000, 0.0000, 0.0000, 0.0000,\n",
              "           0.0000, 0.0000, 0.0000, 0.0000],\n",
              "          [0.0000, 0.0000, 0.0000, 0.0000, 0.0000, 0.0000, 0.0000, 0.0000,\n",
              "           0.0000, 0.0000, 0.0000, 0.5451, 0.9922, 0.7451, 0.0078, 0.0000,\n",
              "           0.0000, 0.0000, 0.0000, 0.0000, 0.0000, 0.0000, 0.0000, 0.0000,\n",
              "           0.0000, 0.0000, 0.0000, 0.0000],\n",
              "          [0.0000, 0.0000, 0.0000, 0.0000, 0.0000, 0.0000, 0.0000, 0.0000,\n",
              "           0.0000, 0.0000, 0.0000, 0.0431, 0.7451, 0.9922, 0.2745, 0.0000,\n",
              "           0.0000, 0.0000, 0.0000, 0.0000, 0.0000, 0.0000, 0.0000, 0.0000,\n",
              "           0.0000, 0.0000, 0.0000, 0.0000],\n",
              "          [0.0000, 0.0000, 0.0000, 0.0000, 0.0000, 0.0000, 0.0000, 0.0000,\n",
              "           0.0000, 0.0000, 0.0000, 0.0000, 0.1373, 0.9451, 0.8824, 0.6275,\n",
              "           0.4235, 0.0039, 0.0000, 0.0000, 0.0000, 0.0000, 0.0000, 0.0000,\n",
              "           0.0000, 0.0000, 0.0000, 0.0000],\n",
              "          [0.0000, 0.0000, 0.0000, 0.0000, 0.0000, 0.0000, 0.0000, 0.0000,\n",
              "           0.0000, 0.0000, 0.0000, 0.0000, 0.0000, 0.3176, 0.9412, 0.9922,\n",
              "           0.9922, 0.4667, 0.0980, 0.0000, 0.0000, 0.0000, 0.0000, 0.0000,\n",
              "           0.0000, 0.0000, 0.0000, 0.0000],\n",
              "          [0.0000, 0.0000, 0.0000, 0.0000, 0.0000, 0.0000, 0.0000, 0.0000,\n",
              "           0.0000, 0.0000, 0.0000, 0.0000, 0.0000, 0.0000, 0.1765, 0.7294,\n",
              "           0.9922, 0.9922, 0.5882, 0.1059, 0.0000, 0.0000, 0.0000, 0.0000,\n",
              "           0.0000, 0.0000, 0.0000, 0.0000],\n",
              "          [0.0000, 0.0000, 0.0000, 0.0000, 0.0000, 0.0000, 0.0000, 0.0000,\n",
              "           0.0000, 0.0000, 0.0000, 0.0000, 0.0000, 0.0000, 0.0000, 0.0627,\n",
              "           0.3647, 0.9882, 0.9922, 0.7333, 0.0000, 0.0000, 0.0000, 0.0000,\n",
              "           0.0000, 0.0000, 0.0000, 0.0000],\n",
              "          [0.0000, 0.0000, 0.0000, 0.0000, 0.0000, 0.0000, 0.0000, 0.0000,\n",
              "           0.0000, 0.0000, 0.0000, 0.0000, 0.0000, 0.0000, 0.0000, 0.0000,\n",
              "           0.0000, 0.9765, 0.9922, 0.9765, 0.2510, 0.0000, 0.0000, 0.0000,\n",
              "           0.0000, 0.0000, 0.0000, 0.0000],\n",
              "          [0.0000, 0.0000, 0.0000, 0.0000, 0.0000, 0.0000, 0.0000, 0.0000,\n",
              "           0.0000, 0.0000, 0.0000, 0.0000, 0.0000, 0.0000, 0.1804, 0.5098,\n",
              "           0.7176, 0.9922, 0.9922, 0.8118, 0.0078, 0.0000, 0.0000, 0.0000,\n",
              "           0.0000, 0.0000, 0.0000, 0.0000],\n",
              "          [0.0000, 0.0000, 0.0000, 0.0000, 0.0000, 0.0000, 0.0000, 0.0000,\n",
              "           0.0000, 0.0000, 0.0000, 0.0000, 0.1529, 0.5804, 0.8980, 0.9922,\n",
              "           0.9922, 0.9922, 0.9804, 0.7137, 0.0000, 0.0000, 0.0000, 0.0000,\n",
              "           0.0000, 0.0000, 0.0000, 0.0000],\n",
              "          [0.0000, 0.0000, 0.0000, 0.0000, 0.0000, 0.0000, 0.0000, 0.0000,\n",
              "           0.0000, 0.0000, 0.0941, 0.4471, 0.8667, 0.9922, 0.9922, 0.9922,\n",
              "           0.9922, 0.7882, 0.3059, 0.0000, 0.0000, 0.0000, 0.0000, 0.0000,\n",
              "           0.0000, 0.0000, 0.0000, 0.0000],\n",
              "          [0.0000, 0.0000, 0.0000, 0.0000, 0.0000, 0.0000, 0.0000, 0.0000,\n",
              "           0.0902, 0.2588, 0.8353, 0.9922, 0.9922, 0.9922, 0.9922, 0.7765,\n",
              "           0.3176, 0.0078, 0.0000, 0.0000, 0.0000, 0.0000, 0.0000, 0.0000,\n",
              "           0.0000, 0.0000, 0.0000, 0.0000],\n",
              "          [0.0000, 0.0000, 0.0000, 0.0000, 0.0000, 0.0000, 0.0706, 0.6706,\n",
              "           0.8588, 0.9922, 0.9922, 0.9922, 0.9922, 0.7647, 0.3137, 0.0353,\n",
              "           0.0000, 0.0000, 0.0000, 0.0000, 0.0000, 0.0000, 0.0000, 0.0000,\n",
              "           0.0000, 0.0000, 0.0000, 0.0000],\n",
              "          [0.0000, 0.0000, 0.0000, 0.0000, 0.2157, 0.6745, 0.8863, 0.9922,\n",
              "           0.9922, 0.9922, 0.9922, 0.9569, 0.5216, 0.0431, 0.0000, 0.0000,\n",
              "           0.0000, 0.0000, 0.0000, 0.0000, 0.0000, 0.0000, 0.0000, 0.0000,\n",
              "           0.0000, 0.0000, 0.0000, 0.0000],\n",
              "          [0.0000, 0.0000, 0.0000, 0.0000, 0.5333, 0.9922, 0.9922, 0.9922,\n",
              "           0.8314, 0.5294, 0.5176, 0.0627, 0.0000, 0.0000, 0.0000, 0.0000,\n",
              "           0.0000, 0.0000, 0.0000, 0.0000, 0.0000, 0.0000, 0.0000, 0.0000,\n",
              "           0.0000, 0.0000, 0.0000, 0.0000],\n",
              "          [0.0000, 0.0000, 0.0000, 0.0000, 0.0000, 0.0000, 0.0000, 0.0000,\n",
              "           0.0000, 0.0000, 0.0000, 0.0000, 0.0000, 0.0000, 0.0000, 0.0000,\n",
              "           0.0000, 0.0000, 0.0000, 0.0000, 0.0000, 0.0000, 0.0000, 0.0000,\n",
              "           0.0000, 0.0000, 0.0000, 0.0000],\n",
              "          [0.0000, 0.0000, 0.0000, 0.0000, 0.0000, 0.0000, 0.0000, 0.0000,\n",
              "           0.0000, 0.0000, 0.0000, 0.0000, 0.0000, 0.0000, 0.0000, 0.0000,\n",
              "           0.0000, 0.0000, 0.0000, 0.0000, 0.0000, 0.0000, 0.0000, 0.0000,\n",
              "           0.0000, 0.0000, 0.0000, 0.0000],\n",
              "          [0.0000, 0.0000, 0.0000, 0.0000, 0.0000, 0.0000, 0.0000, 0.0000,\n",
              "           0.0000, 0.0000, 0.0000, 0.0000, 0.0000, 0.0000, 0.0000, 0.0000,\n",
              "           0.0000, 0.0000, 0.0000, 0.0000, 0.0000, 0.0000, 0.0000, 0.0000,\n",
              "           0.0000, 0.0000, 0.0000, 0.0000]]]), 5)"
            ]
          },
          "metadata": {
            "tags": []
          },
          "execution_count": 159
        }
      ]
    },
    {
      "cell_type": "markdown",
      "metadata": {
        "id": "Fx2u1ci_4C_X"
      },
      "source": [
        "#### what is dataloader?\n",
        "\n",
        "It simply uses the generator to provide data giving single- or multi-process iterators over the dataset."
      ]
    },
    {
      "cell_type": "markdown",
      "metadata": {
        "_uuid": "00ab24a0af33038559ec91ea83458558e4d574bf",
        "id": "YKA5zpwB4C_X"
      },
      "source": [
        "We have the training data loaded into trainloader \n",
        "\n",
        "With dataloaded we make  an iterator with iter(trainloader). Later, we'll use this to loop through the dataset for training, like below:"
      ]
    },
    {
      "cell_type": "code",
      "metadata": {
        "ExecuteTime": {
          "end_time": "2019-02-04T11:38:04.781132Z",
          "start_time": "2019-02-04T11:38:04.633040Z"
        },
        "_uuid": "9808e8dab8f56248ae40759f20b1e59dad3ede7b",
        "id": "kjMIXE_t4C_Y",
        "outputId": "fcb3826e-3f02-4a29-d60b-07e71e65cc5c",
        "colab": {
          "base_uri": "https://localhost:8080/",
          "height": 0
        }
      },
      "source": [
        "dataiter = iter(trainloader)\n",
        "images, labels = dataiter.next()\n",
        "print(type(images))\n",
        "print(images.shape)\n",
        "print(labels.shape)\n",
        "#Printing the size of one image\n",
        "print(images[1].numpy().squeeze().shape)"
      ],
      "execution_count": 160,
      "outputs": [
        {
          "output_type": "stream",
          "text": [
            "<class 'torch.Tensor'>\n",
            "torch.Size([64, 1, 28, 28])\n",
            "torch.Size([64])\n",
            "(28, 28)\n"
          ],
          "name": "stdout"
        }
      ]
    },
    {
      "cell_type": "code",
      "metadata": {
        "_uuid": "f544046855f3efd0eb1d88fb11f0e4e27318d5eb",
        "id": "FIto5Wet4C_b",
        "outputId": "ab3b3c53-6927-4a06-dc9a-05756b00c0fc",
        "colab": {
          "base_uri": "https://localhost:8080/",
          "height": 0
        }
      },
      "source": [
        "#Look at the image\n",
        "plt.imshow(images[1].numpy().squeeze(), cmap='Greys_r');"
      ],
      "execution_count": 161,
      "outputs": [
        {
          "output_type": "display_data",
          "data": {
            "image/png": "[encoded data removed]",
            "text/plain": [
              "<Figure size 432x288 with 1 Axes>"
            ]
          },
          "metadata": {
            "tags": [],
            "image/png": {
              "width": 251,
              "height": 248
            },
            "needs_background": "light"
          }
        }
      ]
    },
    {
      "cell_type": "code",
      "metadata": {
        "ExecuteTime": {
          "end_time": "2019-02-04T11:38:08.273406Z",
          "start_time": "2019-02-04T11:38:08.264208Z"
        },
        "_uuid": "b11c0c543d20cfb96cbb0635eea5f93e37c58cb0",
        "id": "UDqvWprf4C_d"
      },
      "source": [
        "#Sigmoid Activation Function\n",
        "def activation(x):\n",
        "    return (1/(1+torch.exp(-x)))\n",
        "\n",
        "#Input 64x784\n",
        "inputs=images.view(images.shape[0],-1)\n",
        "#Number of input features-784\n",
        "n_input=inputs.shape[1]\n",
        "#Number of neurons in hidden layer-256\n",
        "n_hidden=256\n",
        "#Number of output neuron-10\n",
        "n_out=10\n",
        "#Weight at hidden neuron-784x256\n",
        "W1=torch.randn(n_input,n_hidden)\n",
        "#Bias at hidden neuron-256\n",
        "B1=torch.randn(n_hidden)\n",
        "#Weight at output neuron-256x10\n",
        "W2=torch.randn(n_hidden,n_out)\n",
        "#Bias at output neuron-10\n",
        "B2=torch.randn(n_out)\n"
      ],
      "execution_count": 162,
      "outputs": []
    },
    {
      "cell_type": "code",
      "metadata": {
        "ExecuteTime": {
          "end_time": "2019-02-04T11:38:13.520858Z",
          "start_time": "2019-02-04T11:38:13.510149Z"
        },
        "_uuid": "e494abcbcf8bf4e1210b1acdc0790ca77f826e21",
        "id": "q0RLuvzt4C_h",
        "outputId": "7bfa318a-9637-4936-ebbe-444eb839f3aa",
        "colab": {
          "base_uri": "https://localhost:8080/",
          "height": 0
        }
      },
      "source": [
        "print(\"Shape of a batch of an image:\",images.shape)\n",
        "print(\"Shape of the input to the network:\",inputs.shape)\n",
        "print(\"Shape of the input features:\",n_input)\n",
        "print(\"Shape of the Weight matrix of neurons in the hidden layer\",W1.shape)\n",
        "print(\"Shape of the Bias vector of neurons in the hidden layer\",B1.shape)\n",
        "print(\"Shape of the Weight matrix of neurons in the output layer\",W2.shape)\n",
        "print(\"Shape of the Bias vector of neurons in the output layer\",W2.shape)\n"
      ],
      "execution_count": 163,
      "outputs": [
        {
          "output_type": "stream",
          "text": [
            "Shape of a batch of an image: torch.Size([64, 1, 28, 28])\n",
            "Shape of the input to the network: torch.Size([64, 784])\n",
            "Shape of the input features: 784\n",
            "Shape of the Weight matrix of neurons in the hidden layer torch.Size([784, 256])\n",
            "Shape of the Bias vector of neurons in the hidden layer torch.Size([256])\n",
            "Shape of the Weight matrix of neurons in the output layer torch.Size([256, 10])\n",
            "Shape of the Bias vector of neurons in the output layer torch.Size([256, 10])\n"
          ],
          "name": "stdout"
        }
      ]
    },
    {
      "cell_type": "code",
      "metadata": {
        "ExecuteTime": {
          "end_time": "2019-02-04T11:38:23.336380Z",
          "start_time": "2019-02-04T11:38:22.958331Z"
        },
        "_uuid": "e751026ecf95253bf33db0462ce8bc250c082bb7",
        "id": "lFz3MRF04C_l"
      },
      "source": [
        "#Hidden layer activations\n",
        "h1=activation(torch.mm(inputs,W1)+B1)\n",
        "#Output layer activations\n",
        "out=activation(torch.mm(h1,W2)+B2)"
      ],
      "execution_count": 164,
      "outputs": []
    },
    {
      "cell_type": "code",
      "metadata": {
        "ExecuteTime": {
          "end_time": "2019-02-04T11:38:26.658141Z",
          "start_time": "2019-02-04T11:38:26.649686Z"
        },
        "_uuid": "2cb2a0f4a6d9852da5d4811e89734c8906bbb878",
        "id": "jkUmaAhH4C_o",
        "outputId": "3ed61d1e-0698-4ca1-c7d4-7c941f31d8ff",
        "colab": {
          "base_uri": "https://localhost:8080/",
          "height": 0
        }
      },
      "source": [
        "print(f'Shape of the Hidden activation of the network{h1.shape}')\n",
        "print(f'Shape of the Output of the network{out.shape}')"
      ],
      "execution_count": 165,
      "outputs": [
        {
          "output_type": "stream",
          "text": [
            "Shape of the Hidden activation of the networktorch.Size([64, 256])\n",
            "Shape of the Output of the networktorch.Size([64, 10])\n"
          ],
          "name": "stdout"
        }
      ]
    },
    {
      "cell_type": "code",
      "metadata": {
        "ExecuteTime": {
          "end_time": "2019-02-04T11:38:38.560819Z",
          "start_time": "2019-02-04T11:38:38.553507Z"
        },
        "_uuid": "66671445031ee39d4142f84c832b2ab097f6d14a",
        "id": "VPibe5io4C_r",
        "outputId": "fda0f149-73c8-4ef8-8ca8-2169d0f0eb20",
        "colab": {
          "base_uri": "https://localhost:8080/",
          "height": 0
        }
      },
      "source": [
        "#Let us see the network output to one of the feeded input image\n",
        "out[1]"
      ],
      "execution_count": 166,
      "outputs": [
        {
          "output_type": "execute_result",
          "data": {
            "text/plain": [
              "tensor([4.8659e-04, 1.4363e-04, 2.4640e-06, 4.0465e-03, 9.9350e-01, 7.4303e-01,\n",
              "        3.8967e-01, 3.1982e-03, 9.8360e-01, 9.9999e-01])"
            ]
          },
          "metadata": {
            "tags": []
          },
          "execution_count": 166
        }
      ]
    },
    {
      "cell_type": "markdown",
      "metadata": {
        "_uuid": "8c7ab4cad2d8a2d619e0b376780e0d5b2dfa7be3",
        "id": "XPPcsO9m4C_u"
      },
      "source": [
        "Now we have 10 outputs for our network. This raw output is usually called **logits or scores**.\n",
        "<br>\n",
        "However,We want to pass in an image to our network and get out a probability distribution over the classes that tells us the likely class(es) the image belongs to."
      ]
    },
    {
      "cell_type": "markdown",
      "metadata": {
        "_uuid": "1903f5520e57c8ca69b4252ed7a7c4d5e5beb51a",
        "id": "DjJ4RkZZ4C_u"
      },
      "source": [
        "\n",
        "### Probability Distribution using Softmax\n",
        "To calculate this probability distribution, we often use the [softmax function](https://en.wikipedia.org/wiki/Softmax_function)\n",
        "$$\n",
        "\\Large \\sigma(x_i) = \\cfrac{e^{x_i}}{\\sum_k^K{e^{x_k}}}\n",
        "$$\n",
        "What this does is squish each input $x_i$ between 0 and 1 and normalizes the values to give you a proper probability distribution where the probabilites sum up to one."
      ]
    },
    {
      "cell_type": "code",
      "metadata": {
        "ExecuteTime": {
          "end_time": "2019-02-04T11:40:41.701155Z",
          "start_time": "2019-02-04T11:40:41.697492Z"
        },
        "_uuid": "f4d7ba5cc02acf1610fa113490099e51e84978aa",
        "id": "S188ENAT4C_v"
      },
      "source": [
        "def softmax(x):\n",
        "    return(torch.exp(x)/torch.sum(torch.exp(x),dim=1).view(-1,1))"
      ],
      "execution_count": 167,
      "outputs": []
    },
    {
      "cell_type": "markdown",
      "metadata": {
        "_uuid": "bdf3ab4229b26432555148c0d1b67f6e857055e6",
        "id": "3a7zi3F-4C_x"
      },
      "source": [
        "Let us understand what we are doing above by an example\n",
        "<br>\n",
        "Step 1:Calculating the numerator of the softmax function"
      ]
    },
    {
      "cell_type": "code",
      "metadata": {
        "ExecuteTime": {
          "end_time": "2019-02-04T11:40:42.976206Z",
          "start_time": "2019-02-04T11:40:42.970484Z"
        },
        "_uuid": "d06ddfc05e73456929293906a0ee9672cf2f45a6",
        "id": "eStL6dvV4C_y",
        "outputId": "71513b69-761b-47a6-d636-c2a265db6135",
        "colab": {
          "base_uri": "https://localhost:8080/",
          "height": 0
        }
      },
      "source": [
        "torch.exp(out[1:3])"
      ],
      "execution_count": 168,
      "outputs": [
        {
          "output_type": "execute_result",
          "data": {
            "text/plain": [
              "tensor([[1.0005, 1.0001, 1.0000, 1.0041, 2.7007, 2.1023, 1.4765, 1.0032, 2.6741,\n",
              "         2.7183],\n",
              "        [1.2602, 1.0000, 1.0000, 1.0000, 2.7178, 2.7098, 2.7180, 1.7746, 2.7179,\n",
              "         2.7054]])"
            ]
          },
          "metadata": {
            "tags": []
          },
          "execution_count": 168
        }
      ]
    },
    {
      "cell_type": "markdown",
      "metadata": {
        "_uuid": "0fd149046af107a72d73208528b3a5cf1a6eb13e",
        "id": "01A27TNB4C_1"
      },
      "source": [
        "Step 2:For every predicted image output, calculate the sum over the predicted values over all classes"
      ]
    },
    {
      "cell_type": "code",
      "metadata": {
        "ExecuteTime": {
          "end_time": "2019-02-04T11:40:45.248689Z",
          "start_time": "2019-02-04T11:40:45.236760Z"
        },
        "_uuid": "2277f07ce4566f91bf8ad70e3969f2c4790e676d",
        "id": "52l7XpZ64C_2",
        "outputId": "8ea17499-726e-4ee4-f2d3-a6de8e781c82",
        "colab": {
          "base_uri": "https://localhost:8080/",
          "height": 0
        }
      },
      "source": [
        "#print(torch.sum(torch.exp(out[1:3])))\n",
        "#Dim=1 says, we want to take the sum across all columns\n",
        "torch.sum(torch.exp(out[1:3]),dim=1)"
      ],
      "execution_count": 169,
      "outputs": [
        {
          "output_type": "execute_result",
          "data": {
            "text/plain": [
              "tensor([16.6797, 19.6037])"
            ]
          },
          "metadata": {
            "tags": []
          },
          "execution_count": 169
        }
      ]
    },
    {
      "cell_type": "markdown",
      "metadata": {
        "_uuid": "e247c285cf5dfdd02702bc79ddc8e49383bc17c1",
        "id": "SRB2MTph4C_6"
      },
      "source": [
        "Step3:Rearrange the sums in an order for broadcasting to work"
      ]
    },
    {
      "cell_type": "code",
      "metadata": {
        "ExecuteTime": {
          "end_time": "2019-02-04T11:40:47.116271Z",
          "start_time": "2019-02-04T11:40:47.106860Z"
        },
        "_uuid": "8c226fe7a4a2e9f31f63ddca18ed71959d9a139d",
        "id": "CGMlnjDl4C_6",
        "outputId": "77a2f1d0-0159-47f0-95d4-41203efbd2e6",
        "colab": {
          "base_uri": "https://localhost:8080/",
          "height": 0
        }
      },
      "source": [
        "torch.sum(torch.exp(out[1:3]),dim=1).view(-1,1)"
      ],
      "execution_count": 170,
      "outputs": [
        {
          "output_type": "execute_result",
          "data": {
            "text/plain": [
              "tensor([[16.6797],\n",
              "        [19.6037]])"
            ]
          },
          "metadata": {
            "tags": []
          },
          "execution_count": 170
        }
      ]
    },
    {
      "cell_type": "markdown",
      "metadata": {
        "_uuid": "ecbcd104b966f3ae051d09048e7d708f992f1a41",
        "id": "rM6w5dmi4C_9"
      },
      "source": [
        "Step 3:For every predicted image output, divide the predictions of each class with the sum over all classes."
      ]
    },
    {
      "cell_type": "code",
      "metadata": {
        "ExecuteTime": {
          "end_time": "2019-02-04T11:41:41.871814Z",
          "start_time": "2019-02-04T11:41:41.808608Z"
        },
        "_uuid": "fce3f0e89d812e35f44a46ee5eab0fc85bf05406",
        "id": "aDOCWoIb4C__",
        "outputId": "9d96e0e4-f673-4670-9204-a1a622dfae79",
        "colab": {
          "base_uri": "https://localhost:8080/",
          "height": 0
        }
      },
      "source": [
        "#print(torch.exp(out[1:3])/torch.sum(torch.exp(out[1:3]),dim=1))\n",
        "temp=torch.exp(out[1:3])/torch.sum(torch.exp(out[1:3]),dim=1).view(-1,1)\n",
        "print(temp)"
      ],
      "execution_count": 171,
      "outputs": [
        {
          "output_type": "stream",
          "text": [
            "tensor([[0.0600, 0.0600, 0.0600, 0.0602, 0.1619, 0.1260, 0.0885, 0.0601, 0.1603,\n",
            "         0.1630],\n",
            "        [0.0643, 0.0510, 0.0510, 0.0510, 0.1386, 0.1382, 0.1386, 0.0905, 0.1386,\n",
            "         0.1380]])\n"
          ],
          "name": "stdout"
        }
      ]
    },
    {
      "cell_type": "markdown",
      "metadata": {
        "_uuid": "0973f2a30eacf6d699df25a24ce00f9487f35559",
        "id": "6l9keIdD4DAB"
      },
      "source": [
        "Voila!! We got the softmax output .One last thing to do is check whether the sum across all classes sum to 1 for understanding the predicted class"
      ]
    },
    {
      "cell_type": "code",
      "metadata": {
        "_uuid": "5f899daaaf970fbb7b821a9cf4f70af1b00a9773",
        "id": "nalYGtoG4DAC",
        "outputId": "4a6761e8-9b52-4b2c-9b16-c5417c7ff982",
        "colab": {
          "base_uri": "https://localhost:8080/",
          "height": 0
        }
      },
      "source": [
        "temp.sum(dim=1)"
      ],
      "execution_count": 172,
      "outputs": [
        {
          "output_type": "execute_result",
          "data": {
            "text/plain": [
              "tensor([1.0000, 1.0000])"
            ]
          },
          "metadata": {
            "tags": []
          },
          "execution_count": 172
        }
      ]
    },
    {
      "cell_type": "code",
      "metadata": {
        "_uuid": "da2f00d033b1ef41cf3941998ef34e24167a08cc",
        "id": "QaVOzTEm4DAF",
        "outputId": "4c160296-f808-4c6d-9520-85bf72f03cbd",
        "colab": {
          "base_uri": "https://localhost:8080/",
          "height": 0
        }
      },
      "source": [
        "probabilities = softmax(out)\n",
        "# Does it have the right shape? Should be (64, 10)\n",
        "print(probabilities.shape)\n",
        "# Does it sum to 1?\n",
        "#print(probabilities.sum(dim=1))"
      ],
      "execution_count": 173,
      "outputs": [
        {
          "output_type": "stream",
          "text": [
            "torch.Size([64, 10])\n"
          ],
          "name": "stdout"
        }
      ]
    },
    {
      "cell_type": "markdown",
      "metadata": {
        "_uuid": "f9cd86feb1156d1a7ba69037197aabf876735be6",
        "id": "Ecm_JHVC4DAL"
      },
      "source": [
        "## Building our Network with Pytorch\n",
        "\n",
        "![](images/mlp_mnist.png)"
      ]
    },
    {
      "cell_type": "markdown",
      "metadata": {
        "_uuid": "6b0737a96ecaa7d4bcd0f6bc4592961e5ffc8e42",
        "id": "dWd6P2hG4DAM"
      },
      "source": [
        "PyTorch provides a module `nn` that makes building networks much simpler. Here I'll show you how to build the same one as above with 784 inputs, 256 hidden units, 10 output units and a softmax output."
      ]
    },
    {
      "cell_type": "code",
      "metadata": {
        "_uuid": "e82cac77674746147dc9dd5d9367b21c1e02d40c",
        "id": "DVkq49YW4DAN"
      },
      "source": [
        "from torch import nn"
      ],
      "execution_count": 174,
      "outputs": []
    },
    {
      "cell_type": "code",
      "metadata": {
        "_uuid": "72a3786079aa4a387146ff066176d5af56b11b4b",
        "id": "Tsob_Rb54DAR"
      },
      "source": [
        "class Network(nn.Module):\n",
        "    def __init__(self):\n",
        "        super().__init__()\n",
        "        self.hidden=nn.Linear(784,256)\n",
        "        self.output=nn.Linear(256,10)\n",
        "        self.sigmoid=nn.Sigmoid()\n",
        "        self.softmax=nn.Softmax(dim=1)\n",
        "        \n",
        "    def forward(self,x):\n",
        "        x=self.hidden(x)\n",
        "        x=self.sigmoid(x)\n",
        "        x=self.output(x)\n",
        "        x=self.softmax(x)\n",
        "        return x"
      ],
      "execution_count": 175,
      "outputs": []
    },
    {
      "cell_type": "markdown",
      "metadata": {
        "_uuid": "b1546fd3ac7e6ab35a81dfee3e704817627a5618",
        "id": "NmsMC3m_4DAY"
      },
      "source": [
        "Let's go through this bit by bit.\n",
        "\n",
        "```python\n",
        "class Network(nn.Module):\n",
        "```\n",
        "\n",
        "Here we're inheriting from `nn.Module`. Combined with `super().__init__()` this creates a class that tracks the architecture and provides a lot of useful methods and attributes. It is mandatory to inherit from `nn.Module` when you're creating a class for your network. The name of the class itself can be anything.\n",
        "\n",
        "```python\n",
        "self.hidden = nn.Linear(784, 256)\n",
        "```\n",
        "\n",
        "This line creates a module for a linear transformation, $x\\mathbf{W} + b$, with 784 inputs and 256 outputs and assigns it to `self.hidden`. The module automatically creates the weight and bias tensors which we'll use in the `forward` method. You can access the weight and bias tensors once the network once it's create at `net.hidden.weight` and `net.hidden.bias`.\n",
        "\n",
        "```python\n",
        "self.output = nn.Linear(256, 10)\n",
        "```\n",
        "\n",
        "Similarly, this creates another linear transformation with 256 inputs and 10 outputs.\n",
        "\n",
        "```python\n",
        "self.sigmoid = nn.Sigmoid()\n",
        "self.softmax = nn.Softmax(dim=1)\n",
        "```\n",
        "\n",
        "Here I defined operations for the sigmoid activation and softmax output. Setting `dim=1` in `nn.Softmax(dim=1)` calculates softmax across the columns.\n",
        "\n",
        "```python\n",
        "def forward(self, x):\n",
        "```\n",
        "\n",
        "PyTorch networks created with `nn.Module` must have a `forward` method defined. It takes in a tensor `x` and passes it through the operations you defined in the `__init__` method.\n",
        "\n",
        "```python\n",
        "x = self.hidden(x)\n",
        "x = self.sigmoid(x)\n",
        "x = self.output(x)\n",
        "x = self.softmax(x)\n",
        "```\n",
        "\n",
        "Here the input tensor `x` is passed through each operation a reassigned to `x`. We can see that the input tensor goes through the hidden layer, then a sigmoid function, then the output layer, and finally the softmax function. It doesn't matter what you name the variables here, as long as the inputs and outputs of the operations match the network architecture you want to build. The order in which you define things in the `__init__` method doesn't matter, but you'll need to sequence the operations correctly in the `forward` method.\n",
        "\n",
        "Now we can create a `Network` object."
      ]
    },
    {
      "cell_type": "code",
      "metadata": {
        "_uuid": "36bc9a286ffafd0a0b1ac7890906092965f5fee0",
        "id": "5mUYbFw94DAZ",
        "outputId": "fd2f7942-4d30-4565-ba50-d3bda1965d66",
        "colab": {
          "base_uri": "https://localhost:8080/",
          "height": 0
        }
      },
      "source": [
        "model=Network()\n",
        "model"
      ],
      "execution_count": 176,
      "outputs": [
        {
          "output_type": "execute_result",
          "data": {
            "text/plain": [
              "Network(\n",
              "  (hidden): Linear(in_features=784, out_features=256, bias=True)\n",
              "  (output): Linear(in_features=256, out_features=10, bias=True)\n",
              "  (sigmoid): Sigmoid()\n",
              "  (softmax): Softmax(dim=1)\n",
              ")"
            ]
          },
          "metadata": {
            "tags": []
          },
          "execution_count": 176
        }
      ]
    },
    {
      "cell_type": "markdown",
      "metadata": {
        "_uuid": "aae8f6f5e7c42a3df7d79b6e3a20293f3a673b0a",
        "id": "xvFaVwHN4DAf"
      },
      "source": [
        "We can define the network somewhat more concisely and clearly using the `torch.nn.functional` module. This is the most common way you'll see networks defined as many operations are simple element-wise functions. We normally import this module as `F`, `import torch.nn.functional as F`.\n"
      ]
    },
    {
      "cell_type": "code",
      "metadata": {
        "_uuid": "1ebea291b4d96d74d435885e60bc2a792c4abd12",
        "id": "y1CX1qWJ4DAg"
      },
      "source": [
        "import torch.nn.functional as F"
      ],
      "execution_count": 177,
      "outputs": []
    },
    {
      "cell_type": "code",
      "metadata": {
        "_uuid": "41e688fd7486e6ac4ea420cdc23e464a4e2c3432",
        "id": "KJU1PQUE4DAi"
      },
      "source": [
        "import torch.nn.functional as F\n",
        "\n",
        "class Network(nn.Module):\n",
        "    def __init__(self):\n",
        "        super().__init__()\n",
        "        # Inputs to hidden layer linear transformation\n",
        "        self.hidden = nn.Linear(784, 128)\n",
        "        # Output layer, 10 units - one for each digit\n",
        "        self.output = nn.Linear(128, 10)\n",
        "        \n",
        "    def forward(self, x):\n",
        "        # Hidden layer with sigmoid activation\n",
        "        x = F.sigmoid(self.hidden(x))\n",
        "        # Output layer with softmax activation\n",
        "        x = F.softmax(self.output(x), dim=1)\n",
        "        \n",
        "        return x"
      ],
      "execution_count": 178,
      "outputs": []
    },
    {
      "cell_type": "code",
      "metadata": {
        "_uuid": "30f4a6c129eb490f265d2570e16f86dc96534952",
        "id": "zaUQd7194DAj",
        "outputId": "d6e1db46-a6be-48c6-8573-fcbfe1cfe4b6",
        "colab": {
          "base_uri": "https://localhost:8080/",
          "height": 0
        }
      },
      "source": [
        "model=Network()\n",
        "model"
      ],
      "execution_count": 179,
      "outputs": [
        {
          "output_type": "execute_result",
          "data": {
            "text/plain": [
              "Network(\n",
              "  (hidden): Linear(in_features=784, out_features=128, bias=True)\n",
              "  (output): Linear(in_features=128, out_features=10, bias=True)\n",
              ")"
            ]
          },
          "metadata": {
            "tags": []
          },
          "execution_count": 179
        }
      ]
    },
    {
      "cell_type": "markdown",
      "metadata": {
        "_uuid": "8c3820bb60313a368c0a3d8322b21b7d8adeafeb",
        "id": "lqLdKq2v4DAq"
      },
      "source": [
        "### Initializing weights and biases\n",
        "\n",
        "The weights and bias are automatically initialized for you, but it's possible to customize how they are initialized. The weights and biases are tensors attached to the layer you defined, you can get them with `model.fc1.weight` for instance."
      ]
    },
    {
      "cell_type": "code",
      "metadata": {
        "_uuid": "d148d7e2446d76d5ca6a8948d23ec513f103cdba",
        "id": "BIEIlmhV4DAv",
        "outputId": "a893c393-f016-42fb-a0ec-1b8676694206",
        "colab": {
          "base_uri": "https://localhost:8080/",
          "height": 0
        }
      },
      "source": [
        "print(model.hidden.weight,model.hidden.weight.shape)\n",
        "print(model.hidden.bias,model.hidden.bias.shape)"
      ],
      "execution_count": 180,
      "outputs": [
        {
          "output_type": "stream",
          "text": [
            "Parameter containing:\n",
            "tensor([[-0.0349, -0.0337,  0.0002,  ...,  0.0323,  0.0015,  0.0157],\n",
            "        [-0.0189, -0.0171, -0.0115,  ...,  0.0269, -0.0004, -0.0058],\n",
            "        [ 0.0348,  0.0051,  0.0243,  ...,  0.0331,  0.0043, -0.0199],\n",
            "        ...,\n",
            "        [-0.0341,  0.0069, -0.0162,  ...,  0.0215,  0.0162, -0.0303],\n",
            "        [ 0.0322,  0.0346,  0.0246,  ..., -0.0076, -0.0008, -0.0172],\n",
            "        [ 0.0255,  0.0062, -0.0146,  ...,  0.0092, -0.0060, -0.0106]],\n",
            "       requires_grad=True) torch.Size([128, 784])\n",
            "Parameter containing:\n",
            "tensor([ 0.0140, -0.0172, -0.0341,  0.0325, -0.0107,  0.0108,  0.0006, -0.0131,\n",
            "        -0.0007, -0.0081, -0.0158,  0.0168,  0.0190,  0.0122,  0.0176, -0.0338,\n",
            "        -0.0170, -0.0118, -0.0277, -0.0165, -0.0234, -0.0224, -0.0128, -0.0133,\n",
            "         0.0089,  0.0328, -0.0282, -0.0002,  0.0177, -0.0075, -0.0343,  0.0042,\n",
            "        -0.0216, -0.0047, -0.0186,  0.0291,  0.0079,  0.0066, -0.0210,  0.0020,\n",
            "         0.0319,  0.0299, -0.0145, -0.0244, -0.0299,  0.0330,  0.0133,  0.0316,\n",
            "        -0.0355,  0.0097,  0.0314, -0.0104,  0.0279, -0.0223,  0.0164,  0.0202,\n",
            "         0.0071,  0.0033,  0.0083,  0.0267,  0.0268, -0.0132, -0.0012, -0.0192,\n",
            "        -0.0026,  0.0188, -0.0162, -0.0327, -0.0308, -0.0154, -0.0271,  0.0340,\n",
            "         0.0314,  0.0133, -0.0218,  0.0348, -0.0005, -0.0296, -0.0271, -0.0090,\n",
            "        -0.0260, -0.0083,  0.0056, -0.0325, -0.0307,  0.0335, -0.0256,  0.0171,\n",
            "         0.0060,  0.0016, -0.0283,  0.0237,  0.0069, -0.0016, -0.0299, -0.0187,\n",
            "        -0.0052,  0.0241, -0.0074, -0.0026, -0.0074, -0.0343, -0.0161, -0.0263,\n",
            "         0.0205,  0.0177,  0.0257, -0.0142, -0.0276,  0.0350, -0.0180, -0.0244,\n",
            "         0.0253, -0.0143, -0.0228,  0.0107,  0.0021, -0.0039, -0.0123,  0.0237,\n",
            "         0.0039, -0.0012, -0.0037, -0.0256,  0.0027, -0.0093,  0.0089, -0.0244],\n",
            "       requires_grad=True) torch.Size([128])\n"
          ],
          "name": "stdout"
        }
      ]
    },
    {
      "cell_type": "markdown",
      "metadata": {
        "_uuid": "1a1989c40df55dd4324cad2736e72481c148299d",
        "id": "j3iwfmdl4DA2"
      },
      "source": [
        "For custom initialization, we can these tensors in place."
      ]
    },
    {
      "cell_type": "code",
      "metadata": {
        "_uuid": "dc98f7292fe8d6f40b1ea58b681acf522f500bb2",
        "id": "Gut8xqfG4DA4",
        "outputId": "29487c6e-f3ca-4f1c-ab5e-4d3b72f6c278",
        "colab": {
          "base_uri": "https://localhost:8080/",
          "height": 0
        }
      },
      "source": [
        "# Set biases to all zeros\n",
        "model.hidden.bias.data.fill_(0)"
      ],
      "execution_count": 181,
      "outputs": [
        {
          "output_type": "execute_result",
          "data": {
            "text/plain": [
              "tensor([0., 0., 0., 0., 0., 0., 0., 0., 0., 0., 0., 0., 0., 0., 0., 0., 0., 0., 0., 0., 0., 0., 0., 0.,\n",
              "        0., 0., 0., 0., 0., 0., 0., 0., 0., 0., 0., 0., 0., 0., 0., 0., 0., 0., 0., 0., 0., 0., 0., 0.,\n",
              "        0., 0., 0., 0., 0., 0., 0., 0., 0., 0., 0., 0., 0., 0., 0., 0., 0., 0., 0., 0., 0., 0., 0., 0.,\n",
              "        0., 0., 0., 0., 0., 0., 0., 0., 0., 0., 0., 0., 0., 0., 0., 0., 0., 0., 0., 0., 0., 0., 0., 0.,\n",
              "        0., 0., 0., 0., 0., 0., 0., 0., 0., 0., 0., 0., 0., 0., 0., 0., 0., 0., 0., 0., 0., 0., 0., 0.,\n",
              "        0., 0., 0., 0., 0., 0., 0., 0.])"
            ]
          },
          "metadata": {
            "tags": []
          },
          "execution_count": 181
        }
      ]
    },
    {
      "cell_type": "code",
      "metadata": {
        "_uuid": "354f3f9fbcf8b0c6808394ea97e794b9f43ffe60",
        "id": "mP1_5vXd4DBA",
        "outputId": "488afca7-0b60-419b-ada8-83ea3724f8c1",
        "colab": {
          "base_uri": "https://localhost:8080/",
          "height": 0
        }
      },
      "source": [
        "# sample from random normal with standard dev = 0.01\n",
        "model.hidden.weight.data.normal_(std=0.01)"
      ],
      "execution_count": 182,
      "outputs": [
        {
          "output_type": "execute_result",
          "data": {
            "text/plain": [
              "tensor([[ 1.8553e-02,  3.7825e-03, -9.6130e-03,  ...,  9.7536e-05,\n",
              "         -6.0411e-03, -1.6217e-02],\n",
              "        [ 1.2194e-03, -3.8039e-03, -1.8751e-03,  ..., -7.8816e-04,\n",
              "         -6.8305e-03,  1.2401e-02],\n",
              "        [-1.2986e-02, -3.0201e-03, -2.7917e-02,  ...,  1.1847e-02,\n",
              "         -5.9305e-03, -1.0904e-03],\n",
              "        ...,\n",
              "        [ 8.9502e-03,  5.6647e-03, -1.2093e-02,  ...,  7.9218e-03,\n",
              "          7.9468e-03,  1.0425e-02],\n",
              "        [-4.9495e-03, -3.5242e-03,  1.3142e-02,  ...,  1.4294e-02,\n",
              "         -7.2331e-03, -4.0474e-03],\n",
              "        [ 1.5014e-03, -3.1622e-03, -2.1817e-02,  ..., -5.6976e-03,\n",
              "          2.5674e-03, -1.9481e-02]])"
            ]
          },
          "metadata": {
            "tags": []
          },
          "execution_count": 182
        }
      ]
    },
    {
      "cell_type": "code",
      "metadata": {
        "_uuid": "e3b948402fbcd6e8529fe5ebcd00347f1db63a1c",
        "id": "0c1xeOjL4DBE"
      },
      "source": [
        "netowrk=Network()"
      ],
      "execution_count": 183,
      "outputs": []
    },
    {
      "cell_type": "markdown",
      "metadata": {
        "_uuid": "1eb03d730d47d46308e593ff4debbd6899280bbe",
        "id": "e5Ked5Lw4DBJ"
      },
      "source": [
        "### Forward pass\n",
        "\n",
        "Now that we have a network, let's see what happens when we pass in an image."
      ]
    },
    {
      "cell_type": "code",
      "metadata": {
        "_uuid": "59df5bda3337698adad159777311294b7f8cfce4",
        "id": "hvty_zDW4DBK",
        "outputId": "54c1c821-a52f-4b65-8afa-18f7e8605870",
        "colab": {
          "base_uri": "https://localhost:8080/",
          "height": 0
        }
      },
      "source": [
        "# Grab some data \n",
        "dataiter = iter(trainloader)\n",
        "images, labels = dataiter.next()\n",
        "\n",
        "# Resize images into a 1D vector, new shape is (batch size, color channels, image pixels) \n",
        "images.resize_(images.shape[0], 1, 784)\n",
        "\n",
        "# Forward pass through the network\n",
        "img_idx = 0\n",
        "ps = model.forward(images[img_idx,:])\n",
        "\n",
        "img = images[img_idx]\n",
        "view_classify(img.view(1, 28, 28), ps)"
      ],
      "execution_count": 184,
      "outputs": [
        {
          "output_type": "stream",
          "text": [
            "/usr/local/lib/python3.6/dist-packages/torch/nn/functional.py:1625: UserWarning: nn.functional.sigmoid is deprecated. Use torch.sigmoid instead.\n",
            "  warnings.warn(\"nn.functional.sigmoid is deprecated. Use torch.sigmoid instead.\")\n"
          ],
          "name": "stderr"
        },
        {
          "output_type": "display_data",
          "data": {
            "image/png": "[encoded data removed]",
            "text/plain": [
              "<Figure size 432x648 with 2 Axes>"
            ]
          },
          "metadata": {
            "tags": [],
            "image/png": {
              "width": 424,
              "height": 235
            },
            "needs_background": "light"
          }
        }
      ]
    },
    {
      "cell_type": "markdown",
      "metadata": {
        "_uuid": "2103e632ea834fcbd4741de8b9ee7edace23ba6b",
        "id": "mBnOZK-84DBN"
      },
      "source": [
        "As you can see above, our network has basically no idea what this digit is. It's because we haven't trained it yet, , all the weights are random!"
      ]
    },
    {
      "cell_type": "markdown",
      "metadata": {
        "_uuid": "6d611ac89023080d6ee0e42b9369376ed261a777",
        "id": "Tlbgk3-D4DBN"
      },
      "source": [
        "## Add-on: People from the keras would love this!!!\n",
        "PyTorch provides a convenient way to build networks like this where a tensor is passed sequentially through operations, `nn.Sequential`.\n",
        "Lets try to build the above network using this method:"
      ]
    },
    {
      "cell_type": "code",
      "metadata": {
        "_uuid": "e6f5405fe980380825786437c0aa8e94cb8cb92e",
        "id": "hzQD5uAK4DBN",
        "outputId": "06d135db-ab53-4f8a-b340-edae70946675",
        "colab": {
          "base_uri": "https://localhost:8080/",
          "height": 0
        }
      },
      "source": [
        "# Hyperparameters for our network\n",
        "input_size = 784\n",
        "hidden_sizes = [128]\n",
        "output_size = 10\n",
        "\n",
        "model=nn.Sequential(nn.Linear(input_size,hidden_sizes[0]),\n",
        "                    nn.ReLU(),\n",
        "                    nn.Linear(hidden_sizes[0],output_size),\n",
        "                    nn.ReLU(),\n",
        "                    nn.Softmax(dim=1))\n",
        "print(model)"
      ],
      "execution_count": 185,
      "outputs": [
        {
          "output_type": "stream",
          "text": [
            "Sequential(\n",
            "  (0): Linear(in_features=784, out_features=128, bias=True)\n",
            "  (1): ReLU()\n",
            "  (2): Linear(in_features=128, out_features=10, bias=True)\n",
            "  (3): ReLU()\n",
            "  (4): Softmax(dim=1)\n",
            ")\n"
          ],
          "name": "stdout"
        }
      ]
    },
    {
      "cell_type": "code",
      "metadata": {
        "_uuid": "d461b698ae5973918405c9120db6e94194347a27",
        "id": "YTGl3o4q4DBQ",
        "outputId": "e09da90d-4575-4481-d9a6-8c364ad0fcc8",
        "colab": {
          "base_uri": "https://localhost:8080/",
          "height": 0
        }
      },
      "source": [
        "# Forward pass through the network and display output\n",
        "images, labels = next(iter(trainloader))\n",
        "images.resize_(images.shape[0], 1, 784)\n",
        "ps = model.forward(images[0,:])\n",
        "view_classify(images[0].view(1, 28, 28), ps)"
      ],
      "execution_count": 186,
      "outputs": [
        {
          "output_type": "display_data",
          "data": {
            "image/png": "[encoded data removed]",
            "text/plain": [
              "<Figure size 432x648 with 2 Axes>"
            ]
          },
          "metadata": {
            "tags": [],
            "image/png": {
              "width": 424,
              "height": 235
            },
            "needs_background": "light"
          }
        }
      ]
    },
    {
      "cell_type": "markdown",
      "metadata": {
        "_uuid": "d137ebac2a3367c41e6c001f2edf2a37b0b22211",
        "id": "jjHQZNqX4DBS"
      },
      "source": [
        "### Access Layers of the network\n",
        "We can access layers  by integer "
      ]
    },
    {
      "cell_type": "code",
      "metadata": {
        "_uuid": "0cf54881f8e022928a962d1d83fd5614a97a039e",
        "id": "Lm58z7bx4DBS",
        "outputId": "4c64d402-bd02-4af2-da8f-9b84a028e8a2",
        "colab": {
          "base_uri": "https://localhost:8080/",
          "height": 0
        }
      },
      "source": [
        "print(model[0])\n",
        "model[0].weight"
      ],
      "execution_count": 187,
      "outputs": [
        {
          "output_type": "stream",
          "text": [
            "Linear(in_features=784, out_features=128, bias=True)\n"
          ],
          "name": "stdout"
        },
        {
          "output_type": "execute_result",
          "data": {
            "text/plain": [
              "Parameter containing:\n",
              "tensor([[-0.0327,  0.0195,  0.0156,  ..., -0.0243,  0.0216, -0.0357],\n",
              "        [-0.0090, -0.0089,  0.0172,  ..., -0.0307, -0.0033,  0.0334],\n",
              "        [ 0.0048,  0.0018, -0.0121,  ...,  0.0347,  0.0283, -0.0262],\n",
              "        ...,\n",
              "        [-0.0137, -0.0214, -0.0272,  ...,  0.0293,  0.0096, -0.0304],\n",
              "        [-0.0088, -0.0070,  0.0050,  ...,  0.0131, -0.0104, -0.0101],\n",
              "        [ 0.0199,  0.0170,  0.0050,  ..., -0.0284, -0.0079,  0.0243]],\n",
              "       requires_grad=True)"
            ]
          },
          "metadata": {
            "tags": []
          },
          "execution_count": 187
        }
      ]
    },
    {
      "cell_type": "markdown",
      "metadata": {
        "_uuid": "0499ff7a787fc1885f5998f81f2395fc6bcc4108",
        "id": "2csfs3nj4DBU"
      },
      "source": [
        "### Ordered Dict- Better way to create a network\n",
        "We can also pass in an `OrderedDict` to name the individual layers and operations, instead of using incremental integers. Note that dictionary keys must be unique, so _each operation must have a different name_."
      ]
    },
    {
      "cell_type": "code",
      "metadata": {
        "_uuid": "ca7567562b0610e6ec4ec7d98f03032bbe32c061",
        "id": "Fh7-9VfL4DBV",
        "outputId": "0fbe8631-70a5-4275-ff48-d193c35f81af",
        "colab": {
          "base_uri": "https://localhost:8080/",
          "height": 0
        }
      },
      "source": [
        "from collections import OrderedDict\n",
        "model = nn.Sequential(OrderedDict([\n",
        "                      ('hidden', nn.Linear(input_size, hidden_sizes[0])),\n",
        "                      ('relu1', nn.ReLU()),\n",
        "                      ('output', nn.Linear(hidden_sizes[0], output_size)),\n",
        "                      ('softmax', nn.Softmax(dim=1))]))\n",
        "model"
      ],
      "execution_count": 188,
      "outputs": [
        {
          "output_type": "execute_result",
          "data": {
            "text/plain": [
              "Sequential(\n",
              "  (hidden): Linear(in_features=784, out_features=128, bias=True)\n",
              "  (relu1): ReLU()\n",
              "  (output): Linear(in_features=128, out_features=10, bias=True)\n",
              "  (softmax): Softmax(dim=1)\n",
              ")"
            ]
          },
          "metadata": {
            "tags": []
          },
          "execution_count": 188
        }
      ]
    },
    {
      "cell_type": "markdown",
      "metadata": {
        "_uuid": "c67ffda9a2ace0093371017d9abf4bc02a8656dc",
        "id": "fMg2ZNxD4DBX"
      },
      "source": [
        "### Access Layers using integer or name \n",
        "Now we can access layers  either by integer or name"
      ]
    },
    {
      "cell_type": "code",
      "metadata": {
        "_uuid": "6da7947d84c734eea2bf19acc3127bdf87ccce1c",
        "id": "ypn65-Ep4DBY",
        "outputId": "e7a70941-46f9-48da-b0ff-529633f31424",
        "colab": {
          "base_uri": "https://localhost:8080/",
          "height": 0
        }
      },
      "source": [
        "print(model[0])\n",
        "print(model.hidden)\n",
        "print(model.hidden.weight)"
      ],
      "execution_count": 189,
      "outputs": [
        {
          "output_type": "stream",
          "text": [
            "Linear(in_features=784, out_features=128, bias=True)\n",
            "Linear(in_features=784, out_features=128, bias=True)\n",
            "Parameter containing:\n",
            "tensor([[ 0.0116, -0.0194, -0.0004,  ...,  0.0030, -0.0017, -0.0325],\n",
            "        [-0.0316, -0.0054,  0.0126,  ...,  0.0113,  0.0009, -0.0032],\n",
            "        [ 0.0277,  0.0044,  0.0057,  ...,  0.0146, -0.0250, -0.0219],\n",
            "        ...,\n",
            "        [-0.0175,  0.0252,  0.0042,  ..., -0.0293,  0.0225,  0.0053],\n",
            "        [ 0.0006, -0.0225, -0.0076,  ...,  0.0161, -0.0171, -0.0310],\n",
            "        [ 0.0169, -0.0147,  0.0104,  ...,  0.0021,  0.0297, -0.0170]],\n",
            "       requires_grad=True)\n"
          ],
          "name": "stdout"
        }
      ]
    },
    {
      "cell_type": "markdown",
      "metadata": {
        "_uuid": "df59c9d06c7e7d2ec2b6582c6bb0934e2d49c58f",
        "id": "6e3jVOgM4DBa"
      },
      "source": [
        "### Recollect everything \n",
        "Before we go ahead and train a neural network to accuractly predict the numbers appearing in the MNIST images,let us recollect the important modules that is necessary for any model training exercise"
      ]
    },
    {
      "cell_type": "markdown",
      "metadata": {
        "_uuid": "f0df7ddfb84bf00cee50f9b916a9c61f1a65aaa9",
        "id": "f_Hs4w9J4DBb"
      },
      "source": [
        "#### Imports"
      ]
    },
    {
      "cell_type": "code",
      "metadata": {
        "ExecuteTime": {
          "end_time": "2019-02-04T13:03:17.978997Z",
          "start_time": "2019-02-04T13:03:17.973595Z"
        },
        "_uuid": "ff53d2bd4296f89b134eb961832043cce0e43e4d",
        "id": "rekP8JB34DBb"
      },
      "source": [
        "import torch\n",
        "from torch import nn\n",
        "import torch.nn.functional as F\n",
        "from torchvision import datasets,transforms"
      ],
      "execution_count": 190,
      "outputs": []
    },
    {
      "cell_type": "markdown",
      "metadata": {
        "_uuid": "7a1f47e2928ea88a7c9b45edb08ea75016b6fca6",
        "id": "fogM8L7P4DBg"
      },
      "source": [
        "#### Load Data"
      ]
    },
    {
      "cell_type": "code",
      "metadata": {
        "ExecuteTime": {
          "end_time": "2019-02-04T13:07:13.687456Z",
          "start_time": "2019-02-04T13:06:40.910295Z"
        },
        "_uuid": "c2c9d59a82c6bce28a611e1f409ced8b4f8fdc39",
        "id": "llRMkr-v4DBg"
      },
      "source": [
        "transform=transforms.Compose([transforms.ToTensor()])\n",
        "trainset=datasets.MNIST('~/.pytorch/MNIST_data/',train=True,transform=transform,download=True)\n",
        "testset=datasets.MNIST('~/.pytorch/MNIST_data/',train=False,transform=transform,download=True)\n",
        "\n",
        "trainloader=torch.utils.data.DataLoader(trainset,batch_size=64,shuffle=True,num_workers=0)\n",
        "#will explain later\n",
        "testloader=torch.utils.data.DataLoader(testset,batch_size=64,shuffle=True,num_workers=0)"
      ],
      "execution_count": 191,
      "outputs": []
    },
    {
      "cell_type": "markdown",
      "metadata": {
        "_uuid": "c7161f89857d013b0f837c620c0ed24657bed1b2",
        "id": "OY4Xho394DBk"
      },
      "source": [
        "#### Build a feedforward Network"
      ]
    },
    {
      "cell_type": "code",
      "metadata": {
        "ExecuteTime": {
          "end_time": "2019-02-04T13:03:47.741595Z",
          "start_time": "2019-02-04T13:03:47.735142Z"
        },
        "_uuid": "0e73fc284a626e4d7bbca629f817585aeb06fdd6",
        "id": "qzKD0j684DBk"
      },
      "source": [
        "# TODO: Build a feed-forward network in one of the three ways mentioned above:\n",
        "model = nn.Sequential(nn.Linear(784, 128),\n",
        "                      nn.ReLU(),\n",
        "                      nn.Linear(128, 64),\n",
        "                      nn.ReLU(),\n",
        "                      nn.Linear(64, 10),\n",
        "                      nn.LogSoftmax(dim=1))\n"
      ],
      "execution_count": 192,
      "outputs": []
    },
    {
      "cell_type": "markdown",
      "metadata": {
        "_uuid": "dfdb486a01347095c7c8d75de1d5b74443bbfd4f",
        "id": "XNVJKWay4DBo"
      },
      "source": [
        "#### Lets run one image through the network to check our work"
      ]
    },
    {
      "cell_type": "code",
      "metadata": {
        "ExecuteTime": {
          "end_time": "2019-02-04T13:03:49.422306Z",
          "start_time": "2019-02-04T13:03:49.121144Z"
        },
        "_uuid": "0864af9a75655db17435ef4940945a7d9532c671",
        "id": "50EvUnF34DBo",
        "outputId": "6e95eaea-2565-490f-ddbb-a9bdccbbb676",
        "colab": {
          "base_uri": "https://localhost:8080/",
          "height": 0
        }
      },
      "source": [
        "# Get our data\n",
        "images, labels = next(iter(trainloader))\n",
        "# Flatten images\n",
        "images = images.view(images.shape[0], -1)\n",
        "\n",
        "# Forward pass, get our logits\n",
        "logits = model(images)\n",
        "print(logits.shape)"
      ],
      "execution_count": 193,
      "outputs": [
        {
          "output_type": "stream",
          "text": [
            "torch.Size([64, 10])\n"
          ],
          "name": "stdout"
        }
      ]
    },
    {
      "cell_type": "markdown",
      "metadata": {
        "_uuid": "0d9976b19b6ca3910a3a4855754bdc1e3de1f52f",
        "id": "kOqfHHNJ4DBs"
      },
      "source": [
        "#### Define a loss function"
      ]
    },
    {
      "cell_type": "code",
      "metadata": {
        "ExecuteTime": {
          "end_time": "2019-02-04T13:03:52.643210Z",
          "start_time": "2019-02-04T13:03:52.638129Z"
        },
        "_uuid": "22466cb3a58aad481e903428de2642ff67e9bc1f",
        "id": "k7KhsCL94DBt"
      },
      "source": [
        "criterion = nn.NLLLoss()"
      ],
      "execution_count": 194,
      "outputs": []
    },
    {
      "cell_type": "code",
      "metadata": {
        "ExecuteTime": {
          "end_time": "2019-02-04T13:03:55.680366Z",
          "start_time": "2019-02-04T13:03:55.547651Z"
        },
        "_uuid": "2e3bda9d30daf829a8e19537715860ff7c678329",
        "id": "inh-tLMV4DBu",
        "outputId": "54707fb5-e97d-4eff-b6e9-b5806cf4935a",
        "colab": {
          "base_uri": "https://localhost:8080/",
          "height": 0
        }
      },
      "source": [
        "# Calculate the loss with the logits and the labels\n",
        "loss=criterion(logits,labels)\n",
        "print(loss)"
      ],
      "execution_count": 195,
      "outputs": [
        {
          "output_type": "stream",
          "text": [
            "tensor(2.3002, grad_fn=<NllLossBackward>)\n"
          ],
          "name": "stdout"
        }
      ]
    },
    {
      "cell_type": "markdown",
      "metadata": {
        "_uuid": "8a7dd6c45e94460f48dd048b35229f74a399a988",
        "id": "xlkpF1m_4DBw"
      },
      "source": [
        "## Autograd\n",
        "\n",
        "Now that we know how to calculate a loss, how do we use it to perform backpropagation? Torch provides a module, `autograd`, for automatically calculating the gradients of tensors. We can use it to calculate the gradients of all our parameters with respect to the loss. Autograd works by keeping track of operations performed on tensors, then going backwards through those operations, calculating gradients along the way.\n",
        "\n",
        "PyTorch keeps track of operations on a tensor and calculates the gradients, you need to set `requires_grad = True` on a tensor. You can do this at creation with the `requires_grad` keyword, or at any time with `x.requires_grad_(True)`.\n"
      ]
    },
    {
      "cell_type": "markdown",
      "metadata": {
        "_uuid": "d3361f46b9d9dbf06bc4a6b257f472129c2b01e1",
        "id": "P6CQP81X4DBw"
      },
      "source": [
        "Let's see an example to understand it better.Then again we will head back to our modelling task"
      ]
    },
    {
      "cell_type": "code",
      "metadata": {
        "_uuid": "5ab21186791f7e319778106ca1ffb327d0847e16",
        "id": "0ZYgrLYf4DBx",
        "outputId": "23cf418f-fab1-45b2-89e3-a4dc1be7c808",
        "colab": {
          "base_uri": "https://localhost:8080/",
          "height": 0
        }
      },
      "source": [
        "x = torch.randn(2,2, requires_grad=True)\n",
        "print(\"x:\",x)\n",
        "y = x**2\n",
        "print(\"y:\",y)\n",
        "## grad_fn shows the function that generated this variable\n",
        "print(\"y.grad_fn:\",y.grad_fn)\n",
        "z = y.mean()\n",
        "print(\"z:\",z)\n",
        "print(\"x.grad:\",x.grad)\n",
        "z.backward()\n",
        "print(\"x.grad:\",x.grad)\n",
        "print(\"x/2:\",x/2)"
      ],
      "execution_count": 196,
      "outputs": [
        {
          "output_type": "stream",
          "text": [
            "x: tensor([[ 1.1002, -0.1889],\n",
            "        [-0.6918, -1.8314]], requires_grad=True)\n",
            "y: tensor([[1.2104, 0.0357],\n",
            "        [0.4786, 3.3539]], grad_fn=<PowBackward0>)\n",
            "y.grad_fn: <PowBackward0 object at 0x7f2fed592eb8>\n",
            "z: tensor(1.2696, grad_fn=<MeanBackward0>)\n",
            "x.grad: None\n",
            "x.grad: tensor([[ 0.5501, -0.0944],\n",
            "        [-0.3459, -0.9157]])\n",
            "x/2: tensor([[ 0.5501, -0.0944],\n",
            "        [-0.3459, -0.9157]], grad_fn=<DivBackward0>)\n"
          ],
          "name": "stdout"
        }
      ]
    },
    {
      "cell_type": "markdown",
      "metadata": {
        "_uuid": "94d46a1835ad4987ff28365b28ee304d366336dc",
        "id": "mdd4kzZa4DBy"
      },
      "source": [
        "## Loss and Autograd together"
      ]
    },
    {
      "cell_type": "code",
      "metadata": {
        "ExecuteTime": {
          "end_time": "2019-02-04T13:04:00.684688Z",
          "start_time": "2019-02-04T13:04:00.535643Z"
        },
        "_uuid": "b0c5e229539704b93a5991c27849bd7b41abae80",
        "id": "x2Bp2C_14DBz",
        "outputId": "ad02f24e-e74d-4bcd-f8e5-f03e237ed325",
        "colab": {
          "base_uri": "https://localhost:8080/",
          "height": 0
        }
      },
      "source": [
        "# Build a feed-forward network\n",
        "model = nn.Sequential(nn.Linear(784, 128),\n",
        "                      nn.ReLU(),\n",
        "                      nn.Linear(128, 64),\n",
        "                      nn.ReLU(),\n",
        "                      nn.Linear(64, 10),\n",
        "                      nn.LogSoftmax(dim=1))\n",
        "\n",
        "criterion = nn.NLLLoss()\n",
        "images, labels = next(iter(trainloader))\n",
        "images = images.view(images.shape[0], -1)\n",
        "\n",
        "logits = model(images)\n",
        "loss = criterion(logits, labels)\n",
        "\n",
        "\n",
        "print('Before backward pass: \\n', model[0].weight.grad)\n",
        "\n",
        "loss.backward()\n",
        "\n",
        "print('After backward pass: \\n', model[0].weight.grad)"
      ],
      "execution_count": 197,
      "outputs": [
        {
          "output_type": "stream",
          "text": [
            "Before backward pass: \n",
            " None\n",
            "After backward pass: \n",
            " tensor([[0., 0., 0.,  ..., 0., 0., 0.],\n",
            "        [0., 0., 0.,  ..., 0., 0., 0.],\n",
            "        [0., 0., 0.,  ..., 0., 0., 0.],\n",
            "        ...,\n",
            "        [0., 0., 0.,  ..., 0., 0., 0.],\n",
            "        [0., 0., 0.,  ..., 0., 0., 0.],\n",
            "        [0., 0., 0.,  ..., 0., 0., 0.]])\n"
          ],
          "name": "stdout"
        }
      ]
    },
    {
      "cell_type": "markdown",
      "metadata": {
        "_uuid": "d184b346f9ed4194de74a29675da09076e52e0c4",
        "id": "iHu0ac6Z4DB1"
      },
      "source": [
        "## Defining the optimizer"
      ]
    },
    {
      "cell_type": "code",
      "metadata": {
        "ExecuteTime": {
          "end_time": "2019-02-04T13:04:04.271653Z",
          "start_time": "2019-02-04T13:04:04.266694Z"
        },
        "_uuid": "efadf9e312ec51f9f36d25f043d011c27f4f8fe2",
        "id": "uclj7uN44DB2"
      },
      "source": [
        "from torch import optim\n",
        "optimizer=optim.Adam(model.parameters(),lr=0.1)"
      ],
      "execution_count": 198,
      "outputs": []
    },
    {
      "cell_type": "markdown",
      "metadata": {
        "_uuid": "91c0777ba686873bd972d96e384c090c9baae3d8",
        "id": "YMzGLiTq4DB3"
      },
      "source": [
        "## Training for real"
      ]
    },
    {
      "cell_type": "code",
      "metadata": {
        "ExecuteTime": {
          "end_time": "2019-02-04T13:05:20.593146Z",
          "start_time": "2019-02-04T13:04:05.998666Z"
        },
        "_uuid": "6b6ac5071aad8b3232596ed1d4807d73aab09df3",
        "id": "SG_yue954DB3",
        "outputId": "641bb75b-1d52-4d88-d1de-33763791e6d0",
        "colab": {
          "base_uri": "https://localhost:8080/",
          "height": 0
        }
      },
      "source": [
        "epochs = 5\n",
        "for e in range(epochs):\n",
        "    running_loss = 0\n",
        "    for images, labels in trainloader:\n",
        "        # Flatten MNIST images into a 784 long vector\n",
        "        images = images.view(images.shape[0], -1)\n",
        "        optimizer.zero_grad()\n",
        "        output=model.forward(images)\n",
        "        # TODO: Training pass\n",
        "        \n",
        "        loss = criterion(output,labels)\n",
        "        loss.backward()\n",
        "        optimizer.step()\n",
        "        \n",
        "        running_loss += loss.item()*images.shape[0]\n",
        "    else:\n",
        "        print(f\"Epoch:{e} Training loss: {running_loss/len(trainloader.dataset)}\")"
      ],
      "execution_count": 199,
      "outputs": [
        {
          "output_type": "stream",
          "text": [
            "Epoch:0 Training loss: 1.1821442414601644\n",
            "Epoch:1 Training loss: 1.337578312810262\n",
            "Epoch:2 Training loss: 1.767912786992391\n",
            "Epoch:3 Training loss: 1.8740495970408122\n",
            "Epoch:4 Training loss: 1.9596610674540202\n"
          ],
          "name": "stdout"
        }
      ]
    },
    {
      "cell_type": "code",
      "metadata": {
        "ExecuteTime": {
          "end_time": "2019-02-04T13:06:05.063846Z",
          "start_time": "2019-02-04T13:06:04.983101Z"
        },
        "_uuid": "6d837662f725dc7196ba3d24130aa23090dc1616",
        "id": "nAsqu-lu4DB6"
      },
      "source": [
        "%matplotlib inline\n",
        "#import helper\n",
        "\n",
        "images, labels = next(iter(trainloader))\n",
        "\n",
        "img = images[0].view(1, 784)\n",
        "# Turn off gradients to speed up this part\n",
        "with torch.no_grad():\n",
        "    logits = model.forward(img)\n",
        "\n",
        "# Output of the network are logits, need to take softmax for probabilities\n",
        "ps = F.softmax(logits, dim=1)\n",
        "#helper.view_classify(img.view(1, 28, 28), ps)"
      ],
      "execution_count": 200,
      "outputs": []
    },
    {
      "cell_type": "markdown",
      "metadata": {
        "_uuid": "37a44994683bfe1fee884125d2e58ed08b62720b",
        "id": "g4hUTb6u4DB9"
      },
      "source": [
        "## Inference and Validation\n",
        "\n",
        "The goal of validation is to measure the model's performance on data that isn't part of the training set. Typically this is just accuracy, the percentage of classes the network predicted correctly. Other options are precision and recall and top-5 error rate. We'll focus on accuracy here. First I'll do a forward pass with one batch from the test set."
      ]
    },
    {
      "cell_type": "markdown",
      "metadata": {
        "_uuid": "e94326ca7cdc742c2c575294d260c257a97cab87",
        "id": "KjLRoPhS4DB-"
      },
      "source": [
        "### Inference on a batch of images\n",
        "Let us try to do this for a batch of images.Before that we will make some changes in our architecture"
      ]
    },
    {
      "cell_type": "code",
      "metadata": {
        "ExecuteTime": {
          "end_time": "2019-02-04T13:08:55.536357Z",
          "start_time": "2019-02-04T13:08:55.509217Z"
        },
        "_uuid": "e4ec78de08b2f24f5032ba181ec7a7d79428261a",
        "id": "JmXSm5P64DB-",
        "outputId": "37567106-6178-4829-83d0-c926682c9622",
        "colab": {
          "base_uri": "https://localhost:8080/",
          "height": 0
        }
      },
      "source": [
        "images, labels = next(iter(testloader))\n",
        "images.shape,labels.shape"
      ],
      "execution_count": 201,
      "outputs": [
        {
          "output_type": "execute_result",
          "data": {
            "text/plain": [
              "(torch.Size([64, 1, 28, 28]), torch.Size([64]))"
            ]
          },
          "metadata": {
            "tags": []
          },
          "execution_count": 201
        }
      ]
    },
    {
      "cell_type": "code",
      "metadata": {
        "ExecuteTime": {
          "end_time": "2019-02-04T13:09:03.958533Z",
          "start_time": "2019-02-04T13:09:03.928394Z"
        },
        "_uuid": "3f2244405b587c87c9347abd1ed4ab150f8d80aa",
        "id": "g85IuZKD4DCC",
        "outputId": "e90346ac-8bf7-4a80-9df2-fa485e7cbdca",
        "colab": {
          "base_uri": "https://localhost:8080/",
          "height": 0
        }
      },
      "source": [
        "images, labels = next(iter(testloader))\n",
        "img = images.view(images.shape[0], 784)\n",
        "# Get the class probabilities\n",
        "ps = torch.exp(model(img))\n",
        "# Make sure the shape is appropriate, we should get 10 class probabilities for 64 examples\n",
        "print(ps.shape)"
      ],
      "execution_count": 202,
      "outputs": [
        {
          "output_type": "stream",
          "text": [
            "torch.Size([64, 10])\n"
          ],
          "name": "stdout"
        }
      ]
    },
    {
      "cell_type": "code",
      "metadata": {
        "ExecuteTime": {
          "end_time": "2019-02-04T13:09:06.432988Z",
          "start_time": "2019-02-04T13:09:06.341035Z"
        },
        "_uuid": "72a2ebdd77e3380b972e24e1565bc7744beedd27",
        "id": "YLRbwojf4DCH",
        "outputId": "b0295a45-5cc0-4664-cc27-b3e71dae5cd5",
        "colab": {
          "base_uri": "https://localhost:8080/",
          "height": 0
        }
      },
      "source": [
        "top_prob,top_class=ps.topk(1,dim=1)\n",
        "top_prob.shape,top_class.shape"
      ],
      "execution_count": 203,
      "outputs": [
        {
          "output_type": "execute_result",
          "data": {
            "text/plain": [
              "(torch.Size([64, 1]), torch.Size([64, 1]))"
            ]
          },
          "metadata": {
            "tags": []
          },
          "execution_count": 203
        }
      ]
    },
    {
      "cell_type": "code",
      "metadata": {
        "ExecuteTime": {
          "end_time": "2019-02-04T13:10:21.313112Z",
          "start_time": "2019-02-04T13:10:21.305216Z"
        },
        "_uuid": "9f6368720bf311e1ee9977f0f2562a02b1afc12f",
        "id": "BJ4d8SbF4DCO",
        "outputId": "3469646d-6f0a-4a1f-a51f-15a0abe89dbf",
        "colab": {
          "base_uri": "https://localhost:8080/",
          "height": 0
        }
      },
      "source": [
        "top_class.view(64)"
      ],
      "execution_count": 204,
      "outputs": [
        {
          "output_type": "execute_result",
          "data": {
            "text/plain": [
              "tensor([8, 0, 8, 8, 0, 8, 8, 8, 0, 0, 8, 0, 8, 8, 0, 0, 8, 8, 0, 0, 8, 0, 0, 8,\n",
              "        0, 0, 0, 8, 8, 0, 0, 8, 8, 0, 0, 0, 8, 0, 0, 0, 8, 0, 0, 0, 0, 0, 0, 0,\n",
              "        8, 0, 8, 0, 0, 0, 8, 0, 0, 0, 8, 0, 0, 0, 0, 0])"
            ]
          },
          "metadata": {
            "tags": []
          },
          "execution_count": 204
        }
      ]
    },
    {
      "cell_type": "code",
      "metadata": {
        "_uuid": "a9a05d7571a12641d0da644ae00b1608346faf6a",
        "id": "sScTfQeQ4DCR",
        "scrolled": true,
        "outputId": "ff8144ab-0cf1-4d09-82fd-5e3cc13df1aa",
        "colab": {
          "base_uri": "https://localhost:8080/",
          "height": 0
        }
      },
      "source": [
        "import pandas as pd\n",
        "pd.DataFrame({\"Predicted\":top_class.view(top_class.shape[0]),\"Actual\":labels})"
      ],
      "execution_count": 205,
      "outputs": [
        {
          "output_type": "execute_result",
          "data": {
            "text/html": [
              "<div>\n",
              "<style scoped>\n",
              "    .dataframe tbody tr th:only-of-type {\n",
              "        vertical-align: middle;\n",
              "    }\n",
              "\n",
              "    .dataframe tbody tr th {\n",
              "        vertical-align: top;\n",
              "    }\n",
              "\n",
              "    .dataframe thead th {\n",
              "        text-align: right;\n",
              "    }\n",
              "</style>\n",
              "<table border=\"1\" class=\"dataframe\">\n",
              "  <thead>\n",
              "    <tr style=\"text-align: right;\">\n",
              "      <th></th>\n",
              "      <th>Predicted</th>\n",
              "      <th>Actual</th>\n",
              "    </tr>\n",
              "  </thead>\n",
              "  <tbody>\n",
              "    <tr>\n",
              "      <th>0</th>\n",
              "      <td>8</td>\n",
              "      <td>8</td>\n",
              "    </tr>\n",
              "    <tr>\n",
              "      <th>1</th>\n",
              "      <td>0</td>\n",
              "      <td>7</td>\n",
              "    </tr>\n",
              "    <tr>\n",
              "      <th>2</th>\n",
              "      <td>8</td>\n",
              "      <td>3</td>\n",
              "    </tr>\n",
              "    <tr>\n",
              "      <th>3</th>\n",
              "      <td>8</td>\n",
              "      <td>1</td>\n",
              "    </tr>\n",
              "    <tr>\n",
              "      <th>4</th>\n",
              "      <td>0</td>\n",
              "      <td>1</td>\n",
              "    </tr>\n",
              "    <tr>\n",
              "      <th>...</th>\n",
              "      <td>...</td>\n",
              "      <td>...</td>\n",
              "    </tr>\n",
              "    <tr>\n",
              "      <th>59</th>\n",
              "      <td>0</td>\n",
              "      <td>1</td>\n",
              "    </tr>\n",
              "    <tr>\n",
              "      <th>60</th>\n",
              "      <td>0</td>\n",
              "      <td>2</td>\n",
              "    </tr>\n",
              "    <tr>\n",
              "      <th>61</th>\n",
              "      <td>0</td>\n",
              "      <td>9</td>\n",
              "    </tr>\n",
              "    <tr>\n",
              "      <th>62</th>\n",
              "      <td>0</td>\n",
              "      <td>5</td>\n",
              "    </tr>\n",
              "    <tr>\n",
              "      <th>63</th>\n",
              "      <td>0</td>\n",
              "      <td>2</td>\n",
              "    </tr>\n",
              "  </tbody>\n",
              "</table>\n",
              "<p>64 rows × 2 columns</p>\n",
              "</div>"
            ],
            "text/plain": [
              "    Predicted  Actual\n",
              "0           8       8\n",
              "1           0       7\n",
              "2           8       3\n",
              "3           8       1\n",
              "4           0       1\n",
              "..        ...     ...\n",
              "59          0       1\n",
              "60          0       2\n",
              "61          0       9\n",
              "62          0       5\n",
              "63          0       2\n",
              "\n",
              "[64 rows x 2 columns]"
            ]
          },
          "metadata": {
            "tags": []
          },
          "execution_count": 205
        }
      ]
    },
    {
      "cell_type": "code",
      "metadata": {
        "_uuid": "3f958e5da0aed9b404c743c8798b64e0d4341fdd",
        "id": "QPgumHuE4DCV",
        "outputId": "3c554a03-4f46-43df-9793-9c6edee54886",
        "colab": {
          "base_uri": "https://localhost:8080/",
          "height": 0
        }
      },
      "source": [
        "equals=top_class == labels.view(*top_class.shape)\n",
        "accuracy=torch.mean(equals.type(torch.FloatTensor))\n",
        "accuracy.item()"
      ],
      "execution_count": 206,
      "outputs": [
        {
          "output_type": "execute_result",
          "data": {
            "text/plain": [
              "0.296875"
            ]
          },
          "metadata": {
            "tags": []
          },
          "execution_count": 206
        }
      ]
    },
    {
      "cell_type": "code",
      "metadata": {
        "ExecuteTime": {
          "end_time": "2019-02-04T13:27:29.556056Z",
          "start_time": "2019-02-04T13:27:29.541115Z"
        },
        "_uuid": "352673a9d93a8f6b52165952364a7793ff43b8f0",
        "id": "QecOZ7Bt4DCZ"
      },
      "source": [
        "class Network(nn.Module):\n",
        "    def __init__(self):\n",
        "        super().__init__()\n",
        "        self.fc1 = nn.Linear(784, 256)\n",
        "        self.fc2 = nn.Linear(256, 128)\n",
        "        self.fc3 = nn.Linear(128, 64)\n",
        "        self.fc4 = nn.Linear(64, 10)\n",
        "\n",
        "        # Dropout module with 0.2 drop probability\n",
        "        self.dropout = nn.Dropout(p=0.2)\n",
        "\n",
        "    def forward(self, x):\n",
        "        # make sure input tensor is flattened\n",
        "        x = x.view(x.shape[0], -1)\n",
        "\n",
        "        # Now with dropout\n",
        "        x = self.dropout(F.relu(self.fc1(x)))\n",
        "        x = self.dropout(F.relu(self.fc2(x)))\n",
        "        x = self.dropout(F.relu(self.fc3(x)))\n",
        "\n",
        "        # output so no dropout here\n",
        "        x = F.log_softmax(self.fc4(x), dim=1)\n",
        "\n",
        "        return x\n",
        "        \n",
        "model=Network()\n",
        "optimizer=optim.Adam(model.parameters(),lr=0.01)\n",
        "criterion=nn.NLLLoss()"
      ],
      "execution_count": 207,
      "outputs": []
    },
    {
      "cell_type": "code",
      "metadata": {
        "ExecuteTime": {
          "end_time": "2019-02-04T13:29:20.825396Z",
          "start_time": "2019-02-04T13:27:30.220213Z"
        },
        "_uuid": "d7ef3898265ce167202ee321100129a95e3b748e",
        "id": "ZJvxs4ib4DCa",
        "outputId": "53f4ee9a-2359-40cc-9d3d-3ad3ec67523c",
        "colab": {
          "base_uri": "https://localhost:8080/",
          "height": 0
        }
      },
      "source": [
        "epochs=5\n",
        "train_losses,test_losses=[],[]\n",
        "for e in range(epochs):\n",
        "    running_loss=0\n",
        "    for images,labels in trainloader:\n",
        "        optimizer.zero_grad()\n",
        "        #images=images.view(images.shape[0],-1)\n",
        "        log_ps=model(images)\n",
        "        loss=criterion(log_ps,labels) # a single value for ex 2.33\n",
        "        loss.backward()\n",
        "        optimizer.step()\n",
        "        running_loss += loss.item() * images.shape[0] ## (2.33*64 + 2.22*64 + 2.12*33) / 138 \n",
        "        \n",
        "    else:\n",
        "        test_loss=0\n",
        "        accuracy=0\n",
        "        \n",
        "        with torch.no_grad():\n",
        "            model.eval()\n",
        "            for images,labels in testloader:\n",
        "                log_ps=model(images)\n",
        "                test_loss+=criterion(log_ps,labels) *images.shape[0]\n",
        "                ps=torch.exp(log_ps)\n",
        "                top_p,top_class=ps.topk(1,dim=1)\n",
        "                equals=top_class==labels.view(*top_class.shape)\n",
        "                accuracy+=torch.sum(equals).item()\n",
        "        model.train()\n",
        "        train_losses.append(running_loss/len(trainloader.dataset))\n",
        "        test_losses.append(test_loss.item()/len(testloader.dataset))\n",
        "\n",
        "        print(\"Epoch: {}/{}.. \".format(e+1, epochs),\n",
        "              \"Training Loss: {:.3f}.. \".format(running_loss/len(trainloader.dataset)),\n",
        "              \"Test Loss: {:.3f}.. \".format(test_loss/len(testloader.dataset)),\n",
        "              \"Test Accuracy: {:.3f}\".format(accuracy/len(testloader.dataset)))    "
      ],
      "execution_count": 208,
      "outputs": [
        {
          "output_type": "stream",
          "text": [
            "Epoch: 1/5..  Training Loss: 0.400..  Test Loss: 0.186..  Test Accuracy: 0.953\n",
            "Epoch: 2/5..  Training Loss: 0.317..  Test Loss: 0.186..  Test Accuracy: 0.954\n",
            "Epoch: 3/5..  Training Loss: 0.295..  Test Loss: 0.182..  Test Accuracy: 0.960\n",
            "Epoch: 4/5..  Training Loss: 0.282..  Test Loss: 0.206..  Test Accuracy: 0.956\n",
            "Epoch: 5/5..  Training Loss: 0.266..  Test Loss: 0.163..  Test Accuracy: 0.960\n"
          ],
          "name": "stdout"
        }
      ]
    },
    {
      "cell_type": "code",
      "metadata": {
        "ExecuteTime": {
          "end_time": "2019-02-04T13:24:46.424543Z",
          "start_time": "2019-02-04T13:24:46.420315Z"
        },
        "id": "sDXM694d4DCc",
        "outputId": "8246389a-07ac-4afa-85be-296f5b6641fe",
        "colab": {
          "base_uri": "https://localhost:8080/",
          "height": 0
        }
      },
      "source": [
        "running_loss"
      ],
      "execution_count": 209,
      "outputs": [
        {
          "output_type": "execute_result",
          "data": {
            "text/plain": [
              "15962.222078859806"
            ]
          },
          "metadata": {
            "tags": []
          },
          "execution_count": 209
        }
      ]
    },
    {
      "cell_type": "code",
      "metadata": {
        "_uuid": "086d29056a5322e8c76820fcdc87ddc5424539ff",
        "id": "n_iWSBVm4DCe",
        "outputId": "818dbe8c-ac78-4948-e804-4f880816202b",
        "colab": {
          "base_uri": "https://localhost:8080/",
          "height": 0
        }
      },
      "source": [
        "import matplotlib.pyplot as plt\n",
        "%matplotlib inline\n",
        "plt.plot(train_losses, label='Training loss')\n",
        "plt.plot(test_losses, label='Validation loss')\n",
        "plt.legend(frameon=False)"
      ],
      "execution_count": 210,
      "outputs": [
        {
          "output_type": "execute_result",
          "data": {
            "text/plain": [
              "<matplotlib.legend.Legend at 0x7f2fed621f28>"
            ]
          },
          "metadata": {
            "tags": []
          },
          "execution_count": 210
        },
        {
          "output_type": "display_data",
          "data": {
            "image/png": "[encoded data removed]",
            "text/plain": [
              "<Figure size 432x288 with 1 Axes>"
            ]
          },
          "metadata": {
            "tags": [],
            "image/png": {
              "width": 378,
              "height": 248
            },
            "needs_background": "light"
          }
        }
      ]
    },
    {
      "cell_type": "markdown",
      "metadata": {
        "_uuid": "5612d928a89de850888b2caa3251617ff1ebc9fc",
        "id": "BybjWD-B4DCg"
      },
      "source": [
        "## Inference time"
      ]
    },
    {
      "cell_type": "code",
      "metadata": {
        "_uuid": "e908e92d92cf3f2634fa665acbca4012bacdb3bf",
        "id": "l--FFj6x4DCg",
        "outputId": "ce1a298b-1173-4e34-9593-3782e1d4e2e9",
        "colab": {
          "base_uri": "https://localhost:8080/",
          "height": 34
        }
      },
      "source": [
        "model.eval()\n",
        "\n",
        "dataiter = iter(testloader)\n",
        "images, labels = dataiter.next()\n",
        "img = images[0]\n",
        "# Convert 2D image to 1D vector\n",
        "img = img.view(1, 784)\n",
        "\n",
        "# Calculate the class probabilities (softmax) for img\n",
        "with torch.no_grad():\n",
        "    output = model.forward(img)\n",
        "\n",
        "ps = torch.exp(output)\n",
        "top_prob,top_class=ps.topk(1,dim=1)\n",
        "top_class.item(),labels[0]"
      ],
      "execution_count": 211,
      "outputs": [
        {
          "output_type": "execute_result",
          "data": {
            "text/plain": [
              "(5, tensor(5))"
            ]
          },
          "metadata": {
            "tags": []
          },
          "execution_count": 211
        }
      ]
    },
    {
      "cell_type": "markdown",
      "metadata": {
        "_uuid": "086a197d3e597422ee8b592832f811444577b876",
        "id": "HLqWHCBM4DCh"
      },
      "source": [
        "The parameters for PyTorch networks are stored in a model's state_dict\n",
        " Optimizer objects (torch.optim) also have a state_dict, which contains information about the optimizer’s state, as well as the hyperparameters used.\n",
        "\n",
        "Because state_dict objects are Python dictionaries, they can be easily saved, updated, altered, and restored, adding a great deal of modularity to PyTorch models and optimizers."
      ]
    },
    {
      "cell_type": "code",
      "metadata": {
        "_uuid": "2dbde41ca47a505766ec29ad2c89443f9a4d8d7a",
        "id": "ZtBvFdei4DCi",
        "outputId": "99310e85-5d58-4ee9-884a-8702e6c73589",
        "colab": {
          "base_uri": "https://localhost:8080/",
          "height": 168
        }
      },
      "source": [
        "print(\"Model's state_dict:\")\n",
        "for param_tensor in model.state_dict():\n",
        "    print(param_tensor, \"\\t\", model.state_dict()[param_tensor].size())"
      ],
      "execution_count": 212,
      "outputs": [
        {
          "output_type": "stream",
          "text": [
            "Model's state_dict:\n",
            "fc1.weight \t torch.Size([256, 784])\n",
            "fc1.bias \t torch.Size([256])\n",
            "fc2.weight \t torch.Size([128, 256])\n",
            "fc2.bias \t torch.Size([128])\n",
            "fc3.weight \t torch.Size([64, 128])\n",
            "fc3.bias \t torch.Size([64])\n",
            "fc4.weight \t torch.Size([10, 64])\n",
            "fc4.bias \t torch.Size([10])\n"
          ],
          "name": "stdout"
        }
      ]
    },
    {
      "cell_type": "code",
      "metadata": {
        "_uuid": "67e383a0385379d68f1c4f0d38143504b098a8d5",
        "id": "FjWuuhJq4DCj",
        "outputId": "97535c74-28c5-4c39-e187-7c5958c94058",
        "colab": {
          "base_uri": "https://localhost:8080/",
          "height": 1000
        }
      },
      "source": [
        "# Print optimizer's state_dict\n",
        "print(\"Optimizer's state_dict:\")\n",
        "for var_name in optimizer.state_dict():\n",
        "    print(var_name, \"\\t\", optimizer.state_dict()[var_name])"
      ],
      "execution_count": 213,
      "outputs": [
        {
          "output_type": "stream",
          "text": [
            "Optimizer's state_dict:\n",
            "state \t {0: {'step': 4690, 'exp_avg': tensor([[0., 0., 0.,  ..., 0., 0., 0.],\n",
            "        [0., 0., 0.,  ..., 0., 0., 0.],\n",
            "        [0., 0., 0.,  ..., 0., 0., 0.],\n",
            "        ...,\n",
            "        [0., 0., 0.,  ..., 0., 0., 0.],\n",
            "        [0., 0., 0.,  ..., 0., 0., 0.],\n",
            "        [0., 0., 0.,  ..., 0., 0., 0.]]), 'exp_avg_sq': tensor([[0., 0., 0.,  ..., 0., 0., 0.],\n",
            "        [0., 0., 0.,  ..., 0., 0., 0.],\n",
            "        [0., 0., 0.,  ..., 0., 0., 0.],\n",
            "        ...,\n",
            "        [0., 0., 0.,  ..., 0., 0., 0.],\n",
            "        [0., 0., 0.,  ..., 0., 0., 0.],\n",
            "        [0., 0., 0.,  ..., 0., 0., 0.]])}, 1: {'step': 4690, 'exp_avg': tensor([-1.5851e-03, -3.9921e-05, -5.2564e-04, -1.8592e-09, -1.2094e-03,\n",
            "         7.7686e-04,  4.8219e-05, -9.3618e-07, -3.4467e-04,  3.7726e-04,\n",
            "        -5.9885e-06,  6.3223e-05, -4.1109e-04,  1.0899e-03,  5.6052e-45,\n",
            "         2.2290e-04, -5.5181e-04,  5.6052e-45,  1.3298e-42,  3.9333e-04,\n",
            "        -2.3641e-05,  3.7491e-04,  5.6052e-45,  2.8027e-27,  1.3280e-04,\n",
            "         5.6052e-45,  5.6052e-45,  5.6052e-45, -1.4892e-06,  5.6052e-45,\n",
            "         5.6052e-45, -6.2918e-43,  2.9265e-04,  1.0051e-27,  5.6052e-45,\n",
            "         6.6530e-05,  1.7237e-17,  1.3171e-04,  5.6052e-45, -7.9868e-05,\n",
            "        -9.5452e-04,  4.4441e-04,  5.6052e-45,  6.6139e-04, -1.2521e-04,\n",
            "         5.0087e-04, -1.5593e-05, -5.2502e-04, -6.1128e-06,  7.8729e-17,\n",
            "        -1.4688e-04,  1.1564e-07, -8.7202e-04,  5.6052e-45, -7.2496e-04,\n",
            "         5.6052e-45, -7.5261e-06,  3.6015e-04,  5.6052e-45, -5.6648e-06,\n",
            "        -1.6107e-04,  1.6499e-15, -3.1411e-04, -4.1303e-04,  1.0774e-05,\n",
            "         1.6181e-05, -2.1378e-04,  8.9733e-04,  5.6052e-45,  5.6052e-45,\n",
            "        -1.1485e-03, -1.3013e-04,  5.6052e-45, -4.4880e-04, -1.8010e-04,\n",
            "         5.6052e-45,  5.6052e-45,  1.8004e-04,  6.7565e-05, -1.0972e-05,\n",
            "        -4.5065e-08,  5.6052e-45,  5.6052e-45,  8.8854e-05,  5.6052e-45,\n",
            "         5.6052e-45,  3.3987e-04,  5.6052e-45, -8.7923e-04, -2.7977e-13,\n",
            "        -2.0174e-04, -2.5263e-06, -4.6056e-04, -8.5733e-05,  5.6052e-45,\n",
            "        -3.0961e-04, -5.6230e-04,  5.6052e-45,  1.3110e-03,  3.0518e-03,\n",
            "         5.6052e-45, -2.1019e-19,  1.6403e-06, -1.3141e-29,  1.1474e-04,\n",
            "         6.2579e-04, -6.2491e-05, -5.4969e-18,  3.4641e-20,  5.6052e-45,\n",
            "         6.2106e-42,  5.6052e-45,  5.6052e-45,  1.1609e-03,  4.0882e-04,\n",
            "         5.6052e-45,  5.6052e-45, -1.6375e-03, -7.9167e-04,  3.8317e-04,\n",
            "         5.2967e-24,  5.6052e-45,  5.6052e-45,  5.6052e-45,  5.6052e-45,\n",
            "        -1.9768e-04, -1.4263e-04, -5.8525e-06,  5.6052e-45,  1.8624e-03,\n",
            "        -3.9972e-04, -8.6737e-05,  1.0983e-04,  2.7717e-03, -7.5643e-04,\n",
            "         5.6052e-45, -9.2081e-06,  1.4013e-44,  5.6052e-45,  4.1120e-04,\n",
            "        -6.6375e-05,  5.6052e-45, -4.2619e-04,  5.6052e-45,  3.9234e-04,\n",
            "        -5.6052e-45,  5.6052e-45,  1.2212e-03,  5.6052e-45,  1.1353e-03,\n",
            "         5.6052e-45,  5.6052e-45, -5.9024e-04,  5.6052e-45,  2.8220e-04,\n",
            "        -6.6840e-04,  7.6835e-06,  5.6052e-45,  5.6052e-45, -1.1112e-04,\n",
            "         5.6052e-45,  1.7877e-04,  1.2040e-03,  4.1869e-04,  5.6052e-45,\n",
            "        -1.1402e-05, -1.2580e-04,  5.6052e-45, -5.3512e-05,  8.6381e-04,\n",
            "         7.1019e-04, -2.1907e-05,  5.6052e-45, -5.3809e-04,  1.2365e-03,\n",
            "         5.6052e-45, -5.9541e-04,  5.6052e-45, -4.4872e-04,  2.5058e-04,\n",
            "         5.6052e-45, -5.7572e-05, -2.2439e-18,  5.6052e-45, -8.7777e-06,\n",
            "         4.1132e-07, -1.0146e-04, -1.8600e-07,  5.6052e-45, -2.4096e-04,\n",
            "         5.6052e-45,  1.2351e-04, -3.2611e-04,  1.4196e-13,  1.1957e-05,\n",
            "         8.8728e-04,  1.8229e-12, -4.7912e-04,  5.6052e-45,  5.6052e-45,\n",
            "         3.6773e-17,  5.6052e-45,  1.0269e-03,  3.4778e-05,  5.6052e-45,\n",
            "         1.7491e-04, -7.2163e-05, -1.0519e-04,  1.0364e-04,  5.6052e-45,\n",
            "         5.6498e-05,  5.6052e-45,  4.7750e-04,  5.6052e-45, -3.8314e-05,\n",
            "         2.4014e-04,  2.5694e-04,  4.4431e-05, -8.8696e-06, -1.4134e-04,\n",
            "         3.0396e-04,  1.7037e-03, -6.0822e-07, -3.7831e-04,  5.6052e-45,\n",
            "        -4.5667e-04,  5.6052e-45,  5.6052e-45,  4.3238e-04, -2.3906e-05,\n",
            "        -5.0800e-08,  5.6052e-45, -2.1016e-22, -2.3656e-03,  5.6052e-45,\n",
            "         5.6052e-45,  1.8390e-04,  5.6052e-45,  1.1956e-05,  2.1527e-03,\n",
            "        -1.1114e-40,  5.6052e-45,  4.1591e-04, -1.1876e-03,  3.5289e-04,\n",
            "         5.6052e-45,  5.6052e-45,  4.6533e-04,  5.6052e-45,  5.6052e-45,\n",
            "        -2.2797e-04,  7.0357e-04,  1.4392e-04,  5.6052e-45,  1.7727e-04,\n",
            "         5.6052e-45]), 'exp_avg_sq': tensor([1.8914e-05, 1.1841e-05, 2.9239e-05, 2.8944e-06, 2.6998e-05, 1.1349e-05,\n",
            "        8.1893e-07, 2.4385e-06, 3.9190e-06, 2.0860e-05, 2.5335e-06, 3.3469e-06,\n",
            "        2.0975e-05, 1.5775e-05, 3.3306e-12, 7.5808e-06, 3.1373e-05, 2.6856e-12,\n",
            "        2.2046e-08, 2.2164e-06, 2.9839e-06, 1.8356e-05, 7.2095e-12, 1.2354e-09,\n",
            "        2.1865e-05, 1.2086e-12, 8.9399e-11, 2.5092e-08, 1.4984e-05, 6.2834e-12,\n",
            "        2.3850e-12, 3.3074e-09, 1.0564e-05, 5.3474e-09, 2.5045e-11, 1.4851e-06,\n",
            "        3.6546e-09, 3.2080e-06, 1.2774e-12, 1.3435e-06, 1.7303e-05, 1.4006e-05,\n",
            "        1.3707e-10, 1.2942e-05, 1.0432e-05, 1.1335e-05, 2.3010e-06, 6.9084e-06,\n",
            "        4.3738e-06, 1.2110e-08, 3.2171e-05, 2.2697e-07, 2.1021e-05, 1.8742e-12,\n",
            "        1.3377e-05, 4.3256e-10, 1.5069e-06, 2.1095e-05, 1.1602e-08, 2.5022e-06,\n",
            "        7.9517e-06, 3.0746e-07, 6.7629e-06, 1.3843e-05, 3.9299e-06, 1.1835e-06,\n",
            "        7.3933e-06, 1.9170e-05, 6.5082e-10, 4.2443e-11, 6.7506e-06, 8.6297e-06,\n",
            "        8.6307e-12, 8.7922e-06, 4.4096e-06, 8.1438e-12, 3.8757e-12, 1.3453e-05,\n",
            "        2.1899e-05, 1.4654e-06, 3.1586e-08, 2.2577e-09, 3.7908e-08, 8.3051e-07,\n",
            "        4.1434e-12, 4.6857e-12, 5.9748e-06, 6.6503e-11, 2.2917e-05, 8.2059e-08,\n",
            "        7.9042e-06, 1.4237e-05, 1.5137e-05, 1.1980e-06, 1.2086e-07, 5.7579e-08,\n",
            "        4.5162e-06, 7.5182e-12, 1.8940e-05, 3.1817e-05, 1.1690e-11, 1.4168e-06,\n",
            "        4.9331e-06, 1.2393e-08, 8.0939e-06, 9.2968e-06, 1.6462e-05, 1.5788e-09,\n",
            "        3.2292e-08, 5.4911e-13, 1.9355e-08, 1.9006e-10, 9.4321e-13, 2.4319e-05,\n",
            "        1.7190e-05, 4.9794e-12, 3.0274e-11, 1.7198e-05, 1.7576e-05, 6.4685e-06,\n",
            "        1.2732e-07, 8.0583e-13, 9.5527e-12, 7.7725e-10, 3.1131e-08, 4.8973e-06,\n",
            "        3.5409e-06, 1.8571e-06, 1.5576e-11, 2.5135e-05, 2.4940e-05, 1.8902e-06,\n",
            "        1.8538e-05, 1.7737e-05, 8.3520e-06, 3.6970e-12, 1.7043e-05, 4.0179e-08,\n",
            "        1.2147e-11, 3.6155e-06, 4.4702e-06, 3.3111e-13, 7.8704e-06, 5.1641e-09,\n",
            "        1.6361e-05, 2.5304e-08, 4.7760e-12, 1.2228e-05, 2.2039e-11, 2.2330e-05,\n",
            "        2.1228e-11, 3.7139e-12, 1.7608e-05, 3.9013e-11, 2.7680e-05, 2.8427e-05,\n",
            "        6.1066e-06, 1.5159e-11, 3.6747e-12, 1.0470e-05, 8.1635e-10, 1.0345e-05,\n",
            "        8.6361e-06, 3.5672e-06, 2.0961e-12, 2.3662e-05, 6.3380e-06, 1.6813e-12,\n",
            "        1.5413e-05, 9.9575e-06, 3.0363e-05, 1.2845e-05, 2.7521e-12, 2.3077e-05,\n",
            "        3.6578e-05, 7.8823e-12, 1.0472e-05, 2.7933e-09, 2.9445e-06, 3.6494e-06,\n",
            "        4.6137e-10, 1.2168e-06, 3.1815e-07, 1.4964e-12, 3.3606e-06, 1.1711e-05,\n",
            "        6.3283e-06, 5.1426e-06, 8.2274e-09, 1.8871e-05, 7.5000e-12, 1.7492e-05,\n",
            "        1.1849e-05, 2.1832e-07, 3.9824e-06, 1.7628e-05, 5.5489e-08, 9.3159e-06,\n",
            "        3.0221e-09, 3.1143e-11, 1.2408e-07, 4.7783e-10, 7.0919e-06, 1.1781e-05,\n",
            "        2.9594e-11, 6.1875e-06, 6.0253e-06, 7.5952e-06, 1.7002e-05, 1.2585e-11,\n",
            "        1.4614e-05, 1.1587e-08, 1.0007e-05, 1.6981e-09, 4.9913e-06, 2.0895e-05,\n",
            "        3.0311e-05, 5.9588e-06, 3.5454e-07, 1.7232e-05, 2.8695e-06, 8.5640e-06,\n",
            "        8.1014e-06, 7.4550e-06, 3.3786e-08, 9.0452e-06, 9.2724e-10, 1.6918e-09,\n",
            "        9.9071e-06, 6.4426e-07, 8.2816e-06, 8.5318e-12, 3.1722e-10, 2.7027e-05,\n",
            "        2.3908e-08, 1.2507e-12, 1.2924e-05, 1.6016e-12, 5.6956e-06, 2.1879e-05,\n",
            "        4.3468e-09, 4.0010e-11, 9.4374e-06, 1.0565e-05, 3.3953e-06, 2.5200e-12,\n",
            "        9.6720e-12, 2.6243e-05, 5.9238e-12, 1.0067e-11, 6.9089e-06, 1.3111e-05,\n",
            "        4.4947e-06, 2.5207e-11, 9.2294e-06, 4.1944e-12])}, 2: {'step': 4690, 'exp_avg': tensor([[ 2.5265e-04, -9.8285e-07,  1.1664e-03,  ...,  5.6052e-45,\n",
            "          9.7451e-08, -5.6052e-45],\n",
            "        [ 8.6958e-21,  1.4719e-22, -6.7656e-04,  ...,  5.6052e-45,\n",
            "          3.4837e-09,  5.6052e-45],\n",
            "        [-1.0828e-03,  1.3338e-07, -4.3120e-04,  ..., -5.6052e-45,\n",
            "          2.3430e-16, -5.6052e-45],\n",
            "        ...,\n",
            "        [-7.6441e-11,  1.6746e-26,  1.7456e-03,  ...,  5.6052e-45,\n",
            "         -5.6052e-45,  5.6052e-45],\n",
            "        [-1.3637e-05, -7.0795e-14,  1.7204e-03,  ..., -5.6052e-45,\n",
            "          2.3106e-04,  5.6052e-45],\n",
            "        [ 1.9006e-11, -5.5593e-11, -7.9637e-06,  ..., -5.6052e-45,\n",
            "          5.8607e-07,  5.6052e-45]]), 'exp_avg_sq': tensor([[1.3452e-05, 4.5909e-05, 2.5863e-04,  ..., 2.0006e-13, 5.1082e-06,\n",
            "         7.2211e-15],\n",
            "        [4.4289e-07, 8.2094e-07, 1.4485e-04,  ..., 5.3048e-14, 2.3148e-06,\n",
            "         1.7503e-13],\n",
            "        [1.5893e-05, 8.8291e-06, 2.6549e-05,  ..., 3.4641e-12, 8.1132e-06,\n",
            "         3.9074e-13],\n",
            "        ...,\n",
            "        [4.2045e-07, 2.3686e-07, 1.0618e-04,  ..., 1.1126e-11, 9.7140e-08,\n",
            "         7.9181e-13],\n",
            "        [8.6282e-07, 7.2360e-06, 9.1502e-05,  ..., 7.4232e-12, 2.9821e-07,\n",
            "         5.5960e-12],\n",
            "        [1.1566e-07, 4.6535e-06, 5.4246e-05,  ..., 9.1077e-13, 1.1936e-05,\n",
            "         2.2424e-12]])}, 3: {'step': 4690, 'exp_avg': tensor([ 4.9677e-04, -6.7139e-08, -3.9821e-04,  2.0736e-04, -1.0704e-09,\n",
            "        -1.4404e-05,  1.5460e-04,  1.9794e-05, -7.0487e-05, -4.5785e-05,\n",
            "        -8.5748e-04,  1.7406e-05, -7.5274e-04, -9.8207e-05,  1.3314e-04,\n",
            "        -1.2638e-04, -2.7793e-13, -5.5822e-06,  5.6903e-05, -4.2545e-05,\n",
            "        -8.4019e-05, -7.2030e-04, -1.3818e-03, -1.6288e-05, -1.9930e-04,\n",
            "        -1.5403e-05,  2.4306e-05,  1.8253e-04, -6.2833e-06,  2.7637e-04,\n",
            "         1.3087e-03,  8.2822e-05, -9.5777e-06, -1.4499e-04,  3.6317e-05,\n",
            "        -1.5086e-05, -5.8513e-06,  5.7213e-04, -4.8579e-06,  4.6491e-04,\n",
            "        -1.6507e-12, -1.2140e-03,  4.9563e-08,  5.3372e-06, -2.1107e-04,\n",
            "         6.1532e-05, -3.4927e-04,  2.0299e-04,  6.9059e-07,  1.9750e-05,\n",
            "        -6.7936e-05,  4.9458e-04,  1.5058e-04,  5.5126e-05,  2.9494e-04,\n",
            "         4.0622e-04,  1.3717e-04,  3.7931e-06, -2.5249e-05,  5.6529e-05,\n",
            "        -1.4649e-05, -6.4348e-05, -2.1142e-04, -1.3886e-04, -2.4697e-11,\n",
            "        -3.8222e-06, -4.3138e-05, -2.4217e-06,  7.5362e-05,  4.0064e-05,\n",
            "         3.8892e-04, -2.5906e-05,  1.6629e-04, -4.3271e-06, -1.6992e-04,\n",
            "         3.0018e-04, -1.3827e-04, -5.4049e-04, -3.5477e-04, -6.9980e-04,\n",
            "        -1.4564e-04,  1.9694e-05, -4.5734e-05,  6.5434e-04, -4.4120e-05,\n",
            "         1.9157e-04, -1.2741e-04, -1.5023e-04, -1.3967e-04, -3.4434e-04,\n",
            "         2.3378e-04, -8.0356e-04,  4.2586e-05,  4.0692e-04, -9.1426e-05,\n",
            "        -4.4971e-07,  1.6477e-04, -3.9905e-04,  2.1791e-04,  2.0981e-06,\n",
            "         8.7238e-05, -6.2413e-06,  8.2436e-06,  6.9991e-04,  2.7704e-04,\n",
            "         3.5462e-05,  6.6222e-05,  4.5780e-05,  4.2540e-07, -4.4705e-04,\n",
            "        -2.7526e-05,  5.4301e-04,  1.7471e-04,  5.3630e-04,  1.1390e-04,\n",
            "        -5.8800e-06,  1.5371e-05,  5.2368e-04, -5.2953e-05, -1.4492e-04,\n",
            "         1.3083e-06, -1.1508e-04, -4.2696e-04, -4.4786e-04,  1.5318e-04,\n",
            "         7.6838e-04,  2.4039e-04, -1.4665e-06]), 'exp_avg_sq': tensor([6.1726e-06, 2.0252e-06, 6.0386e-06, 1.0389e-06, 2.3521e-07, 1.9770e-06,\n",
            "        2.5730e-06, 2.1058e-06, 2.6380e-06, 9.9437e-07, 5.0134e-06, 6.4180e-07,\n",
            "        4.3727e-06, 2.5482e-06, 5.2001e-06, 3.7626e-06, 8.0937e-08, 8.0556e-06,\n",
            "        1.8600e-06, 5.7443e-06, 3.4994e-06, 3.1471e-06, 6.6968e-06, 8.6049e-07,\n",
            "        2.7934e-06, 3.1869e-07, 3.5749e-06, 5.4428e-06, 6.0049e-07, 2.2809e-06,\n",
            "        5.8329e-06, 6.5566e-07, 8.6348e-07, 3.6824e-07, 6.4801e-07, 5.0012e-07,\n",
            "        1.2040e-06, 5.6580e-06, 1.9369e-06, 2.6006e-06, 7.1693e-08, 6.3837e-06,\n",
            "        9.6886e-07, 1.5599e-06, 1.5802e-06, 3.7091e-06, 3.8540e-06, 2.8857e-06,\n",
            "        6.4528e-07, 1.5229e-06, 3.5060e-06, 5.8145e-06, 4.2520e-06, 8.1766e-07,\n",
            "        3.6148e-06, 3.0578e-06, 7.3876e-06, 5.7615e-07, 1.6661e-07, 1.7487e-06,\n",
            "        1.0453e-06, 3.6584e-06, 4.7797e-06, 6.2087e-06, 3.0536e-07, 7.5915e-07,\n",
            "        2.9200e-06, 5.9720e-07, 1.0562e-06, 4.5085e-06, 4.4755e-06, 3.7988e-06,\n",
            "        3.0365e-06, 1.2453e-06, 2.6960e-06, 2.6548e-06, 1.1192e-06, 3.7279e-06,\n",
            "        1.1147e-07, 7.7841e-06, 2.7622e-06, 4.0740e-08, 6.9161e-07, 4.5823e-06,\n",
            "        3.7535e-06, 1.3124e-06, 1.9820e-06, 2.3260e-06, 5.3257e-07, 4.6106e-06,\n",
            "        3.2537e-06, 3.9268e-06, 8.8513e-07, 4.7330e-06, 3.1121e-06, 8.5189e-07,\n",
            "        1.9809e-06, 1.6423e-06, 4.7637e-06, 1.0024e-06, 8.5005e-07, 1.5542e-06,\n",
            "        1.0626e-06, 3.1096e-06, 3.1016e-06, 3.9876e-06, 2.3666e-06, 3.0953e-06,\n",
            "        4.8309e-07, 3.7612e-06, 1.8580e-06, 6.5004e-07, 5.9238e-07, 1.6611e-06,\n",
            "        1.3753e-06, 1.2759e-06, 1.8308e-07, 4.4548e-06, 7.5251e-07, 6.6767e-06,\n",
            "        8.6209e-07, 1.2440e-06, 3.2713e-06, 4.9881e-06, 3.4899e-06, 2.0734e-06,\n",
            "        3.1588e-06, 1.3876e-06])}, 4: {'step': 4690, 'exp_avg': tensor([[ 5.6052e-45,  5.6052e-45,  5.6052e-45,  ...,  5.6052e-45,\n",
            "         -1.8093e-28, -2.8832e-37],\n",
            "        [-6.1480e-13, -1.7996e-20,  7.3512e-38,  ...,  5.6052e-45,\n",
            "          1.2916e-15, -9.4380e-21],\n",
            "        [-8.2637e-05, -3.4411e-07, -2.2767e-05,  ..., -1.5929e-07,\n",
            "         -4.0967e-03, -2.1850e-07],\n",
            "        ...,\n",
            "        [ 4.9584e-05,  6.8383e-05, -2.2911e-05,  ..., -6.2161e-04,\n",
            "          6.6319e-04,  4.7136e-10],\n",
            "        [ 9.4316e-19, -7.7995e-05, -2.7250e-05,  ...,  2.1015e-10,\n",
            "         -5.0868e-18,  1.1796e-37],\n",
            "        [-2.1994e-05,  1.9071e-03,  2.8489e-04,  ...,  1.2472e-03,\n",
            "          1.1095e-03, -1.7506e-13]]), 'exp_avg_sq': tensor([[8.1606e-06, 3.6158e-08, 2.4530e-06,  ..., 5.5044e-09, 2.9771e-06,\n",
            "         2.2980e-07],\n",
            "        [3.8575e-05, 1.3555e-08, 8.7650e-07,  ..., 1.9883e-11, 1.5308e-06,\n",
            "         4.4841e-10],\n",
            "        [3.1903e-05, 1.2899e-06, 3.8385e-06,  ..., 7.6079e-07, 7.9247e-05,\n",
            "         2.3602e-07],\n",
            "        ...,\n",
            "        [7.0181e-05, 1.1943e-05, 1.1969e-05,  ..., 1.0506e-06, 5.2427e-05,\n",
            "         8.8689e-07],\n",
            "        [2.6437e-05, 3.8090e-05, 1.6253e-05,  ..., 1.9270e-06, 4.2621e-06,\n",
            "         3.0400e-07],\n",
            "        [1.9286e-05, 1.0413e-04, 5.5846e-06,  ..., 5.1099e-05, 1.3452e-04,\n",
            "         5.3626e-06]])}, 5: {'step': 4690, 'exp_avg': tensor([ 4.2419e-05,  3.3998e-06, -3.2344e-04, -2.9298e-04, -2.8771e-06,\n",
            "        -1.3727e-05, -2.6703e-10, -8.6591e-06,  7.9167e-05, -2.5408e-04,\n",
            "        -6.4616e-04, -6.3293e-04, -9.6434e-05, -2.9210e-04,  8.2862e-04,\n",
            "        -7.3410e-10,  1.2149e-03, -3.2319e-10,  4.0691e-04,  6.2950e-04,\n",
            "        -2.0109e-04, -1.5782e-04, -7.7021e-06,  7.8858e-04,  3.9650e-04,\n",
            "         8.0889e-04,  3.2844e-05, -1.7235e-04,  5.6052e-45, -1.8323e-05,\n",
            "        -2.3836e-04, -9.2357e-08,  2.0206e-04,  3.9432e-04,  1.0709e-04,\n",
            "        -7.9418e-04,  3.4632e-06,  2.4424e-05, -7.0312e-04,  6.1290e-11,\n",
            "        -6.9126e-05, -6.5310e-09,  6.4788e-04, -3.1997e-04,  2.5468e-07,\n",
            "        -9.2518e-16, -1.0618e-03, -1.0021e-03, -4.0266e-04,  6.6773e-05,\n",
            "        -7.1962e-04, -5.4765e-04,  2.8769e-04,  6.3980e-04, -2.9914e-04,\n",
            "        -1.9736e-06,  3.4589e-04,  1.3097e-11, -8.8139e-05,  2.7291e-04,\n",
            "         7.3692e-04, -3.1940e-04, -4.4804e-04,  1.8312e-04]), 'exp_avg_sq': tensor([1.3027e-07, 6.5046e-07, 2.2730e-06, 2.3461e-06, 1.2809e-06, 2.8125e-07,\n",
            "        2.3132e-07, 7.7143e-06, 3.9986e-06, 7.9728e-06, 1.0739e-05, 7.4446e-06,\n",
            "        3.8571e-06, 8.1727e-06, 8.3509e-06, 5.3818e-07, 7.3254e-06, 7.9090e-07,\n",
            "        4.0498e-06, 3.2167e-06, 5.3053e-06, 5.7554e-06, 8.4084e-07, 1.3868e-06,\n",
            "        2.0963e-06, 5.2942e-06, 7.5643e-06, 9.3894e-07, 2.7639e-09, 4.7710e-06,\n",
            "        7.4919e-06, 2.8411e-07, 1.4980e-06, 1.0660e-05, 4.9068e-07, 6.1747e-06,\n",
            "        1.4816e-06, 3.5597e-06, 4.0251e-06, 5.5682e-08, 2.1406e-06, 7.8677e-07,\n",
            "        9.5828e-06, 6.3089e-06, 1.1260e-06, 2.9924e-07, 5.2804e-06, 5.0564e-06,\n",
            "        2.8199e-06, 2.5111e-06, 6.2904e-06, 5.6117e-06, 3.0391e-06, 5.4121e-06,\n",
            "        6.6730e-06, 1.2789e-06, 4.5551e-06, 2.1000e-07, 2.0770e-06, 6.9007e-06,\n",
            "        3.1259e-06, 6.6574e-06, 5.4290e-06, 4.4444e-06])}, 6: {'step': 4690, 'exp_avg': tensor([[ 7.3454e-05,  2.3059e-11,  1.1616e-03,  6.5851e-04, -7.5432e-05,\n",
            "          8.0701e-09,  1.3533e-12, -5.8866e-04,  1.1545e-04, -5.4588e-04,\n",
            "          2.9432e-04,  9.1779e-04,  2.2549e-04,  1.6106e-03,  3.4496e-04,\n",
            "          1.5538e-12,  9.7587e-04,  6.1535e-16, -2.7876e-02,  1.3177e-04,\n",
            "          4.4843e-03,  4.3725e-04,  1.3847e-07,  2.2670e-05,  3.4707e-04,\n",
            "          3.4967e-04,  1.1159e-03,  2.3725e-06, -5.6052e-45,  1.0025e-03,\n",
            "          1.7199e-03, -8.7808e-16,  3.8194e-04,  2.0132e-03,  9.1159e-09,\n",
            "          4.5585e-04,  7.7193e-08, -9.4288e-03,  5.6101e-04,  3.1270e-38,\n",
            "          3.5680e-03,  8.2518e-13,  3.3455e-03,  1.3980e-03,  3.9187e-11,\n",
            "          3.3566e-17,  1.5505e-03,  9.1469e-04,  5.4030e-04,  8.6975e-08,\n",
            "          1.8677e-03,  6.1444e-04,  1.3684e-04, -1.6853e-05,  3.3798e-04,\n",
            "          6.4079e-07, -2.7280e-05,  3.6839e-19, -7.2348e-03,  7.7732e-04,\n",
            "          1.5640e-03,  2.0170e-03,  7.0748e-04, -1.2687e-03],\n",
            "        [ 8.2338e-05,  6.7456e-08,  3.0919e-05,  1.0935e-03,  1.2145e-05,\n",
            "          2.2830e-07,  8.7458e-12, -2.6815e-03,  3.6641e-04,  3.8561e-04,\n",
            "          2.3103e-03,  9.4291e-03, -3.7710e-04,  5.1992e-04,  5.2513e-03,\n",
            "          2.9458e-10,  1.0426e-02,  1.7359e-09,  1.0242e-03, -3.8114e-03,\n",
            "         -3.9731e-03, -2.8798e-04,  4.4768e-06,  9.4863e-05,  4.5639e-05,\n",
            "          1.0361e-03,  9.8449e-03, -3.5210e-04,  5.6052e-45,  6.9308e-04,\n",
            "          8.0010e-03,  1.4035e-07, -5.1823e-04,  4.5806e-03,  1.2618e-06,\n",
            "          1.1737e-04,  1.2897e-05,  8.5284e-04,  6.3669e-04, -1.3089e-09,\n",
            "          2.7870e-05,  4.0804e-10,  4.8185e-03,  3.3528e-04, -1.9040e-07,\n",
            "          4.6067e-18, -6.1452e-03,  8.4479e-04,  1.2866e-04,  1.8121e-05,\n",
            "          5.3633e-03,  1.2901e-03,  2.4523e-04,  7.9126e-04, -7.2332e-04,\n",
            "         -3.2975e-06,  4.1255e-03,  3.5379e-10,  1.8493e-05, -3.7576e-03,\n",
            "          2.2641e-04,  1.6253e-02,  1.3509e-03,  7.4689e-05],\n",
            "        [ 7.4020e-05,  8.5826e-07,  9.4953e-05, -7.8266e-04,  4.0947e-05,\n",
            "          2.8598e-06, -1.4866e-08,  1.8365e-03,  1.3231e-03,  1.3621e-03,\n",
            "          1.5654e-03,  8.2327e-03,  1.9269e-04,  2.3550e-03,  6.8167e-03,\n",
            "          4.0177e-10,  6.7956e-03,  3.0210e-08, -2.0288e-03,  9.6476e-03,\n",
            "          1.0001e-03,  7.5753e-04, -4.0456e-05,  4.7522e-03, -2.3880e-02,\n",
            "         -3.4286e-03,  4.0565e-04,  3.7570e-05,  5.6052e-45,  2.0540e-03,\n",
            "          2.5742e-03,  3.6062e-11,  1.6096e-03, -7.4148e-04,  2.0184e-03,\n",
            "          1.3023e-03, -1.1357e-05, -3.1045e-02, -5.8800e-03,  1.4719e-33,\n",
            "          9.1895e-04,  6.3461e-11, -2.7024e-02,  5.1232e-04,  2.0845e-11,\n",
            "         -1.3501e-14,  2.4852e-03, -2.0723e-02,  9.5699e-04,  1.3432e-06,\n",
            "          5.0465e-03, -2.0137e-02, -2.8422e-02, -3.4278e-03,  1.1932e-03,\n",
            "          9.0438e-07,  1.4740e-04,  9.0634e-13,  2.1845e-03,  5.1100e-03,\n",
            "         -3.1271e-02,  1.8755e-03, -2.6910e-03,  8.1301e-04],\n",
            "        [ 5.8847e-05,  2.4776e-06,  7.3418e-03,  1.0891e-04,  1.6725e-05,\n",
            "          2.7802e-05,  6.7025e-09, -3.3025e-02, -1.1065e-03, -9.9964e-04,\n",
            "         -1.5291e-04,  1.9762e-03, -4.6052e-04, -3.7517e-03, -2.0210e-02,\n",
            "         -9.4871e-10, -7.4750e-03,  1.1057e-08,  2.2493e-03, -7.2229e-03,\n",
            "          3.4962e-04,  1.9557e-04, -3.5557e-06, -4.4300e-03,  6.2003e-05,\n",
            "         -1.1981e-02,  6.9006e-03,  2.7146e-05,  5.6052e-45,  9.2240e-04,\n",
            "         -3.4911e-03, -1.4047e-07, -1.2845e-03, -1.5530e-03, -2.2026e-03,\n",
            "          5.3070e-04, -1.7169e-08,  2.0277e-04, -1.8090e-03,  1.3215e-32,\n",
            "         -4.5117e-04, -3.3897e-08,  1.2117e-03, -2.4735e-03,  5.4209e-10,\n",
            "          9.2459e-15,  6.7712e-04,  4.1540e-04,  5.9475e-04,  5.6236e-06,\n",
            "          1.7992e-03, -2.2730e-03, -3.0443e-04, -5.0500e-03,  2.8298e-03,\n",
            "         -3.2729e-06, -7.5785e-03, -4.3661e-10,  3.3898e-05, -6.1106e-03,\n",
            "          1.2945e-04,  4.2521e-03, -7.7588e-03,  9.2277e-04],\n",
            "        [-9.2061e-04,  2.6162e-09,  8.1868e-05, -4.6607e-03,  7.0955e-07,\n",
            "          3.7846e-08,  3.9392e-12,  1.3412e-03, -2.2600e-03,  2.7580e-04,\n",
            "          5.1835e-04,  3.9540e-04, -1.1380e-03,  5.5678e-03, -1.1059e-03,\n",
            "          1.4432e-12,  4.1487e-04,  3.8482e-12, -4.6895e-03,  2.9382e-04,\n",
            "         -2.0174e-04,  2.3396e-04,  1.3147e-05,  9.1063e-05,  1.5573e-03,\n",
            "         -3.3877e-04,  3.1301e-04,  1.7935e-07,  5.6052e-45, -2.2322e-03,\n",
            "          2.0265e-03,  2.9438e-18,  2.2806e-04, -2.9907e-03,  4.8127e-07,\n",
            "         -1.7944e-02,  4.2664e-08,  1.2850e-03,  5.8315e-04,  2.5929e-38,\n",
            "          5.9266e-05,  2.7580e-15,  1.9887e-03,  2.6768e-04,  2.1049e-06,\n",
            "          2.0738e-19, -2.2041e-02,  7.1842e-03, -6.6753e-03,  6.7693e-07,\n",
            "         -1.5515e-03,  4.2716e-03,  1.6579e-04, -4.2484e-03,  2.2347e-04,\n",
            "          6.7930e-07,  3.0511e-05,  2.2264e-25,  2.2169e-04, -3.0113e-03,\n",
            "          4.6338e-04, -8.5942e-03,  3.0135e-04,  2.4509e-04],\n",
            "        [ 5.2431e-05,  5.1303e-08, -3.5457e-02,  9.6404e-05,  5.9514e-06,\n",
            "          1.0883e-08,  2.6586e-09, -5.0208e-03,  2.6284e-04, -2.3993e-03,\n",
            "          1.1239e-02,  8.6878e-05,  3.8871e-05,  3.4200e-04,  1.5473e-03,\n",
            "          1.2521e-10,  1.0528e-03,  1.9509e-13,  1.2572e-02,  1.5243e-04,\n",
            "          1.3439e-03,  4.3376e-04,  5.9985e-07, -1.3828e-03,  2.8796e-03,\n",
            "          4.4712e-04, -1.6892e-02,  4.6730e-06,  5.6052e-45,  2.2181e-05,\n",
            "         -7.8636e-04,  3.7262e-11,  8.5319e-05, -1.0681e-03,  1.9511e-07,\n",
            "          1.7617e-04,  8.6739e-08, -2.5818e-03,  3.7602e-04,  1.3089e-09,\n",
            "         -2.9116e-03,  2.3207e-08, -1.9208e-02,  9.3952e-03,  5.1175e-10,\n",
            "          5.0909e-16,  4.6013e-04, -3.4902e-03, -6.0333e-04,  8.3096e-07,\n",
            "         -8.5319e-04,  1.6583e-03,  7.1007e-04,  3.1701e-04,  7.3644e-04,\n",
            "          6.9482e-07, -7.4774e-03,  7.7080e-11,  4.4651e-04,  3.5880e-05,\n",
            "          1.3568e-03,  2.9328e-03,  8.9029e-04, -1.3649e-02],\n",
            "        [ 1.6426e-04,  1.4612e-12,  2.5715e-02,  8.8639e-04,  1.1274e-07,\n",
            "          7.2689e-11,  1.3033e-12,  6.4456e-04,  8.6190e-05,  1.7903e-02,\n",
            "          8.8008e-04,  3.4369e-04,  1.0151e-04,  1.1359e-05,  9.6918e-05,\n",
            "          2.5456e-14,  2.6178e-04,  7.6985e-14,  1.1247e-02,  3.7328e-04,\n",
            "          2.5002e-04,  5.2416e-05,  7.6521e-08,  1.4524e-04,  3.6370e-02,\n",
            "          4.5530e-05,  3.1927e-04,  9.0536e-07,  5.6052e-45,  1.5920e-03,\n",
            "          9.9573e-04,  5.0817e-16,  6.0508e-04,  4.8760e-04, -2.0436e-07,\n",
            "          1.0376e-03,  2.1156e-08,  6.3043e-02,  4.4739e-04,  2.1224e-29,\n",
            "         -1.5710e-03,  8.2976e-15,  6.7535e-02,  8.7721e-04,  1.0974e-10,\n",
            "          1.7271e-15,  1.8797e-03,  9.4051e-04,  1.1384e-03,  1.0444e-09,\n",
            "          2.7747e-03,  1.1738e-02,  3.0654e-02,  7.5252e-05,  2.4613e-04,\n",
            "          1.1875e-06,  7.9467e-05,  1.3606e-23,  9.4677e-04,  4.2001e-04,\n",
            "          5.1131e-02,  8.1667e-04,  9.0884e-05,  1.2910e-02],\n",
            "        [ 9.4278e-05, -4.9035e-06, -9.4668e-04, -1.0732e-03,  8.9414e-07,\n",
            "         -4.4748e-05,  3.3347e-10,  3.4316e-02,  6.7235e-04,  1.2390e-03,\n",
            "         -1.6894e-03, -1.0597e-02,  1.8263e-04,  3.9148e-03,  9.3572e-05,\n",
            "          1.1766e-11,  2.2171e-03, -4.3552e-08,  7.4557e-03,  3.0457e-04,\n",
            "          1.3841e-03,  7.3645e-03,  2.3780e-05,  1.4146e-04, -1.1466e-03,\n",
            "          1.7007e-02, -3.9901e-04,  1.4136e-04,  5.6052e-45, -6.7402e-03,\n",
            "         -2.5448e-03,  2.1656e-13, -1.3019e-03,  3.0637e-03,  2.1900e-06,\n",
            "         -1.4976e-04,  8.9820e-06, -4.6247e-04,  3.3907e-03,  3.3462e-20,\n",
            "          1.0122e-04,  1.6508e-12, -1.2850e-03, -7.2555e-03,  1.2948e-10,\n",
            "          9.7031e-19,  1.3101e-03,  8.4496e-03,  8.8197e-04,  4.5714e-08,\n",
            "         -1.5064e-03,  1.8797e-03,  2.3228e-04,  1.3547e-02, -4.8632e-03,\n",
            "          1.9067e-07,  1.2897e-02,  3.3734e-15,  2.3948e-03,  7.0225e-03,\n",
            "          1.1724e-04, -4.4165e-03,  6.6148e-03, -1.7020e-03],\n",
            "        [ 1.6002e-04,  1.3491e-09,  1.0552e-03,  8.5594e-04, -5.7007e-05,\n",
            "          4.6692e-09,  4.9099e-09, -2.4141e-04, -7.1488e-04, -1.1003e-02,\n",
            "         -1.7576e-02, -1.3118e-02,  1.0341e-03,  2.8811e-03, -1.5092e-02,\n",
            "          1.0485e-10, -1.4202e-02,  1.1229e-10, -4.5407e-03,  2.2861e-05,\n",
            "         -4.9134e-03, -9.9790e-03,  1.1999e-06,  1.3774e-04, -1.6314e-02,\n",
            "         -5.0063e-03, -1.0572e-03,  1.3243e-04,  5.6052e-45, -4.0088e-04,\n",
            "         -1.1337e-02,  6.1136e-13,  1.3074e-04, -2.1843e-02,  5.1336e-08,\n",
            "          4.1698e-03, -1.1154e-05, -2.2945e-02,  1.3865e-03,  3.2935e-18,\n",
            "         -2.6540e-05,  9.9734e-09, -3.5559e-02, -8.0020e-03, -1.9165e-06,\n",
            "          1.3931e-15,  2.9708e-03,  2.8361e-03,  1.0768e-03, -7.9284e-05,\n",
            "         -1.6566e-02,  7.9615e-04, -3.4822e-03, -5.1928e-03, -5.4491e-04,\n",
            "          1.2602e-06, -2.9855e-03,  1.7704e-12,  2.8295e-04,  9.3526e-04,\n",
            "         -2.3859e-02, -9.6225e-03, -1.7296e-04,  8.3667e-04],\n",
            "        [ 1.6096e-04,  1.4449e-06,  9.2219e-04,  2.8169e-03,  5.4954e-05,\n",
            "          1.3796e-05,  2.4607e-10,  3.4190e-03,  1.2551e-03, -6.2180e-03,\n",
            "          2.6112e-03,  2.3336e-03,  2.0032e-04, -1.3451e-02,  2.2257e-02,\n",
            "          7.5023e-12, -4.6755e-04,  4.4498e-10,  4.5870e-03,  1.0806e-04,\n",
            "          2.7630e-04,  7.9197e-04,  5.9343e-07,  4.2759e-04,  7.8110e-05,\n",
            "          1.8686e-03, -5.5158e-04,  5.4580e-06,  5.6052e-45,  3.0872e-03,\n",
            "          2.8422e-03,  2.0149e-11,  6.3890e-05,  1.8051e-02,  1.8024e-04,\n",
            "          1.0304e-02,  4.2094e-07,  1.0803e-03,  3.0757e-04,  7.6525e-30,\n",
            "          2.8500e-04,  2.4323e-10,  4.1761e-03,  4.9454e-03,  6.0459e-10,\n",
            "          5.8664e-16,  1.6853e-02,  2.6280e-03,  1.9608e-03,  5.2554e-05,\n",
            "          3.6254e-03,  1.6112e-04,  6.3884e-05,  3.2051e-03,  5.6440e-04,\n",
            "          1.0127e-06,  7.8866e-04,  3.0424e-12,  7.0518e-04, -1.4215e-03,\n",
            "          1.4154e-04, -5.5135e-03,  6.6703e-04,  8.1777e-04]]), 'exp_avg_sq': tensor([[3.5871e-06, 1.4927e-05, 7.1155e-05, 4.5771e-05, 8.3921e-06, 4.4383e-08,\n",
            "         3.7571e-06, 1.0578e-04, 1.1247e-02, 2.2207e-04, 1.9364e-04, 1.5626e-04,\n",
            "         3.8873e-04, 4.3014e-05, 7.4589e-05, 1.8487e-06, 1.9344e-04, 1.3851e-05,\n",
            "         8.2415e-03, 1.6480e-04, 1.7460e-04, 1.4965e-04, 2.1781e-09, 5.4394e-06,\n",
            "         5.1675e-04, 3.0653e-05, 1.9722e-04, 4.1681e-05, 2.1510e-11, 7.2146e-05,\n",
            "         2.1390e-04, 6.5875e-06, 7.7317e-05, 2.7625e-04, 3.5919e-07, 6.8764e-05,\n",
            "         6.0383e-06, 1.6925e-03, 1.4983e-04, 1.2257e-07, 7.5900e-03, 2.7468e-06,\n",
            "         5.8471e-04, 1.2124e-04, 2.7605e-06, 3.5281e-07, 6.7146e-05, 1.6395e-04,\n",
            "         1.6372e-04, 1.1357e-04, 6.3438e-03, 6.9269e-04, 1.5735e-04, 9.5171e-05,\n",
            "         3.8588e-05, 3.6103e-06, 1.7478e-05, 2.3282e-09, 4.0491e-03, 1.7336e-04,\n",
            "         5.5890e-03, 3.9808e-04, 1.1890e-04, 5.7275e-03],\n",
            "        [5.3987e-07, 8.3918e-05, 1.1163e-05, 1.3764e-03, 1.0582e-04, 9.0793e-06,\n",
            "         5.0969e-05, 3.6348e-03, 1.0040e-03, 2.5405e-05, 2.9886e-04, 1.1693e-03,\n",
            "         1.3921e-02, 6.6851e-05, 4.8474e-03, 9.5819e-06, 1.3218e-02, 3.7505e-06,\n",
            "         2.1873e-04, 9.3488e-04, 6.7044e-03, 3.5431e-05, 7.9352e-05, 9.5226e-05,\n",
            "         2.0307e-05, 2.4530e-04, 6.5295e-03, 3.0577e-04, 2.0452e-12, 8.9124e-04,\n",
            "         2.6353e-03, 2.8613e-07, 1.1370e-03, 4.0164e-04, 1.1823e-05, 3.4170e-03,\n",
            "         2.6322e-05, 2.8097e-04, 4.1762e-03, 3.9471e-06, 1.2060e-03, 1.7217e-05,\n",
            "         4.2158e-04, 2.1063e-04, 1.3911e-03, 1.1062e-04, 3.2360e-04, 3.5221e-03,\n",
            "         5.3248e-05, 5.9016e-05, 8.4110e-04, 7.5222e-04, 5.8111e-03, 4.3264e-04,\n",
            "         7.5127e-03, 9.1467e-05, 2.7118e-04, 2.3684e-05, 6.1387e-05, 1.2807e-04,\n",
            "         1.0277e-04, 6.7921e-04, 3.0272e-04, 1.7305e-05],\n",
            "        [4.6959e-05, 1.6194e-05, 7.3030e-06, 2.6414e-04, 1.2615e-04, 6.4448e-05,\n",
            "         5.4127e-05, 1.4986e-02, 6.2645e-03, 1.0020e-04, 2.7065e-04, 2.3021e-03,\n",
            "         5.4832e-04, 1.1145e-04, 5.7256e-04, 7.3587e-05, 5.9276e-03, 4.5161e-06,\n",
            "         1.0978e-03, 3.8407e-03, 5.3339e-04, 8.2080e-05, 9.9180e-05, 9.4513e-04,\n",
            "         4.3232e-04, 9.4677e-04, 1.4192e-03, 2.7951e-06, 7.7691e-10, 1.4033e-03,\n",
            "         1.0871e-02, 3.4326e-07, 2.2908e-03, 5.9251e-04, 4.7720e-04, 6.3868e-04,\n",
            "         2.7922e-05, 9.9912e-04, 6.3259e-03, 1.2941e-06, 1.5887e-03, 3.0465e-04,\n",
            "         4.5726e-04, 2.3556e-03, 1.9844e-04, 9.5192e-06, 1.4503e-03, 8.4423e-03,\n",
            "         4.1213e-04, 2.9504e-04, 1.0847e-03, 1.0057e-02, 6.8617e-04, 6.8143e-04,\n",
            "         9.1421e-04, 1.4968e-04, 5.7015e-04, 2.3698e-05, 1.5752e-03, 2.5352e-04,\n",
            "         1.9148e-03, 8.7090e-04, 5.8995e-03, 1.5697e-04],\n",
            "        [6.2202e-06, 1.7012e-05, 1.4850e-03, 1.3008e-05, 4.6467e-05, 5.4972e-06,\n",
            "         7.9782e-05, 5.8336e-03, 1.5202e-03, 6.6936e-03, 2.5178e-02, 3.9683e-03,\n",
            "         1.4469e-04, 8.3851e-04, 8.4393e-03, 3.1311e-03, 1.1881e-03, 3.8888e-05,\n",
            "         1.1464e-03, 7.7456e-04, 1.2085e-03, 6.3847e-04, 1.5883e-05, 2.9382e-04,\n",
            "         9.1500e-05, 2.5037e-03, 1.8935e-02, 2.6110e-04, 8.0803e-10, 6.6413e-04,\n",
            "         4.1183e-03, 4.3847e-06, 7.2053e-05, 1.1167e-03, 9.9026e-06, 4.3576e-04,\n",
            "         2.1840e-06, 2.1145e-04, 2.7680e-03, 6.1915e-07, 3.7564e-04, 4.7080e-04,\n",
            "         1.2589e-03, 9.1087e-03, 2.1348e-04, 5.0655e-06, 7.1389e-05, 1.1271e-03,\n",
            "         7.6129e-05, 2.6534e-04, 9.0388e-04, 7.1885e-03, 1.4829e-04, 3.9901e-03,\n",
            "         5.7172e-04, 7.3053e-05, 3.7860e-03, 1.8375e-06, 1.4102e-04, 2.1720e-03,\n",
            "         8.6669e-05, 1.3761e-03, 8.9834e-03, 3.1322e-03],\n",
            "        [2.9301e-06, 2.1574e-06, 3.9361e-06, 1.0234e-02, 3.5571e-05, 2.5352e-07,\n",
            "         2.0949e-05, 3.8220e-04, 4.9511e-04, 3.8947e-04, 4.9865e-05, 2.2219e-05,\n",
            "         3.4103e-04, 2.7313e-03, 1.5493e-03, 2.5140e-07, 4.0855e-04, 3.4313e-06,\n",
            "         2.7008e-04, 5.0360e-04, 1.2758e-04, 3.8551e-03, 5.0641e-06, 9.8034e-05,\n",
            "         8.3266e-04, 2.7674e-04, 3.2467e-04, 4.0710e-07, 2.4525e-11, 5.5552e-03,\n",
            "         2.5397e-04, 5.1857e-06, 1.5119e-03, 6.2284e-03, 3.5536e-06, 1.1798e-02,\n",
            "         1.2015e-06, 2.7750e-03, 1.6810e-04, 6.4825e-07, 3.3353e-05, 1.7401e-06,\n",
            "         4.1843e-04, 2.1567e-04, 2.8739e-04, 7.5919e-06, 1.2708e-02, 8.1164e-03,\n",
            "         5.6666e-03, 1.9602e-05, 7.3357e-04, 3.2884e-03, 5.2489e-04, 2.9767e-04,\n",
            "         1.4784e-04, 1.6730e-05, 1.2080e-06, 4.1445e-09, 1.9268e-04, 2.6957e-03,\n",
            "         1.0719e-02, 3.9348e-04, 1.1292e-04, 5.6200e-05],\n",
            "        [1.7986e-06, 1.1541e-04, 6.0747e-03, 7.0673e-05, 8.2561e-06, 3.8211e-06,\n",
            "         3.6891e-05, 7.1532e-04, 2.6325e-03, 1.1864e-02, 3.0183e-02, 8.5403e-04,\n",
            "         3.7941e-04, 4.6113e-04, 2.1823e-03, 2.9834e-03, 4.4908e-04, 3.8992e-05,\n",
            "         2.0068e-03, 2.5862e-04, 5.7790e-03, 7.5422e-04, 1.9165e-05, 1.5994e-05,\n",
            "         6.1254e-03, 5.7059e-05, 1.5101e-02, 6.4822e-04, 2.9754e-09, 1.8929e-04,\n",
            "         4.8294e-04, 3.6979e-05, 4.9413e-05, 7.8221e-04, 9.2922e-06, 5.2075e-04,\n",
            "         6.1281e-06, 5.2264e-03, 2.4525e-04, 1.3954e-06, 1.4193e-03, 2.5971e-04,\n",
            "         1.2611e-02, 1.3082e-02, 1.1471e-04, 1.6650e-06, 1.0244e-04, 8.4345e-04,\n",
            "         5.5316e-04, 7.9695e-05, 1.8991e-03, 1.8774e-03, 9.7601e-04, 7.1543e-04,\n",
            "         9.8861e-04, 2.4572e-05, 1.4585e-03, 3.5414e-06, 1.1249e-03, 6.2171e-04,\n",
            "         3.5964e-03, 9.4711e-04, 8.6837e-04, 9.4391e-03],\n",
            "        [4.6834e-05, 1.1685e-04, 2.4884e-03, 9.2737e-04, 2.1929e-06, 5.4211e-08,\n",
            "         2.5036e-06, 1.0700e-04, 1.8512e-03, 3.1859e-03, 3.0220e-04, 2.6657e-05,\n",
            "         2.2194e-04, 1.9144e-05, 3.0774e-05, 8.8872e-07, 1.6754e-03, 1.9535e-05,\n",
            "         1.9089e-03, 7.1860e-04, 1.4025e-03, 2.9763e-05, 1.5268e-07, 3.2743e-05,\n",
            "         8.0835e-03, 3.3134e-05, 3.6639e-04, 2.1115e-05, 1.6266e-11, 6.2447e-04,\n",
            "         2.3982e-04, 3.4705e-05, 2.6597e-04, 1.6940e-04, 1.2573e-05, 2.7047e-04,\n",
            "         6.3220e-07, 1.0989e-02, 2.7030e-05, 2.3104e-07, 2.1961e-03, 5.6525e-07,\n",
            "         1.0833e-02, 5.4888e-04, 7.2009e-06, 1.8540e-07, 8.8791e-04, 1.2001e-03,\n",
            "         8.5685e-04, 6.3589e-08, 9.8419e-04, 7.4654e-03, 4.0682e-03, 1.0896e-05,\n",
            "         2.5839e-04, 6.0133e-06, 2.2603e-06, 8.4066e-09, 4.3513e-04, 5.8564e-04,\n",
            "         1.7360e-02, 1.5200e-04, 5.4711e-05, 2.6624e-03],\n",
            "        [1.6276e-05, 1.3296e-04, 5.3593e-05, 5.1338e-04, 2.7143e-05, 1.0099e-04,\n",
            "         1.2622e-04, 1.3018e-02, 4.0961e-04, 3.9896e-04, 1.0025e-04, 2.3404e-04,\n",
            "         8.3681e-03, 2.7795e-03, 2.8653e-03, 4.1060e-06, 2.3588e-03, 2.8314e-05,\n",
            "         8.7926e-03, 4.6457e-04, 2.3642e-03, 3.3082e-03, 2.1072e-07, 8.6170e-04,\n",
            "         1.5306e-04, 6.6130e-03, 1.4420e-03, 3.0576e-05, 1.4130e-10, 8.1879e-03,\n",
            "         2.0329e-03, 1.0311e-05, 4.6001e-04, 1.8655e-03, 4.5276e-04, 2.6960e-03,\n",
            "         3.4374e-05, 1.0973e-04, 9.1521e-04, 1.5237e-06, 9.5169e-05, 3.2794e-06,\n",
            "         1.8944e-05, 8.8345e-03, 5.8107e-04, 6.7662e-06, 1.0149e-03, 1.9754e-03,\n",
            "         4.9239e-04, 2.1647e-04, 5.1140e-04, 1.2879e-03, 3.1726e-04, 8.1498e-03,\n",
            "         2.7959e-03, 1.8912e-05, 6.7439e-04, 1.0652e-08, 2.7009e-04, 1.0993e-02,\n",
            "         2.5490e-04, 1.2848e-03, 2.7668e-03, 2.2180e-04],\n",
            "        [4.3490e-06, 4.5918e-06, 1.2245e-03, 3.4289e-04, 2.4416e-04, 1.3411e-06,\n",
            "         3.9401e-05, 5.8417e-04, 7.1335e-04, 1.8061e-03, 4.3891e-03, 3.1104e-03,\n",
            "         3.9425e-03, 1.1985e-03, 2.7722e-03, 3.8655e-05, 7.6285e-03, 1.6621e-05,\n",
            "         2.7543e-04, 2.6921e-04, 3.2255e-03, 2.8086e-04, 1.1292e-06, 1.6528e-04,\n",
            "         3.3849e-04, 9.4885e-05, 1.0620e-03, 1.7033e-04, 5.3249e-10, 1.6108e-04,\n",
            "         3.6278e-03, 1.2162e-06, 2.2805e-05, 6.1834e-03, 3.0123e-06, 6.4193e-04,\n",
            "         1.7905e-05, 1.0807e-03, 5.8243e-04, 6.6226e-07, 4.7203e-04, 1.1665e-04,\n",
            "         5.1137e-03, 2.0412e-03, 3.2387e-04, 8.8308e-05, 3.4415e-04, 5.8039e-04,\n",
            "         4.2837e-04, 3.6494e-04, 7.0469e-03, 4.8432e-04, 1.6600e-03, 2.2023e-04,\n",
            "         3.6556e-03, 2.0482e-05, 9.5306e-04, 1.7122e-06, 1.2912e-04, 2.6954e-04,\n",
            "         6.0028e-04, 4.4123e-03, 9.3929e-04, 9.5806e-04],\n",
            "        [1.6273e-05, 6.6272e-05, 4.2946e-04, 4.2100e-03, 1.8711e-04, 3.2427e-05,\n",
            "         1.6910e-06, 1.0673e-03, 2.1663e-03, 2.4865e-03, 1.3533e-03, 3.6141e-04,\n",
            "         4.6035e-04, 7.9449e-03, 7.1718e-03, 1.2639e-05, 9.9880e-05, 1.8861e-06,\n",
            "         4.1945e-03, 3.2698e-05, 3.4522e-04, 9.2939e-03, 3.2405e-06, 1.8908e-05,\n",
            "         1.7643e-04, 2.8872e-03, 7.4630e-04, 3.7534e-06, 2.2798e-10, 5.8490e-03,\n",
            "         2.3573e-04, 1.1905e-05, 9.6408e-05, 1.1813e-02, 2.4128e-06, 1.0010e-02,\n",
            "         1.5642e-05, 1.9007e-04, 4.3973e-05, 8.1553e-07, 1.0979e-03, 7.0241e-06,\n",
            "         7.2865e-04, 3.3697e-03, 6.1225e-05, 4.9939e-06, 1.0145e-02, 2.2360e-03,\n",
            "         3.5279e-03, 7.2393e-05, 2.0449e-03, 7.3804e-05, 2.5617e-05, 3.7572e-03,\n",
            "         5.1069e-04, 1.1456e-05, 3.0470e-04, 4.2397e-09, 7.1180e-04, 1.4726e-02,\n",
            "         1.5850e-04, 1.0374e-03, 4.4628e-04, 8.8877e-04]])}, 7: {'step': 4690, 'exp_avg': tensor([-2.7541e-03,  2.4999e-03,  7.3102e-04, -6.2151e-05, -1.8707e-03,\n",
            "        -1.5207e-03,  5.5132e-03,  9.6130e-04, -6.3522e-03,  2.8545e-03]), 'exp_avg_sq': tensor([0.0001, 0.0001, 0.0002, 0.0002, 0.0002, 0.0002, 0.0001, 0.0002, 0.0003,\n",
            "        0.0003])}}\n",
            "param_groups \t [{'lr': 0.01, 'betas': (0.9, 0.999), 'eps': 1e-08, 'weight_decay': 0, 'amsgrad': False, 'params': [0, 1, 2, 3, 4, 5, 6, 7]}]\n"
          ],
          "name": "stdout"
        }
      ]
    },
    {
      "cell_type": "markdown",
      "metadata": {
        "id": "gjnCMjxF5_R8"
      },
      "source": [
        "#  Try Running the below codes on  Kaggle Kernel\n",
        "\n",
        "[Check for reference](https://www.kaggle.com/u6yuvi/digit-recognizer-pytorch/output?scriptVersionId=16485375)"
      ]
    },
    {
      "cell_type": "markdown",
      "metadata": {
        "_uuid": "98bee7eaf09d225730006f2b24ca5662d28cfb65",
        "id": "BSWPI5_K4DCk"
      },
      "source": [
        "# Kaggle- Multilayered Perceptron (MLP) implemention on MNIST dataset\n",
        "Untill now we were using the MNIST dataset that is available in torchvision.dataset.Let us now load the dataset from Kaggle repo and train our model"
      ]
    },
    {
      "cell_type": "code",
      "metadata": {
        "_uuid": "4e83a9e422c10eb07cbfb779be01803d2b8a5334",
        "id": "DtAM0yxR4DCl"
      },
      "source": [
        "import os\n",
        "from pathlib import Path\n",
        "import torch\n",
        "from torch.utils.data import TensorDataset ,DataLoader\n",
        "from torch import nn,optim\n",
        "import torch.nn.functional as F\n",
        "import numpy as np\n",
        "import pandas as pd\n",
        "from sklearn.model_selection import train_test_split\n",
        "PATH=Path('/content')"
      ],
      "execution_count": 214,
      "outputs": []
    },
    {
      "cell_type": "markdown",
      "metadata": {
        "_uuid": "661e23266c2c882d34cdae4c9074d26c0d2ac040",
        "id": "Gj48dSJg4DCm"
      },
      "source": [
        "## Load Data "
      ]
    },
    {
      "cell_type": "code",
      "metadata": {
        "_uuid": "72b61aac15c29fc295d77130b07d1110c9cb1825",
        "id": "mdn255g54DCm",
        "outputId": "03ef0b44-7961-4d0d-9261-10fca5cb8b75",
        "colab": {
          "base_uri": "https://localhost:8080/",
          "height": 34
        }
      },
      "source": [
        "train=pd.read_csv(PATH/'train.csv')\n",
        "test=pd.read_csv(PATH/'test.csv')\n",
        "train.shape,test.shape"
      ],
      "execution_count": 215,
      "outputs": [
        {
          "output_type": "execute_result",
          "data": {
            "text/plain": [
              "((42000, 785), (28000, 784))"
            ]
          },
          "metadata": {
            "tags": []
          },
          "execution_count": 215
        }
      ]
    },
    {
      "cell_type": "markdown",
      "metadata": {
        "_uuid": "6d5eb02dbfc5e385ffd113560494e0b2275e5f66",
        "id": "Hf9bGVDH4DCn"
      },
      "source": [
        "## Extracting Input and Target Variable"
      ]
    },
    {
      "cell_type": "code",
      "metadata": {
        "_uuid": "858a074c0e1dea92562d0f1bd93ff5302f861643",
        "id": "XF2vEl_t4DCo",
        "outputId": "25dd2c01-8b16-4301-f2e2-9d1b3377b257",
        "colab": {
          "base_uri": "https://localhost:8080/",
          "height": 34
        }
      },
      "source": [
        "x=train.drop(\"label\",axis=1)\n",
        "y=np.array(train['label'])\n",
        "x.shape,y.shape"
      ],
      "execution_count": 216,
      "outputs": [
        {
          "output_type": "execute_result",
          "data": {
            "text/plain": [
              "((42000, 784), (42000,))"
            ]
          },
          "metadata": {
            "tags": []
          },
          "execution_count": 216
        }
      ]
    },
    {
      "cell_type": "markdown",
      "metadata": {
        "_uuid": "387109d77b8c6f76d4de868158340faf1a38b2dc",
        "id": "TUVHsCvR4DCp"
      },
      "source": [
        "## Normalization "
      ]
    },
    {
      "cell_type": "code",
      "metadata": {
        "_uuid": "b8ff683f50227c31ee39ec05a7bb8b4e2a8c5f94",
        "id": "BFgs691V4DCp"
      },
      "source": [
        "x_train=x/255"
      ],
      "execution_count": 217,
      "outputs": []
    },
    {
      "cell_type": "markdown",
      "metadata": {
        "_uuid": "614e6245bdf2e3372dca00d5111b3fbe8e993a64",
        "id": "R5TxccEk4DCq"
      },
      "source": [
        "## Train Test Split"
      ]
    },
    {
      "cell_type": "code",
      "metadata": {
        "_uuid": "65e189e8b8c6232146d0dde1fceb773353ad8389",
        "id": "iPIQfMjR4DCr"
      },
      "source": [
        "x_train, x_test, y_train, y_test = train_test_split(x, y, test_size=0.15)"
      ],
      "execution_count": 218,
      "outputs": []
    },
    {
      "cell_type": "markdown",
      "metadata": {
        "_uuid": "8f37069db924850a07cd3e98378ae9c61bab1f8f",
        "id": "0c7XjTMH4DCs"
      },
      "source": [
        "## Train Test in Pytorch"
      ]
    },
    {
      "cell_type": "code",
      "metadata": {
        "_uuid": "709aaea373c664fad6fd42d8779ae091145b8308",
        "id": "Jst9e0mK4DCs",
        "outputId": "708ca9a2-365d-4f1d-dde2-795a0a2f4d94",
        "colab": {
          "base_uri": "https://localhost:8080/",
          "height": 86
        }
      },
      "source": [
        "'''\n",
        "# create feature and targets tensor for train set.\n",
        "torch_X_train = torch.from_numpy(x_train.values).type(torch.FloatTensor)\n",
        "torch_y_train = torch.from_numpy(y_train).type(torch.LongTensor)\n",
        "\n",
        "# create feature and targets tensor for test set.\n",
        "torch_X_test = torch.from_numpy(x_test.values).type(torch.FloatTensor)\n",
        "torch_y_test = torch.from_numpy(y_test).type(torch.LongTensor)\n",
        "\n",
        "# Pytorch train and test sets\n",
        "train = torch.utils.data.TensorDataset(torch_X_train,torch_y_train)\n",
        "test = torch.utils.data.TensorDataset(torch_X_test,torch_y_test)\n",
        "'''"
      ],
      "execution_count": 219,
      "outputs": [
        {
          "output_type": "execute_result",
          "data": {
            "application/vnd.google.colaboratory.intrinsic+json": {
              "type": "string"
            },
            "text/plain": [
              "'\\n# create feature and targets tensor for train set.\\ntorch_X_train = torch.from_numpy(x_train.values).type(torch.FloatTensor)\\ntorch_y_train = torch.from_numpy(y_train).type(torch.LongTensor)\\n\\n# create feature and targets tensor for test set.\\ntorch_X_test = torch.from_numpy(x_test.values).type(torch.FloatTensor)\\ntorch_y_test = torch.from_numpy(y_test).type(torch.LongTensor)\\n\\n# Pytorch train and test sets\\ntrain = torch.utils.data.TensorDataset(torch_X_train,torch_y_train)\\ntest = torch.utils.data.TensorDataset(torch_X_test,torch_y_test)\\n'"
            ]
          },
          "metadata": {
            "tags": []
          },
          "execution_count": 219
        }
      ]
    },
    {
      "cell_type": "code",
      "metadata": {
        "_uuid": "80525db377fe319e7a3fc538ef8b76639c28c995",
        "id": "Rk2ZdrHj4DCu",
        "outputId": "a23e8b3d-8faa-4c83-98f9-e34d50b85b8a",
        "colab": {
          "base_uri": "https://localhost:8080/",
          "height": 52
        }
      },
      "source": [
        "'''\n",
        "BATCH_SIZE=64\n",
        "# data loader\n",
        "train_loader = torch.utils.data.DataLoader(train, batch_size = BATCH_SIZE, shuffle = False)\n",
        "test_loader = torch.utils.data.DataLoader(test, batch_size = BATCH_SIZE, shuffle = False)\n",
        "'''"
      ],
      "execution_count": 220,
      "outputs": [
        {
          "output_type": "execute_result",
          "data": {
            "application/vnd.google.colaboratory.intrinsic+json": {
              "type": "string"
            },
            "text/plain": [
              "'\\nBATCH_SIZE=64\\n# data loader\\ntrain_loader = torch.utils.data.DataLoader(train, batch_size = BATCH_SIZE, shuffle = False)\\ntest_loader = torch.utils.data.DataLoader(test, batch_size = BATCH_SIZE, shuffle = False)\\n'"
            ]
          },
          "metadata": {
            "tags": []
          },
          "execution_count": 220
        }
      ]
    },
    {
      "cell_type": "markdown",
      "metadata": {
        "_uuid": "454f4fb8e0a416e60aed471a49850c01a64a77e6",
        "id": "0ZOWCRtq4DCw"
      },
      "source": [
        "## Train -Test Split -Pytorch"
      ]
    },
    {
      "cell_type": "code",
      "metadata": {
        "_uuid": "d616496f4e453322efe8aecfa71b17fcdddaa8dd",
        "id": "ni3rH-Pi4DCw",
        "outputId": "b6d8d95a-2847-4482-f3a9-850237e6fd16",
        "colab": {
          "base_uri": "https://localhost:8080/",
          "height": 34
        }
      },
      "source": [
        "torch_X_train = torch.from_numpy(x.values).type(torch.FloatTensor)/255\n",
        "torch_y_train = torch.from_numpy(y).type(torch.LongTensor)\n",
        "myDataset = torch.utils.data.TensorDataset(torch_X_train,torch_y_train)\n",
        "valid_no  = int(0.2 * len(myDataset))\n",
        "# so divide the data into trainset and testset\n",
        "trainSet,testSet = torch.utils.data.random_split(myDataset,(len(myDataset)-valid_no,valid_no))\n",
        "print(f\"len of trainSet {len(trainSet)} , len of testSet {len(testSet)}\")\n",
        "batch_size=64\n",
        "train_loader  = DataLoader(trainSet , batch_size=batch_size ,shuffle=True) \n",
        "test_loader  = DataLoader(testSet , batch_size=batch_size ,shuffle=True)"
      ],
      "execution_count": 221,
      "outputs": [
        {
          "output_type": "stream",
          "text": [
            "len of trainSet 33600 , len of testSet 8400\n"
          ],
          "name": "stdout"
        }
      ]
    },
    {
      "cell_type": "markdown",
      "metadata": {
        "_uuid": "a06249ad57104d74d0258fd5972961f720bdc3cf",
        "id": "DhlKN0Y34DCy"
      },
      "source": [
        "trainData = torch.from_numpy(x_train.values)\n",
        "trainLabel=torch.from_numpy(y_train)\n",
        "testData = torch.from_numpy(x_test.values)\n",
        "testLabel = torch.from_numpy(y_test)\n",
        "trainData, testData = trainData.type(torch.FloatTensor), testData.type(torch.LongTensor)\n",
        "trainLabel, testLabel = trainLabel.type(torch.FloatTensor), testLabel.type(torch.LongTensor)\n",
        "trainData.shape,testData.shape\n",
        "trainData = trainData.unsqueeze_(dim=1)\n",
        "testData = testData.unsqueeze_(dim=1)\n",
        "trainData.shape,testData.shape\n",
        "transforms =transforms.Compose(transforms.ToTensor())\n",
        "train_dataset = TensorDataset(trainData,trainLabel)\n",
        "train_loader = DataLoader(train_dataset,batch_size=64,shuffle=True)\n",
        "\n",
        "test_dataset = TensorDataset(testData,testLabel)\n",
        "test_loader = DataLoader(test_dataset,batch_size=64,shuffle=True)"
      ]
    },
    {
      "cell_type": "markdown",
      "metadata": {
        "_uuid": "97b2925a24f59b10a16864a76f00e02a4c92b36f",
        "id": "_hGrdIVq4DCy"
      },
      "source": [
        "## Network"
      ]
    },
    {
      "cell_type": "code",
      "metadata": {
        "_uuid": "8cbe1c508bacadbb875014318a35fed17ab6a3a1",
        "id": "nW1wypfS4DCy"
      },
      "source": [
        "class CNN(nn.Module):\n",
        "    def __init__(self):\n",
        "        super().__init__()\n",
        "        self.fc1 = nn.Linear(784, 400)\n",
        "        self.fc2 = nn.Linear(400, 200)\n",
        "        self.fc3 = nn.Linear(200, 50)\n",
        "        self.fc4 = nn.Linear(50, 10)\n",
        "\n",
        "        # Dropout module with 0.2 drop probability\n",
        "        self.dropout = nn.Dropout(p=0.2)\n",
        "\n",
        "    def forward(self, x):\n",
        "        # make sure input tensor is flattened\n",
        "        x = x.view(x.shape[0], -1)\n",
        "\n",
        "        # Now with dropout\n",
        "        x = self.dropout(F.relu(self.fc1(x)))\n",
        "        x = self.dropout(F.relu(self.fc2(x)))\n",
        "        x = self.dropout(F.relu(self.fc3(x)))\n",
        "\n",
        "        # output so no dropout here\n",
        "        x = F.log_softmax(self.fc4(x), dim=1)\n",
        "\n",
        "        return x\n",
        "        \n",
        "model=CNN()\n",
        "optimizer=optim.Adam(model.parameters(),lr=0.01)\n",
        "criterion=nn.NLLLoss()"
      ],
      "execution_count": 236,
      "outputs": []
    },
    {
      "cell_type": "markdown",
      "metadata": {
        "_uuid": "2bea512cd5bd9f4f41bd77044f471e644505a5fa",
        "id": "wr91w0-X4DCz"
      },
      "source": [
        "## Train "
      ]
    },
    {
      "cell_type": "code",
      "metadata": {
        "_uuid": "2df4882ed86f9b17b4bba52d56adfde46d1f718d",
        "id": "9x_1PS6x4DC0",
        "outputId": "3a73f691-f2e0-4a5a-b377-25472ae66694",
        "colab": {
          "base_uri": "https://localhost:8080/",
          "height": 185
        }
      },
      "source": [
        "epochs=10\n",
        "train_losses,test_losses=[],[]\n",
        "for e in range(epochs):\n",
        "    running_loss=0\n",
        "    for images,labels in train_loader:\n",
        "        optimizer.zero_grad()\n",
        "        log_ps=model(images)\n",
        "        loss=criterion(log_ps,labels)\n",
        "        loss.backward()\n",
        "        optimizer.step()\n",
        "        running_loss+=loss.item()\n",
        "        \n",
        "    else:\n",
        "        test_loss=0\n",
        "        accuracy=0\n",
        "        \n",
        "        with torch.no_grad():\n",
        "            model.eval()\n",
        "            for images,labels in test_loader:\n",
        "                log_ps=model(images)\n",
        "                test_loss+=criterion(log_ps,labels)\n",
        "                ps=torch.exp(log_ps)\n",
        "                top_p,top_class=ps.topk(1,dim=1)\n",
        "                equals=top_class==labels.view(*top_class.shape)\n",
        "                accuracy+=torch.mean(equals.type(torch.FloatTensor))\n",
        "        model.train()\n",
        "        train_losses.append(running_loss/len(train_loader))\n",
        "        test_losses.append(test_loss/len(test_loader))\n",
        "\n",
        "        print(\"Epoch: {}/{}.. \".format(e+1, epochs),\n",
        "              \"Training Loss: {:.3f}.. \".format(running_loss/len(train_loader)),\n",
        "              \"Test Loss: {:.3f}.. \".format(test_loss/len(test_loader)),\n",
        "              \"Test Accuracy: {:.3f}\".format(accuracy/len(test_loader)))    "
      ],
      "execution_count": 237,
      "outputs": [
        {
          "output_type": "stream",
          "text": [
            "Epoch: 1/10..  Training Loss: 0.456..  Test Loss: 0.251..  Test Accuracy: 0.937\n",
            "Epoch: 2/10..  Training Loss: 0.320..  Test Loss: 0.218..  Test Accuracy: 0.943\n",
            "Epoch: 3/10..  Training Loss: 0.312..  Test Loss: 0.243..  Test Accuracy: 0.941\n",
            "Epoch: 4/10..  Training Loss: 0.291..  Test Loss: 0.225..  Test Accuracy: 0.952\n",
            "Epoch: 5/10..  Training Loss: 0.298..  Test Loss: 0.213..  Test Accuracy: 0.952\n",
            "Epoch: 6/10..  Training Loss: 0.290..  Test Loss: 0.253..  Test Accuracy: 0.942\n",
            "Epoch: 7/10..  Training Loss: 0.294..  Test Loss: 0.238..  Test Accuracy: 0.950\n",
            "Epoch: 8/10..  Training Loss: 0.270..  Test Loss: 0.201..  Test Accuracy: 0.954\n",
            "Epoch: 9/10..  Training Loss: 0.244..  Test Loss: 0.196..  Test Accuracy: 0.958\n",
            "Epoch: 10/10..  Training Loss: 0.241..  Test Loss: 0.231..  Test Accuracy: 0.963\n"
          ],
          "name": "stdout"
        }
      ]
    },
    {
      "cell_type": "markdown",
      "metadata": {
        "_uuid": "9373aea13cc5891684fb8b801cbcd0ac17eff458",
        "id": "_vC0Y7z34DC1"
      },
      "source": [
        "## Save our model"
      ]
    },
    {
      "cell_type": "code",
      "metadata": {
        "_uuid": "bfcc3f17cadca0bf48cec130586b907965905ed6",
        "id": "5gmUDHdA4DC2",
        "outputId": "5f470665-1588-498d-d7b6-e0b86f52a9fa",
        "colab": {
          "base_uri": "https://localhost:8080/",
          "height": 235
        }
      },
      "source": [
        "print(\"Our model: \\n\\n\", model, '\\n')\n",
        "print(\"The state dict keys: \\n\\n\", model.state_dict().keys())"
      ],
      "execution_count": 224,
      "outputs": [
        {
          "output_type": "stream",
          "text": [
            "Our model: \n",
            "\n",
            " Network(\n",
            "  (fc1): Linear(in_features=784, out_features=256, bias=True)\n",
            "  (fc2): Linear(in_features=256, out_features=128, bias=True)\n",
            "  (fc3): Linear(in_features=128, out_features=64, bias=True)\n",
            "  (fc4): Linear(in_features=64, out_features=10, bias=True)\n",
            "  (dropout): Dropout(p=0.2, inplace=False)\n",
            ") \n",
            "\n",
            "The state dict keys: \n",
            "\n",
            " odict_keys(['fc1.weight', 'fc1.bias', 'fc2.weight', 'fc2.bias', 'fc3.weight', 'fc3.bias', 'fc4.weight', 'fc4.bias'])\n"
          ],
          "name": "stdout"
        }
      ]
    },
    {
      "cell_type": "code",
      "metadata": {
        "_uuid": "f83335753469344d38ac362053a74fad30b0ca3e",
        "id": "5xfl0hTJ4DC3"
      },
      "source": [
        "torch.save(model.state_dict(), 'checkpoint.pth')"
      ],
      "execution_count": 225,
      "outputs": []
    },
    {
      "cell_type": "markdown",
      "metadata": {
        "_uuid": "70b1a508fd748a8823a9e1af57538e4cacb0621d",
        "id": "9zyso_in4DC4"
      },
      "source": [
        "## Load our model"
      ]
    },
    {
      "cell_type": "code",
      "metadata": {
        "_uuid": "abd854b1c8bfed532cb4e64578c40fd29dea9a36",
        "id": "nnS5Suqe4DC4",
        "outputId": "4cdedb3a-be40-44b5-b198-3be7566b4887",
        "colab": {
          "base_uri": "https://localhost:8080/",
          "height": 34
        }
      },
      "source": [
        "state_dict = torch.load('checkpoint.pth')\n",
        "print(state_dict.keys())"
      ],
      "execution_count": 226,
      "outputs": [
        {
          "output_type": "stream",
          "text": [
            "odict_keys(['fc1.weight', 'fc1.bias', 'fc2.weight', 'fc2.bias', 'fc3.weight', 'fc3.bias', 'fc4.weight', 'fc4.bias'])\n"
          ],
          "name": "stdout"
        }
      ]
    },
    {
      "cell_type": "code",
      "metadata": {
        "_uuid": "7a889737952161eb1834f521476f0f1c8448570a",
        "id": "0iHEd3Nk4DC6",
        "outputId": "c72a7d3a-26e5-48c3-e50a-0504a0c6a51f",
        "colab": {
          "base_uri": "https://localhost:8080/",
          "height": 34
        }
      },
      "source": [
        "model.load_state_dict(state_dict)"
      ],
      "execution_count": 227,
      "outputs": [
        {
          "output_type": "execute_result",
          "data": {
            "text/plain": [
              "<All keys matched successfully>"
            ]
          },
          "metadata": {
            "tags": []
          },
          "execution_count": 227
        }
      ]
    },
    {
      "cell_type": "code",
      "metadata": {
        "_uuid": "a08eff1adeb3a8f8f7a31356828ee732a557c3d5",
        "id": "EOVzZilI4DC7"
      },
      "source": [
        "checkpoint = {'input_size': 784,\n",
        "              'output_size': 10,\n",
        "              'hidden_layers': [256,128,64],\n",
        "              'state_dict': model.state_dict()}\n",
        "\n",
        "torch.save(checkpoint, 'checkpoint.pth')"
      ],
      "execution_count": 228,
      "outputs": []
    },
    {
      "cell_type": "markdown",
      "metadata": {
        "_uuid": "b3356c9580d6c01685a52a11f906ee1c9dbe7ef1",
        "id": "B-j6vcfk4DC9"
      },
      "source": [
        "## Load Test Data"
      ]
    },
    {
      "cell_type": "code",
      "metadata": {
        "_uuid": "34abb15aa48ad4f133ee15a2f9a5268b45692c36",
        "id": "8oA5JqIJ4DC9",
        "outputId": "88a87113-4796-40d1-de58-3670556ac8ca",
        "colab": {
          "base_uri": "https://localhost:8080/",
          "height": 34
        }
      },
      "source": [
        "test_images = pd.read_csv('/content/test.csv')\n",
        "test_image = test_images.loc[:,test_images.columns != \"label\"].values\n",
        "test_dataset = torch.from_numpy(test_image).type(torch.FloatTensor)/255\n",
        "print(test_dataset.shape)\n",
        "#test_dataset = torch.utils.data.TensorDataset(test_dataset)\n",
        "new_test_loader = torch.utils.data.DataLoader(test_dataset, batch_size = 100, shuffle = False)"
      ],
      "execution_count": 229,
      "outputs": [
        {
          "output_type": "stream",
          "text": [
            "torch.Size([28000, 784])\n"
          ],
          "name": "stdout"
        }
      ]
    },
    {
      "cell_type": "code",
      "metadata": {
        "_uuid": "790dd7f94c59a6de5441827b999b6cff6f686154",
        "id": "dwpwU0h04DC-"
      },
      "source": [
        "results = []\n",
        "with torch.no_grad():\n",
        "    model.eval()\n",
        "    for images in new_test_loader:\n",
        "        output = model(images)\n",
        "        ps = torch.exp(output)\n",
        "        top_p, top_class = ps.topk(1, dim = 1)\n",
        "        results += top_class.numpy().tolist()"
      ],
      "execution_count": 230,
      "outputs": []
    },
    {
      "cell_type": "markdown",
      "metadata": {
        "_uuid": "0f9b334b1c25c4bb1a48fda6b64634f1f90b7565",
        "id": "4ZwCEHs24DC_"
      },
      "source": [
        "## Check the results"
      ]
    },
    {
      "cell_type": "code",
      "metadata": {
        "_uuid": "56ffd3051274596232af3ca4d1a9ee7d6322881a",
        "id": "iJ2mowPf4DDA",
        "outputId": "05fe367d-26c9-4c08-c58d-cf3228c4463e",
        "colab": {
          "base_uri": "https://localhost:8080/",
          "height": 50
        }
      },
      "source": [
        "predictions = np.array(results).flatten()\n",
        "print(predictions[:5])\n",
        "print(predictions.shape)"
      ],
      "execution_count": 231,
      "outputs": [
        {
          "output_type": "stream",
          "text": [
            "[2 0 9 9 3]\n",
            "(28000,)\n"
          ],
          "name": "stdout"
        }
      ]
    },
    {
      "cell_type": "markdown",
      "metadata": {
        "_uuid": "f946013a3eab6274d1becd93dfe99aa9f7491cf9",
        "id": "dMLPVy7c4DDB"
      },
      "source": [
        "## Submit for Scoring"
      ]
    },
    {
      "cell_type": "code",
      "metadata": {
        "_uuid": "655160a6e2d490651c0fe70b8ba7480ed8ba1fcc",
        "id": "xFG3HrNH4DDC"
      },
      "source": [
        "submissions=pd.DataFrame({\"ImageId\": list(range(1,len(predictions)+1)),\n",
        "                         \"Label\": predictions})\n",
        "submissions.to_csv(\"my_submissions.csv\", index=False, header=True)"
      ],
      "execution_count": 232,
      "outputs": []
    },
    {
      "cell_type": "markdown",
      "metadata": {
        "_uuid": "177c548a264bbaaa76e216eeaf1d747db88b1030",
        "id": "psW9Ie4t4DDF"
      },
      "source": [
        "# Reference\n",
        "\n",
        "[Introduction to Pytorch-Udacity](https://github.com/udacity/deep-learning-v2-pytorch/tree/master/intro-to-pytorch)"
      ]
    }
  ]
}